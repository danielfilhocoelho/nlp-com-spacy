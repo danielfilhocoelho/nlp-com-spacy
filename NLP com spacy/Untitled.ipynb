{
 "cells": [
  {
   "cell_type": "code",
   "execution_count": 1,
   "metadata": {},
   "outputs": [],
   "source": [
    "import spacy"
   ]
  },
  {
   "cell_type": "code",
   "execution_count": 2,
   "metadata": {},
   "outputs": [
    {
     "data": {
      "text/plain": [
       "'2.2.4'"
      ]
     },
     "execution_count": 2,
     "metadata": {},
     "output_type": "execute_result"
    }
   ],
   "source": [
    "spacy.__version__"
   ]
  },
  {
   "cell_type": "code",
   "execution_count": 3,
   "metadata": {},
   "outputs": [
    {
     "name": "stdout",
     "output_type": "stream",
     "text": [
      "Collecting pt_core_news_sm==2.2.5\n",
      "  Downloading https://github.com/explosion/spacy-models/releases/download/pt_core_news_sm-2.2.5/pt_core_news_sm-2.2.5.tar.gz (21.2 MB)\n",
      "\u001b[K     |████████████████████████████████| 21.2 MB 3.4 MB/s eta 0:00:01\n",
      "\u001b[?25hRequirement already satisfied: spacy>=2.2.2 in /home/daniel/anaconda3/lib/python3.7/site-packages (from pt_core_news_sm==2.2.5) (2.2.4)\n",
      "Requirement already satisfied: preshed<3.1.0,>=3.0.2 in /home/daniel/anaconda3/lib/python3.7/site-packages (from spacy>=2.2.2->pt_core_news_sm==2.2.5) (3.0.2)\n",
      "Requirement already satisfied: plac<1.2.0,>=0.9.6 in /home/daniel/anaconda3/lib/python3.7/site-packages (from spacy>=2.2.2->pt_core_news_sm==2.2.5) (1.1.3)\n",
      "Requirement already satisfied: catalogue<1.1.0,>=0.0.7 in /home/daniel/anaconda3/lib/python3.7/site-packages (from spacy>=2.2.2->pt_core_news_sm==2.2.5) (1.0.0)\n",
      "Requirement already satisfied: tqdm<5.0.0,>=4.38.0 in /home/daniel/anaconda3/lib/python3.7/site-packages (from spacy>=2.2.2->pt_core_news_sm==2.2.5) (4.43.0)\n",
      "Requirement already satisfied: thinc==7.4.0 in /home/daniel/anaconda3/lib/python3.7/site-packages (from spacy>=2.2.2->pt_core_news_sm==2.2.5) (7.4.0)\n",
      "Requirement already satisfied: setuptools in /home/daniel/anaconda3/lib/python3.7/site-packages (from spacy>=2.2.2->pt_core_news_sm==2.2.5) (46.0.0.post20200309)\n",
      "Requirement already satisfied: cymem<2.1.0,>=2.0.2 in /home/daniel/anaconda3/lib/python3.7/site-packages (from spacy>=2.2.2->pt_core_news_sm==2.2.5) (2.0.3)\n",
      "Requirement already satisfied: blis<0.5.0,>=0.4.0 in /home/daniel/anaconda3/lib/python3.7/site-packages (from spacy>=2.2.2->pt_core_news_sm==2.2.5) (0.4.1)\n",
      "Requirement already satisfied: wasabi<1.1.0,>=0.4.0 in /home/daniel/anaconda3/lib/python3.7/site-packages (from spacy>=2.2.2->pt_core_news_sm==2.2.5) (0.6.0)\n",
      "Requirement already satisfied: murmurhash<1.1.0,>=0.28.0 in /home/daniel/anaconda3/lib/python3.7/site-packages (from spacy>=2.2.2->pt_core_news_sm==2.2.5) (1.0.2)\n",
      "Requirement already satisfied: numpy>=1.15.0 in /home/daniel/anaconda3/lib/python3.7/site-packages (from spacy>=2.2.2->pt_core_news_sm==2.2.5) (1.18.2)\n",
      "Requirement already satisfied: requests<3.0.0,>=2.13.0 in /home/daniel/anaconda3/lib/python3.7/site-packages (from spacy>=2.2.2->pt_core_news_sm==2.2.5) (2.23.0)\n",
      "Requirement already satisfied: srsly<1.1.0,>=1.0.2 in /home/daniel/anaconda3/lib/python3.7/site-packages (from spacy>=2.2.2->pt_core_news_sm==2.2.5) (1.0.2)\n",
      "Requirement already satisfied: importlib-metadata>=0.20; python_version < \"3.8\" in /home/daniel/anaconda3/lib/python3.7/site-packages (from catalogue<1.1.0,>=0.0.7->spacy>=2.2.2->pt_core_news_sm==2.2.5) (1.5.0)\n",
      "Requirement already satisfied: idna<3,>=2.5 in /home/daniel/anaconda3/lib/python3.7/site-packages (from requests<3.0.0,>=2.13.0->spacy>=2.2.2->pt_core_news_sm==2.2.5) (2.9)\n",
      "Requirement already satisfied: chardet<4,>=3.0.2 in /home/daniel/anaconda3/lib/python3.7/site-packages (from requests<3.0.0,>=2.13.0->spacy>=2.2.2->pt_core_news_sm==2.2.5) (3.0.4)\n",
      "Requirement already satisfied: certifi>=2017.4.17 in /home/daniel/anaconda3/lib/python3.7/site-packages (from requests<3.0.0,>=2.13.0->spacy>=2.2.2->pt_core_news_sm==2.2.5) (2020.4.5.1)\n",
      "Requirement already satisfied: urllib3!=1.25.0,!=1.25.1,<1.26,>=1.21.1 in /home/daniel/anaconda3/lib/python3.7/site-packages (from requests<3.0.0,>=2.13.0->spacy>=2.2.2->pt_core_news_sm==2.2.5) (1.25.8)\n",
      "Requirement already satisfied: zipp>=0.5 in /home/daniel/anaconda3/lib/python3.7/site-packages (from importlib-metadata>=0.20; python_version < \"3.8\"->catalogue<1.1.0,>=0.0.7->spacy>=2.2.2->pt_core_news_sm==2.2.5) (2.2.0)\n",
      "Building wheels for collected packages: pt-core-news-sm\n",
      "  Building wheel for pt-core-news-sm (setup.py) ... \u001b[?25ldone\n",
      "\u001b[?25h  Created wheel for pt-core-news-sm: filename=pt_core_news_sm-2.2.5-py3-none-any.whl size=21186283 sha256=a5b401c56785f376c6abe85930e7877ff603715e37a894943229a875a85cac0f\n",
      "  Stored in directory: /tmp/pip-ephem-wheel-cache-zn4vj_o9/wheels/c3/f9/0c/5c014a36941a00f5df5fc0756cb961d7c457a978e697a6ce3b\n",
      "Successfully built pt-core-news-sm\n",
      "Installing collected packages: pt-core-news-sm\n",
      "Successfully installed pt-core-news-sm-2.2.5\n",
      "\u001b[38;5;2m✔ Download and installation successful\u001b[0m\n",
      "You can now load the model via spacy.load('pt_core_news_sm')\n",
      "\u001b[38;5;2m✔ Linking successful\u001b[0m\n",
      "/home/daniel/anaconda3/lib/python3.7/site-packages/pt_core_news_sm -->\n",
      "/home/daniel/anaconda3/lib/python3.7/site-packages/spacy/data/pt\n",
      "You can now load the model via spacy.load('pt')\n"
     ]
    }
   ],
   "source": [
    "!python -m spacy download pt"
   ]
  },
  {
   "cell_type": "code",
   "execution_count": 3,
   "metadata": {},
   "outputs": [
    {
     "data": {
      "text/plain": [
       "<spacy.lang.pt.Portuguese at 0x7f13f20f4c50>"
      ]
     },
     "execution_count": 3,
     "metadata": {},
     "output_type": "execute_result"
    }
   ],
   "source": [
    "pln = spacy.load('pt')\n",
    "pln"
   ]
  },
  {
   "cell_type": "code",
   "execution_count": 4,
   "metadata": {},
   "outputs": [],
   "source": [
    "document = pln('Estou aprendendo processamento de linguagem natural, curso em Curitiba')"
   ]
  },
  {
   "cell_type": "code",
   "execution_count": 5,
   "metadata": {},
   "outputs": [
    {
     "name": "stdout",
     "output_type": "stream",
     "text": [
      "Estou\n",
      "aprendendo\n",
      "processamento\n",
      "de\n",
      "linguagem\n",
      "natural\n",
      ",\n",
      "curso\n",
      "em\n",
      "Curitiba\n"
     ]
    }
   ],
   "source": [
    "for token in document:\n",
    "    print(token.text)"
   ]
  },
  {
   "cell_type": "code",
   "execution_count": 6,
   "metadata": {},
   "outputs": [
    {
     "name": "stdout",
     "output_type": "stream",
     "text": [
      "Estou AUX\n",
      "aprendendo VERB\n",
      "processamento NOUN\n",
      "de ADP\n",
      "linguagem NOUN\n",
      "natural ADJ\n",
      ", PUNCT\n",
      "curso NOUN\n",
      "em ADP\n",
      "Curitiba PROPN\n"
     ]
    }
   ],
   "source": [
    "for token in document:\n",
    "    print(token.text , token.pos_)"
   ]
  },
  {
   "cell_type": "code",
   "execution_count": 7,
   "metadata": {},
   "outputs": [
    {
     "name": "stdout",
     "output_type": "stream",
     "text": [
      "Estou Estou AUX <aux>|V|PR|1S|IND|@FS-STA aux Xxxxx True True\n",
      "aprendendo aprender VERB <mv>|V|GER|@ICL-AUX< ROOT xxxx True False\n",
      "processamento processamento NOUN <np-idf>|N|M|S|@<ACC obj xxxx True False\n",
      "de de ADP PRP|@N< case xx True True\n",
      "linguagem linguagem NOUN <np-idf>|N|F|S|@P< nmod xxxx True False\n",
      "natural natural ADJ ADJ|F|S|@N< amod xxxx True False\n",
      ", , PUNCT PU|@PU punct , False False\n",
      "curso cursar NOUN <np-idf>|N|M|S|@N<PRED appos xxxx True False\n",
      "em em ADP PRP|@N< case xx True True\n",
      "Curitiba Curitiba PROPN PROP|M|S|@P< nmod Xxxxx True False\n"
     ]
    }
   ],
   "source": [
    "for token in document:\n",
    "    print(token.text, token.lemma_ , token.pos_ ,token.tag_ , token.dep_\n",
    "         , token.shape_ , token.is_alpha , token.is_stop)"
   ]
  },
  {
   "cell_type": "code",
   "execution_count": 8,
   "metadata": {},
   "outputs": [
    {
     "name": "stdout",
     "output_type": "stream",
     "text": [
      "Curitiba\n"
     ]
    }
   ],
   "source": [
    "for token in document:\n",
    "    if(token.pos_ == 'PROPN'):\n",
    "        print(token.text)"
   ]
  },
  {
   "cell_type": "code",
   "execution_count": 9,
   "metadata": {},
   "outputs": [
    {
     "name": "stdout",
     "output_type": "stream",
     "text": [
      "Estou  -->  Estou\n",
      "aprendendo  -->  aprender\n",
      "processamento  -->  processamento\n",
      "de  -->  de\n",
      "linguagem  -->  linguagem\n",
      "natural  -->  natural\n",
      ",  -->  ,\n",
      "curso  -->  cursar\n",
      "em  -->  em\n",
      "Curitiba  -->  Curitiba\n"
     ]
    }
   ],
   "source": [
    "for token in document:\n",
    "    print(token.text , ' --> ' , token.lemma_)"
   ]
  },
  {
   "cell_type": "code",
   "execution_count": 10,
   "metadata": {},
   "outputs": [
    {
     "data": {
      "text/plain": [
       "['encontrar', ',', 'encontrar', ',', 'encontrar', ',', 'encontrar']"
      ]
     },
     "execution_count": 10,
     "metadata": {},
     "output_type": "execute_result"
    }
   ],
   "source": [
    "doc = pln('encontrei ,encontraram , encontrarão , encontrariam')\n",
    "[token.lemma_ for token in doc]"
   ]
  },
  {
   "cell_type": "code",
   "execution_count": 11,
   "metadata": {},
   "outputs": [
    {
     "name": "stderr",
     "output_type": "stream",
     "text": [
      "[nltk_data] Downloading package rslp to /home/daniel/nltk_data...\n",
      "[nltk_data]   Package rslp is already up-to-date!\n"
     ]
    },
    {
     "data": {
      "text/plain": [
       "True"
      ]
     },
     "execution_count": 11,
     "metadata": {},
     "output_type": "execute_result"
    }
   ],
   "source": [
    "import nltk\n",
    "\n",
    "nltk.download('rslp')"
   ]
  },
  {
   "cell_type": "code",
   "execution_count": 12,
   "metadata": {},
   "outputs": [
    {
     "data": {
      "text/plain": [
       "'aprend'"
      ]
     },
     "execution_count": 12,
     "metadata": {},
     "output_type": "execute_result"
    }
   ],
   "source": [
    "stemmer = nltk.stem.RSLPStemmer()\n",
    "stemmer.stem('aprendendo')"
   ]
  },
  {
   "cell_type": "code",
   "execution_count": 13,
   "metadata": {},
   "outputs": [
    {
     "name": "stdout",
     "output_type": "stream",
     "text": [
      "PALAVRA // LEMA // STEAM\n",
      "\n",
      "Estou  --> Estou  //  est\n",
      "aprendendo  --> aprender  //  aprend\n",
      "processamento  --> processamento  //  process\n",
      "de  --> de  //  de\n",
      "linguagem  --> linguagem  //  lingu\n",
      "natural  --> natural  //  natur\n",
      ",  --> ,  //  ,\n",
      "curso  --> cursar  //  curs\n",
      "em  --> em  //  em\n",
      "Curitiba  --> Curitiba  //  curitib\n"
     ]
    }
   ],
   "source": [
    "print('PALAVRA // LEMA // STEAM\\n')\n",
    "for token in document:\n",
    "    print(token.text ,' -->' , token.lemma_ , ' // ' , stemmer.stem(token.text) )"
   ]
  },
  {
   "cell_type": "code",
   "execution_count": 14,
   "metadata": {},
   "outputs": [],
   "source": [
    "texto = 'A IBM é uma empresa dos Estados Unidos voltada para a área de informática. Sua sede no Brasil fica em São Paulo e a receita em 2018 foi de aproximadamente 320 bilhões de reais'"
   ]
  },
  {
   "cell_type": "code",
   "execution_count": 15,
   "metadata": {},
   "outputs": [],
   "source": [
    "document = pln(texto)"
   ]
  },
  {
   "cell_type": "code",
   "execution_count": 16,
   "metadata": {},
   "outputs": [
    {
     "name": "stdout",
     "output_type": "stream",
     "text": [
      "IBM  -->  ORG\n",
      "Estados Unidos  -->  LOC\n",
      "Brasil  -->  LOC\n",
      "São Paulo  -->  LOC\n"
     ]
    }
   ],
   "source": [
    "for entidade in document.ents:\n",
    "    print(entidade.text ,' --> ' , entidade.label_)"
   ]
  },
  {
   "cell_type": "code",
   "execution_count": 17,
   "metadata": {},
   "outputs": [
    {
     "data": {
      "text/html": [
       "<span class=\"tex2jax_ignore\"><div class=\"entities\" style=\"line-height: 2.5; direction: ltr\">A \n",
       "<mark class=\"entity\" style=\"background: #7aecec; padding: 0.45em 0.6em; margin: 0 0.25em; line-height: 1; border-radius: 0.35em;\">\n",
       "    IBM\n",
       "    <span style=\"font-size: 0.8em; font-weight: bold; line-height: 1; border-radius: 0.35em; text-transform: uppercase; vertical-align: middle; margin-left: 0.5rem\">ORG</span>\n",
       "</mark>\n",
       " é uma empresa dos \n",
       "<mark class=\"entity\" style=\"background: #ff9561; padding: 0.45em 0.6em; margin: 0 0.25em; line-height: 1; border-radius: 0.35em;\">\n",
       "    Estados Unidos\n",
       "    <span style=\"font-size: 0.8em; font-weight: bold; line-height: 1; border-radius: 0.35em; text-transform: uppercase; vertical-align: middle; margin-left: 0.5rem\">LOC</span>\n",
       "</mark>\n",
       " voltada para a área de informática. Sua sede no \n",
       "<mark class=\"entity\" style=\"background: #ff9561; padding: 0.45em 0.6em; margin: 0 0.25em; line-height: 1; border-radius: 0.35em;\">\n",
       "    Brasil\n",
       "    <span style=\"font-size: 0.8em; font-weight: bold; line-height: 1; border-radius: 0.35em; text-transform: uppercase; vertical-align: middle; margin-left: 0.5rem\">LOC</span>\n",
       "</mark>\n",
       " fica em \n",
       "<mark class=\"entity\" style=\"background: #ff9561; padding: 0.45em 0.6em; margin: 0 0.25em; line-height: 1; border-radius: 0.35em;\">\n",
       "    São Paulo\n",
       "    <span style=\"font-size: 0.8em; font-weight: bold; line-height: 1; border-radius: 0.35em; text-transform: uppercase; vertical-align: middle; margin-left: 0.5rem\">LOC</span>\n",
       "</mark>\n",
       " e a receita em 2018 foi de aproximadamente 320 bilhões de reais</div></span>"
      ],
      "text/plain": [
       "<IPython.core.display.HTML object>"
      ]
     },
     "metadata": {},
     "output_type": "display_data"
    }
   ],
   "source": [
    "from spacy import displacy \n",
    "displacy.render(document , style = 'ent' , jupyter = 'True')"
   ]
  },
  {
   "cell_type": "code",
   "execution_count": 18,
   "metadata": {},
   "outputs": [],
   "source": [
    "texto = 'Bill Gates nasceu em Seattle em 28/10/1955 e foi o criador da Microsoft'"
   ]
  },
  {
   "cell_type": "code",
   "execution_count": 19,
   "metadata": {},
   "outputs": [],
   "source": [
    "document = pln(texto)"
   ]
  },
  {
   "cell_type": "code",
   "execution_count": 20,
   "metadata": {},
   "outputs": [
    {
     "name": "stdout",
     "output_type": "stream",
     "text": [
      "Bill Gates  -->  PER\n",
      "Seattle  -->  LOC\n",
      "Microsoft  -->  ORG\n"
     ]
    }
   ],
   "source": [
    "for entidade in document.ents:\n",
    "    print(entidade.text , ' --> ', entidade.label_)"
   ]
  },
  {
   "cell_type": "code",
   "execution_count": 21,
   "metadata": {},
   "outputs": [
    {
     "data": {
      "text/html": [
       "<span class=\"tex2jax_ignore\"><div class=\"entities\" style=\"line-height: 2.5; direction: ltr\">\n",
       "<mark class=\"entity\" style=\"background: #ddd; padding: 0.45em 0.6em; margin: 0 0.25em; line-height: 1; border-radius: 0.35em;\">\n",
       "    Bill Gates\n",
       "    <span style=\"font-size: 0.8em; font-weight: bold; line-height: 1; border-radius: 0.35em; text-transform: uppercase; vertical-align: middle; margin-left: 0.5rem\">PER</span>\n",
       "</mark>\n",
       " nasceu em \n",
       "<mark class=\"entity\" style=\"background: #ff9561; padding: 0.45em 0.6em; margin: 0 0.25em; line-height: 1; border-radius: 0.35em;\">\n",
       "    Seattle\n",
       "    <span style=\"font-size: 0.8em; font-weight: bold; line-height: 1; border-radius: 0.35em; text-transform: uppercase; vertical-align: middle; margin-left: 0.5rem\">LOC</span>\n",
       "</mark>\n",
       " em 28/10/1955 e foi o criador da \n",
       "<mark class=\"entity\" style=\"background: #7aecec; padding: 0.45em 0.6em; margin: 0 0.25em; line-height: 1; border-radius: 0.35em;\">\n",
       "    Microsoft\n",
       "    <span style=\"font-size: 0.8em; font-weight: bold; line-height: 1; border-radius: 0.35em; text-transform: uppercase; vertical-align: middle; margin-left: 0.5rem\">ORG</span>\n",
       "</mark>\n",
       "</div></span>"
      ],
      "text/plain": [
       "<IPython.core.display.HTML object>"
      ]
     },
     "metadata": {},
     "output_type": "display_data"
    }
   ],
   "source": [
    "from spacy import displacy \n",
    "displacy.render(document , style = 'ent' , jupyter = 'True')"
   ]
  },
  {
   "cell_type": "code",
   "execution_count": 22,
   "metadata": {},
   "outputs": [
    {
     "name": "stdout",
     "output_type": "stream",
     "text": [
      "Bill Gates\n"
     ]
    }
   ],
   "source": [
    "for entidade in document.ents:\n",
    "    if(entidade.label_ == 'PER'):\n",
    "        print(entidade.text)"
   ]
  },
  {
   "cell_type": "code",
   "execution_count": 23,
   "metadata": {},
   "outputs": [],
   "source": [
    "from spacy.lang.pt.stop_words import STOP_WORDS"
   ]
  },
  {
   "cell_type": "code",
   "execution_count": 24,
   "metadata": {},
   "outputs": [
    {
     "data": {
      "text/plain": [
       "{'acerca',\n",
       " 'ademais',\n",
       " 'adeus',\n",
       " 'agora',\n",
       " 'ainda',\n",
       " 'algo',\n",
       " 'algumas',\n",
       " 'alguns',\n",
       " 'ali',\n",
       " 'além',\n",
       " 'ambas',\n",
       " 'ambos',\n",
       " 'antes',\n",
       " 'ao',\n",
       " 'aos',\n",
       " 'apenas',\n",
       " 'apoia',\n",
       " 'apoio',\n",
       " 'apontar',\n",
       " 'após',\n",
       " 'aquela',\n",
       " 'aquelas',\n",
       " 'aquele',\n",
       " 'aqueles',\n",
       " 'aqui',\n",
       " 'aquilo',\n",
       " 'as',\n",
       " 'assim',\n",
       " 'através',\n",
       " 'atrás',\n",
       " 'até',\n",
       " 'aí',\n",
       " 'baixo',\n",
       " 'bastante',\n",
       " 'bem',\n",
       " 'boa',\n",
       " 'bom',\n",
       " 'breve',\n",
       " 'cada',\n",
       " 'caminho',\n",
       " 'catorze',\n",
       " 'cedo',\n",
       " 'cento',\n",
       " 'certamente',\n",
       " 'certeza',\n",
       " 'cima',\n",
       " 'cinco',\n",
       " 'coisa',\n",
       " 'com',\n",
       " 'como',\n",
       " 'comprida',\n",
       " 'comprido',\n",
       " 'conhecida',\n",
       " 'conhecido',\n",
       " 'conselho',\n",
       " 'contra',\n",
       " 'contudo',\n",
       " 'corrente',\n",
       " 'cuja',\n",
       " 'cujo',\n",
       " 'custa',\n",
       " 'cá',\n",
       " 'da',\n",
       " 'daquela',\n",
       " 'daquele',\n",
       " 'dar',\n",
       " 'das',\n",
       " 'de',\n",
       " 'debaixo',\n",
       " 'demais',\n",
       " 'dentro',\n",
       " 'depois',\n",
       " 'des',\n",
       " 'desde',\n",
       " 'dessa',\n",
       " 'desse',\n",
       " 'desta',\n",
       " 'deste',\n",
       " 'deve',\n",
       " 'devem',\n",
       " 'deverá',\n",
       " 'dez',\n",
       " 'dezanove',\n",
       " 'dezasseis',\n",
       " 'dezassete',\n",
       " 'dezoito',\n",
       " 'diante',\n",
       " 'direita',\n",
       " 'disso',\n",
       " 'diz',\n",
       " 'dizem',\n",
       " 'dizer',\n",
       " 'do',\n",
       " 'dois',\n",
       " 'dos',\n",
       " 'doze',\n",
       " 'duas',\n",
       " 'dá',\n",
       " 'dão',\n",
       " 'ela',\n",
       " 'elas',\n",
       " 'ele',\n",
       " 'eles',\n",
       " 'em',\n",
       " 'embora',\n",
       " 'enquanto',\n",
       " 'entre',\n",
       " 'então',\n",
       " 'era',\n",
       " 'essa',\n",
       " 'essas',\n",
       " 'esse',\n",
       " 'esses',\n",
       " 'esta',\n",
       " 'estado',\n",
       " 'estar',\n",
       " 'estará',\n",
       " 'estas',\n",
       " 'estava',\n",
       " 'este',\n",
       " 'estes',\n",
       " 'esteve',\n",
       " 'estive',\n",
       " 'estivemos',\n",
       " 'estiveram',\n",
       " 'estiveste',\n",
       " 'estivestes',\n",
       " 'estou',\n",
       " 'está',\n",
       " 'estás',\n",
       " 'estão',\n",
       " 'eu',\n",
       " 'eventual',\n",
       " 'exemplo',\n",
       " 'falta',\n",
       " 'fará',\n",
       " 'favor',\n",
       " 'faz',\n",
       " 'fazeis',\n",
       " 'fazem',\n",
       " 'fazemos',\n",
       " 'fazer',\n",
       " 'fazes',\n",
       " 'fazia',\n",
       " 'faço',\n",
       " 'fez',\n",
       " 'fim',\n",
       " 'final',\n",
       " 'foi',\n",
       " 'fomos',\n",
       " 'for',\n",
       " 'fora',\n",
       " 'foram',\n",
       " 'forma',\n",
       " 'foste',\n",
       " 'fostes',\n",
       " 'fui',\n",
       " 'geral',\n",
       " 'grande',\n",
       " 'grandes',\n",
       " 'grupo',\n",
       " 'inclusive',\n",
       " 'iniciar',\n",
       " 'inicio',\n",
       " 'ir',\n",
       " 'irá',\n",
       " 'isso',\n",
       " 'isto',\n",
       " 'já',\n",
       " 'lado',\n",
       " 'lhe',\n",
       " 'ligado',\n",
       " 'local',\n",
       " 'logo',\n",
       " 'longe',\n",
       " 'lugar',\n",
       " 'lá',\n",
       " 'maior',\n",
       " 'maioria',\n",
       " 'maiorias',\n",
       " 'mais',\n",
       " 'mal',\n",
       " 'mas',\n",
       " 'me',\n",
       " 'meio',\n",
       " 'menor',\n",
       " 'menos',\n",
       " 'meses',\n",
       " 'mesmo',\n",
       " 'meu',\n",
       " 'meus',\n",
       " 'mil',\n",
       " 'minha',\n",
       " 'minhas',\n",
       " 'momento',\n",
       " 'muito',\n",
       " 'muitos',\n",
       " 'máximo',\n",
       " 'mês',\n",
       " 'na',\n",
       " 'nada',\n",
       " 'naquela',\n",
       " 'naquele',\n",
       " 'nas',\n",
       " 'nem',\n",
       " 'nenhuma',\n",
       " 'nessa',\n",
       " 'nesse',\n",
       " 'nesta',\n",
       " 'neste',\n",
       " 'no',\n",
       " 'nos',\n",
       " 'nossa',\n",
       " 'nossas',\n",
       " 'nosso',\n",
       " 'nossos',\n",
       " 'nova',\n",
       " 'novas',\n",
       " 'nove',\n",
       " 'novo',\n",
       " 'novos',\n",
       " 'num',\n",
       " 'numa',\n",
       " 'nunca',\n",
       " 'nuns',\n",
       " 'não',\n",
       " 'nível',\n",
       " 'nós',\n",
       " 'número',\n",
       " 'números',\n",
       " 'obrigada',\n",
       " 'obrigado',\n",
       " 'oitava',\n",
       " 'oitavo',\n",
       " 'oito',\n",
       " 'onde',\n",
       " 'ontem',\n",
       " 'onze',\n",
       " 'ora',\n",
       " 'os',\n",
       " 'ou',\n",
       " 'outra',\n",
       " 'outras',\n",
       " 'outros',\n",
       " 'para',\n",
       " 'parece',\n",
       " 'parte',\n",
       " 'partir',\n",
       " 'pegar',\n",
       " 'pela',\n",
       " 'pelas',\n",
       " 'pelo',\n",
       " 'pelos',\n",
       " 'perto',\n",
       " 'pode',\n",
       " 'podem',\n",
       " 'poder',\n",
       " 'poderá',\n",
       " 'podia',\n",
       " 'pois',\n",
       " 'ponto',\n",
       " 'pontos',\n",
       " 'por',\n",
       " 'porquanto',\n",
       " 'porque',\n",
       " 'porquê',\n",
       " 'portanto',\n",
       " 'porém',\n",
       " 'posição',\n",
       " 'possivelmente',\n",
       " 'posso',\n",
       " 'possível',\n",
       " 'pouca',\n",
       " 'pouco',\n",
       " 'povo',\n",
       " 'primeira',\n",
       " 'primeiro',\n",
       " 'próprio',\n",
       " 'próxima',\n",
       " 'próximo',\n",
       " 'puderam',\n",
       " 'pôde',\n",
       " 'põe',\n",
       " 'põem',\n",
       " 'quais',\n",
       " 'qual',\n",
       " 'qualquer',\n",
       " 'quando',\n",
       " 'quanto',\n",
       " 'quarta',\n",
       " 'quarto',\n",
       " 'quatro',\n",
       " 'que',\n",
       " 'quem',\n",
       " 'quer',\n",
       " 'querem',\n",
       " 'quero',\n",
       " 'questão',\n",
       " 'quieta',\n",
       " 'quieto',\n",
       " 'quinta',\n",
       " 'quinto',\n",
       " 'quinze',\n",
       " 'quê',\n",
       " 'relação',\n",
       " 'sabe',\n",
       " 'saber',\n",
       " 'se',\n",
       " 'segunda',\n",
       " 'segundo',\n",
       " 'sei',\n",
       " 'seis',\n",
       " 'sem',\n",
       " 'sempre',\n",
       " 'ser',\n",
       " 'seria',\n",
       " 'sete',\n",
       " 'seu',\n",
       " 'seus',\n",
       " 'sexta',\n",
       " 'sexto',\n",
       " 'sim',\n",
       " 'sistema',\n",
       " 'sob',\n",
       " 'sobre',\n",
       " 'sois',\n",
       " 'somente',\n",
       " 'somos',\n",
       " 'sou',\n",
       " 'sua',\n",
       " 'suas',\n",
       " 'são',\n",
       " 'sétima',\n",
       " 'sétimo',\n",
       " 'só',\n",
       " 'tais',\n",
       " 'tal',\n",
       " 'talvez',\n",
       " 'também',\n",
       " 'tanta',\n",
       " 'tanto',\n",
       " 'tarde',\n",
       " 'te',\n",
       " 'tem',\n",
       " 'temos',\n",
       " 'tempo',\n",
       " 'tendes',\n",
       " 'tenho',\n",
       " 'tens',\n",
       " 'tentar',\n",
       " 'tentaram',\n",
       " 'tente',\n",
       " 'tentei',\n",
       " 'ter',\n",
       " 'terceira',\n",
       " 'terceiro',\n",
       " 'teu',\n",
       " 'teus',\n",
       " 'teve',\n",
       " 'tipo',\n",
       " 'tive',\n",
       " 'tivemos',\n",
       " 'tiveram',\n",
       " 'tiveste',\n",
       " 'tivestes',\n",
       " 'toda',\n",
       " 'todas',\n",
       " 'todo',\n",
       " 'todos',\n",
       " 'treze',\n",
       " 'três',\n",
       " 'tu',\n",
       " 'tua',\n",
       " 'tuas',\n",
       " 'tudo',\n",
       " 'tão',\n",
       " 'têm',\n",
       " 'um',\n",
       " 'uma',\n",
       " 'umas',\n",
       " 'uns',\n",
       " 'usa',\n",
       " 'usar',\n",
       " 'vai',\n",
       " 'vais',\n",
       " 'valor',\n",
       " 'veja',\n",
       " 'vem',\n",
       " 'vens',\n",
       " 'ver',\n",
       " 'vez',\n",
       " 'vezes',\n",
       " 'vinda',\n",
       " 'vindo',\n",
       " 'vinte',\n",
       " 'você',\n",
       " 'vocês',\n",
       " 'vos',\n",
       " 'vossa',\n",
       " 'vossas',\n",
       " 'vosso',\n",
       " 'vossos',\n",
       " 'vários',\n",
       " 'vão',\n",
       " 'vêm',\n",
       " 'vós',\n",
       " 'zero',\n",
       " 'à',\n",
       " 'às',\n",
       " 'área',\n",
       " 'é',\n",
       " 'és',\n",
       " 'último'}"
      ]
     },
     "execution_count": 24,
     "metadata": {},
     "output_type": "execute_result"
    }
   ],
   "source": [
    "STOP_WORDS"
   ]
  },
  {
   "cell_type": "code",
   "execution_count": 25,
   "metadata": {},
   "outputs": [
    {
     "data": {
      "text/plain": [
       "413"
      ]
     },
     "execution_count": 25,
     "metadata": {},
     "output_type": "execute_result"
    }
   ],
   "source": [
    "len(STOP_WORDS)"
   ]
  },
  {
   "cell_type": "code",
   "execution_count": 26,
   "metadata": {},
   "outputs": [
    {
     "data": {
      "text/plain": [
       "True"
      ]
     },
     "execution_count": 26,
     "metadata": {},
     "output_type": "execute_result"
    }
   ],
   "source": [
    "pln.vocab['ir'].is_stop"
   ]
  },
  {
   "cell_type": "code",
   "execution_count": 27,
   "metadata": {},
   "outputs": [
    {
     "data": {
      "text/plain": [
       "False"
      ]
     },
     "execution_count": 27,
     "metadata": {},
     "output_type": "execute_result"
    }
   ],
   "source": [
    "pln.vocab['razão'].is_stop"
   ]
  },
  {
   "cell_type": "code",
   "execution_count": 28,
   "metadata": {},
   "outputs": [
    {
     "name": "stdout",
     "output_type": "stream",
     "text": [
      "Bill\n",
      "Gates\n",
      "nasceu\n",
      "Seattle\n",
      "28/10/1955\n",
      "e\n",
      "o\n",
      "criador\n",
      "Microsoft\n"
     ]
    }
   ],
   "source": [
    "for token in document:\n",
    "    if(not pln.vocab[token.text].is_stop):\n",
    "        print(token.text)"
   ]
  },
  {
   "cell_type": "code",
   "execution_count": 29,
   "metadata": {},
   "outputs": [],
   "source": [
    "document = pln('Reserve uma passagem saindo de Guarulhos e chegando em Curitiba')"
   ]
  },
  {
   "cell_type": "code",
   "execution_count": 30,
   "metadata": {},
   "outputs": [],
   "source": [
    "origem = document[5]\n",
    "destino = document[9]"
   ]
  },
  {
   "cell_type": "code",
   "execution_count": 31,
   "metadata": {},
   "outputs": [
    {
     "data": {
      "text/plain": [
       "(Guarulhos, Curitiba)"
      ]
     },
     "execution_count": 31,
     "metadata": {},
     "output_type": "execute_result"
    }
   ],
   "source": [
    "origem , destino"
   ]
  },
  {
   "cell_type": "code",
   "execution_count": 32,
   "metadata": {},
   "outputs": [
    {
     "data": {
      "text/plain": [
       "[passagem, Reserve]"
      ]
     },
     "execution_count": 32,
     "metadata": {},
     "output_type": "execute_result"
    }
   ],
   "source": [
    "list(origem.ancestors)"
   ]
  },
  {
   "cell_type": "code",
   "execution_count": 33,
   "metadata": {},
   "outputs": [
    {
     "data": {
      "text/plain": [
       "[chegando, Reserve]"
      ]
     },
     "execution_count": 33,
     "metadata": {},
     "output_type": "execute_result"
    }
   ],
   "source": [
    "list(destino.ancestors)"
   ]
  },
  {
   "cell_type": "code",
   "execution_count": 34,
   "metadata": {},
   "outputs": [
    {
     "data": {
      "text/plain": [
       "True"
      ]
     },
     "execution_count": 34,
     "metadata": {},
     "output_type": "execute_result"
    }
   ],
   "source": [
    "document[0].is_ancestor(document[2])"
   ]
  },
  {
   "cell_type": "code",
   "execution_count": 35,
   "metadata": {},
   "outputs": [],
   "source": [
    "document = pln('Reserva de uma mesa para o restaurante e de um táxi para o hotel')"
   ]
  },
  {
   "cell_type": "code",
   "execution_count": 36,
   "metadata": {},
   "outputs": [
    {
     "data": {
      "text/plain": [
       "14"
      ]
     },
     "execution_count": 36,
     "metadata": {},
     "output_type": "execute_result"
    }
   ],
   "source": [
    "len(document)"
   ]
  },
  {
   "cell_type": "code",
   "execution_count": 37,
   "metadata": {},
   "outputs": [
    {
     "data": {
      "text/plain": [
       "spacy.tokens.doc.Doc"
      ]
     },
     "execution_count": 37,
     "metadata": {},
     "output_type": "execute_result"
    }
   ],
   "source": [
    "type(document)"
   ]
  },
  {
   "cell_type": "code",
   "execution_count": 38,
   "metadata": {},
   "outputs": [],
   "source": [
    "tarefas = document[3] , document[10]\n",
    "locais = document[6] , document[13]"
   ]
  },
  {
   "cell_type": "code",
   "execution_count": 39,
   "metadata": {},
   "outputs": [
    {
     "data": {
      "text/plain": [
       "((mesa, táxi), (restaurante, hotel))"
      ]
     },
     "execution_count": 39,
     "metadata": {},
     "output_type": "execute_result"
    }
   ],
   "source": [
    "tarefas, locais"
   ]
  },
  {
   "cell_type": "code",
   "execution_count": 40,
   "metadata": {},
   "outputs": [
    {
     "name": "stdout",
     "output_type": "stream",
     "text": [
      "---- restaurante\n",
      "mesa\n",
      "Reserva\n",
      "---- hotel\n",
      "táxi\n",
      "restaurante\n",
      "mesa\n",
      "Reserva\n"
     ]
    }
   ],
   "source": [
    "for l in locais:\n",
    "    print('----' , l)\n",
    "    for obj in l.ancestors:\n",
    "        print(obj)"
   ]
  },
  {
   "cell_type": "code",
   "execution_count": 41,
   "metadata": {},
   "outputs": [
    {
     "name": "stdout",
     "output_type": "stream",
     "text": [
      "Reserva de mesa é para o restaurante\n",
      "Reserva de táxi é para o hotel\n"
     ]
    }
   ],
   "source": [
    "for l in locais:\n",
    "    for obj in l.ancestors:\n",
    "        if(obj in tarefas):\n",
    "            print(\"Reserva de {} é para o {}\".format(obj,l))\n",
    "            break"
   ]
  },
  {
   "cell_type": "code",
   "execution_count": 43,
   "metadata": {},
   "outputs": [
    {
     "data": {
      "text/plain": [
       "[para, o, táxi]"
      ]
     },
     "execution_count": 43,
     "metadata": {},
     "output_type": "execute_result"
    }
   ],
   "source": [
    "list(document[6].children)"
   ]
  },
  {
   "cell_type": "code",
   "execution_count": 44,
   "metadata": {},
   "outputs": [],
   "source": [
    "from spacy import displacy\n"
   ]
  },
  {
   "cell_type": "code",
   "execution_count": 45,
   "metadata": {},
   "outputs": [],
   "source": [
    "document = pln('Reserva de uma mesa para o restaurante e de um táxi para o hotel')"
   ]
  },
  {
   "cell_type": "code",
   "execution_count": 46,
   "metadata": {},
   "outputs": [
    {
     "data": {
      "text/html": [
       "<span class=\"tex2jax_ignore\"><svg xmlns=\"http://www.w3.org/2000/svg\" xmlns:xlink=\"http://www.w3.org/1999/xlink\" xml:lang=\"pt\" id=\"ec68195d436d45b9a391024c0ca407b7-0\" class=\"displacy\" width=\"1310\" height=\"317.0\" direction=\"ltr\" style=\"max-width: none; height: 317.0px; color: #000000; background: #ffffff; font-family: Arial; direction: ltr\">\n",
       "<text class=\"displacy-token\" fill=\"currentColor\" text-anchor=\"middle\" y=\"227.0\">\n",
       "    <tspan class=\"displacy-word\" fill=\"currentColor\" x=\"50\">Reserva</tspan>\n",
       "    <tspan class=\"displacy-tag\" dy=\"2em\" fill=\"currentColor\" x=\"50\">NOUN</tspan>\n",
       "</text>\n",
       "\n",
       "<text class=\"displacy-token\" fill=\"currentColor\" text-anchor=\"middle\" y=\"227.0\">\n",
       "    <tspan class=\"displacy-word\" fill=\"currentColor\" x=\"140\">de</tspan>\n",
       "    <tspan class=\"displacy-tag\" dy=\"2em\" fill=\"currentColor\" x=\"140\">ADP</tspan>\n",
       "</text>\n",
       "\n",
       "<text class=\"displacy-token\" fill=\"currentColor\" text-anchor=\"middle\" y=\"227.0\">\n",
       "    <tspan class=\"displacy-word\" fill=\"currentColor\" x=\"230\">uma</tspan>\n",
       "    <tspan class=\"displacy-tag\" dy=\"2em\" fill=\"currentColor\" x=\"230\">DET</tspan>\n",
       "</text>\n",
       "\n",
       "<text class=\"displacy-token\" fill=\"currentColor\" text-anchor=\"middle\" y=\"227.0\">\n",
       "    <tspan class=\"displacy-word\" fill=\"currentColor\" x=\"320\">mesa</tspan>\n",
       "    <tspan class=\"displacy-tag\" dy=\"2em\" fill=\"currentColor\" x=\"320\">NOUN</tspan>\n",
       "</text>\n",
       "\n",
       "<text class=\"displacy-token\" fill=\"currentColor\" text-anchor=\"middle\" y=\"227.0\">\n",
       "    <tspan class=\"displacy-word\" fill=\"currentColor\" x=\"410\">para</tspan>\n",
       "    <tspan class=\"displacy-tag\" dy=\"2em\" fill=\"currentColor\" x=\"410\">ADP</tspan>\n",
       "</text>\n",
       "\n",
       "<text class=\"displacy-token\" fill=\"currentColor\" text-anchor=\"middle\" y=\"227.0\">\n",
       "    <tspan class=\"displacy-word\" fill=\"currentColor\" x=\"500\">o</tspan>\n",
       "    <tspan class=\"displacy-tag\" dy=\"2em\" fill=\"currentColor\" x=\"500\">DET</tspan>\n",
       "</text>\n",
       "\n",
       "<text class=\"displacy-token\" fill=\"currentColor\" text-anchor=\"middle\" y=\"227.0\">\n",
       "    <tspan class=\"displacy-word\" fill=\"currentColor\" x=\"590\">restaurante</tspan>\n",
       "    <tspan class=\"displacy-tag\" dy=\"2em\" fill=\"currentColor\" x=\"590\">NOUN</tspan>\n",
       "</text>\n",
       "\n",
       "<text class=\"displacy-token\" fill=\"currentColor\" text-anchor=\"middle\" y=\"227.0\">\n",
       "    <tspan class=\"displacy-word\" fill=\"currentColor\" x=\"680\">e</tspan>\n",
       "    <tspan class=\"displacy-tag\" dy=\"2em\" fill=\"currentColor\" x=\"680\">CCONJ</tspan>\n",
       "</text>\n",
       "\n",
       "<text class=\"displacy-token\" fill=\"currentColor\" text-anchor=\"middle\" y=\"227.0\">\n",
       "    <tspan class=\"displacy-word\" fill=\"currentColor\" x=\"770\">de</tspan>\n",
       "    <tspan class=\"displacy-tag\" dy=\"2em\" fill=\"currentColor\" x=\"770\">ADP</tspan>\n",
       "</text>\n",
       "\n",
       "<text class=\"displacy-token\" fill=\"currentColor\" text-anchor=\"middle\" y=\"227.0\">\n",
       "    <tspan class=\"displacy-word\" fill=\"currentColor\" x=\"860\">um</tspan>\n",
       "    <tspan class=\"displacy-tag\" dy=\"2em\" fill=\"currentColor\" x=\"860\">DET</tspan>\n",
       "</text>\n",
       "\n",
       "<text class=\"displacy-token\" fill=\"currentColor\" text-anchor=\"middle\" y=\"227.0\">\n",
       "    <tspan class=\"displacy-word\" fill=\"currentColor\" x=\"950\">táxi</tspan>\n",
       "    <tspan class=\"displacy-tag\" dy=\"2em\" fill=\"currentColor\" x=\"950\">NOUN</tspan>\n",
       "</text>\n",
       "\n",
       "<text class=\"displacy-token\" fill=\"currentColor\" text-anchor=\"middle\" y=\"227.0\">\n",
       "    <tspan class=\"displacy-word\" fill=\"currentColor\" x=\"1040\">para</tspan>\n",
       "    <tspan class=\"displacy-tag\" dy=\"2em\" fill=\"currentColor\" x=\"1040\">ADP</tspan>\n",
       "</text>\n",
       "\n",
       "<text class=\"displacy-token\" fill=\"currentColor\" text-anchor=\"middle\" y=\"227.0\">\n",
       "    <tspan class=\"displacy-word\" fill=\"currentColor\" x=\"1130\">o</tspan>\n",
       "    <tspan class=\"displacy-tag\" dy=\"2em\" fill=\"currentColor\" x=\"1130\">DET</tspan>\n",
       "</text>\n",
       "\n",
       "<text class=\"displacy-token\" fill=\"currentColor\" text-anchor=\"middle\" y=\"227.0\">\n",
       "    <tspan class=\"displacy-word\" fill=\"currentColor\" x=\"1220\">hotel</tspan>\n",
       "    <tspan class=\"displacy-tag\" dy=\"2em\" fill=\"currentColor\" x=\"1220\">NOUN</tspan>\n",
       "</text>\n",
       "\n",
       "<g class=\"displacy-arrow\">\n",
       "    <path class=\"displacy-arc\" id=\"arrow-ec68195d436d45b9a391024c0ca407b7-0-0\" stroke-width=\"2px\" d=\"M160,182.0 C160,92.0 310.0,92.0 310.0,182.0\" fill=\"none\" stroke=\"currentColor\"/>\n",
       "    <text dy=\"1.25em\" style=\"font-size: 0.8em; letter-spacing: 1px\">\n",
       "        <textPath xlink:href=\"#arrow-ec68195d436d45b9a391024c0ca407b7-0-0\" class=\"displacy-label\" startOffset=\"50%\" side=\"left\" fill=\"currentColor\" text-anchor=\"middle\">case</textPath>\n",
       "    </text>\n",
       "    <path class=\"displacy-arrowhead\" d=\"M160,184.0 L152,172.0 168,172.0\" fill=\"currentColor\"/>\n",
       "</g>\n",
       "\n",
       "<g class=\"displacy-arrow\">\n",
       "    <path class=\"displacy-arc\" id=\"arrow-ec68195d436d45b9a391024c0ca407b7-0-1\" stroke-width=\"2px\" d=\"M250,182.0 C250,137.0 305.0,137.0 305.0,182.0\" fill=\"none\" stroke=\"currentColor\"/>\n",
       "    <text dy=\"1.25em\" style=\"font-size: 0.8em; letter-spacing: 1px\">\n",
       "        <textPath xlink:href=\"#arrow-ec68195d436d45b9a391024c0ca407b7-0-1\" class=\"displacy-label\" startOffset=\"50%\" side=\"left\" fill=\"currentColor\" text-anchor=\"middle\">det</textPath>\n",
       "    </text>\n",
       "    <path class=\"displacy-arrowhead\" d=\"M250,184.0 L242,172.0 258,172.0\" fill=\"currentColor\"/>\n",
       "</g>\n",
       "\n",
       "<g class=\"displacy-arrow\">\n",
       "    <path class=\"displacy-arc\" id=\"arrow-ec68195d436d45b9a391024c0ca407b7-0-2\" stroke-width=\"2px\" d=\"M70,182.0 C70,47.0 315.0,47.0 315.0,182.0\" fill=\"none\" stroke=\"currentColor\"/>\n",
       "    <text dy=\"1.25em\" style=\"font-size: 0.8em; letter-spacing: 1px\">\n",
       "        <textPath xlink:href=\"#arrow-ec68195d436d45b9a391024c0ca407b7-0-2\" class=\"displacy-label\" startOffset=\"50%\" side=\"left\" fill=\"currentColor\" text-anchor=\"middle\">nmod</textPath>\n",
       "    </text>\n",
       "    <path class=\"displacy-arrowhead\" d=\"M315.0,184.0 L323.0,172.0 307.0,172.0\" fill=\"currentColor\"/>\n",
       "</g>\n",
       "\n",
       "<g class=\"displacy-arrow\">\n",
       "    <path class=\"displacy-arc\" id=\"arrow-ec68195d436d45b9a391024c0ca407b7-0-3\" stroke-width=\"2px\" d=\"M430,182.0 C430,92.0 580.0,92.0 580.0,182.0\" fill=\"none\" stroke=\"currentColor\"/>\n",
       "    <text dy=\"1.25em\" style=\"font-size: 0.8em; letter-spacing: 1px\">\n",
       "        <textPath xlink:href=\"#arrow-ec68195d436d45b9a391024c0ca407b7-0-3\" class=\"displacy-label\" startOffset=\"50%\" side=\"left\" fill=\"currentColor\" text-anchor=\"middle\">case</textPath>\n",
       "    </text>\n",
       "    <path class=\"displacy-arrowhead\" d=\"M430,184.0 L422,172.0 438,172.0\" fill=\"currentColor\"/>\n",
       "</g>\n",
       "\n",
       "<g class=\"displacy-arrow\">\n",
       "    <path class=\"displacy-arc\" id=\"arrow-ec68195d436d45b9a391024c0ca407b7-0-4\" stroke-width=\"2px\" d=\"M520,182.0 C520,137.0 575.0,137.0 575.0,182.0\" fill=\"none\" stroke=\"currentColor\"/>\n",
       "    <text dy=\"1.25em\" style=\"font-size: 0.8em; letter-spacing: 1px\">\n",
       "        <textPath xlink:href=\"#arrow-ec68195d436d45b9a391024c0ca407b7-0-4\" class=\"displacy-label\" startOffset=\"50%\" side=\"left\" fill=\"currentColor\" text-anchor=\"middle\">det</textPath>\n",
       "    </text>\n",
       "    <path class=\"displacy-arrowhead\" d=\"M520,184.0 L512,172.0 528,172.0\" fill=\"currentColor\"/>\n",
       "</g>\n",
       "\n",
       "<g class=\"displacy-arrow\">\n",
       "    <path class=\"displacy-arc\" id=\"arrow-ec68195d436d45b9a391024c0ca407b7-0-5\" stroke-width=\"2px\" d=\"M340,182.0 C340,47.0 585.0,47.0 585.0,182.0\" fill=\"none\" stroke=\"currentColor\"/>\n",
       "    <text dy=\"1.25em\" style=\"font-size: 0.8em; letter-spacing: 1px\">\n",
       "        <textPath xlink:href=\"#arrow-ec68195d436d45b9a391024c0ca407b7-0-5\" class=\"displacy-label\" startOffset=\"50%\" side=\"left\" fill=\"currentColor\" text-anchor=\"middle\">nmod</textPath>\n",
       "    </text>\n",
       "    <path class=\"displacy-arrowhead\" d=\"M585.0,184.0 L593.0,172.0 577.0,172.0\" fill=\"currentColor\"/>\n",
       "</g>\n",
       "\n",
       "<g class=\"displacy-arrow\">\n",
       "    <path class=\"displacy-arc\" id=\"arrow-ec68195d436d45b9a391024c0ca407b7-0-6\" stroke-width=\"2px\" d=\"M700,182.0 C700,47.0 945.0,47.0 945.0,182.0\" fill=\"none\" stroke=\"currentColor\"/>\n",
       "    <text dy=\"1.25em\" style=\"font-size: 0.8em; letter-spacing: 1px\">\n",
       "        <textPath xlink:href=\"#arrow-ec68195d436d45b9a391024c0ca407b7-0-6\" class=\"displacy-label\" startOffset=\"50%\" side=\"left\" fill=\"currentColor\" text-anchor=\"middle\">cc</textPath>\n",
       "    </text>\n",
       "    <path class=\"displacy-arrowhead\" d=\"M700,184.0 L692,172.0 708,172.0\" fill=\"currentColor\"/>\n",
       "</g>\n",
       "\n",
       "<g class=\"displacy-arrow\">\n",
       "    <path class=\"displacy-arc\" id=\"arrow-ec68195d436d45b9a391024c0ca407b7-0-7\" stroke-width=\"2px\" d=\"M790,182.0 C790,92.0 940.0,92.0 940.0,182.0\" fill=\"none\" stroke=\"currentColor\"/>\n",
       "    <text dy=\"1.25em\" style=\"font-size: 0.8em; letter-spacing: 1px\">\n",
       "        <textPath xlink:href=\"#arrow-ec68195d436d45b9a391024c0ca407b7-0-7\" class=\"displacy-label\" startOffset=\"50%\" side=\"left\" fill=\"currentColor\" text-anchor=\"middle\">case</textPath>\n",
       "    </text>\n",
       "    <path class=\"displacy-arrowhead\" d=\"M790,184.0 L782,172.0 798,172.0\" fill=\"currentColor\"/>\n",
       "</g>\n",
       "\n",
       "<g class=\"displacy-arrow\">\n",
       "    <path class=\"displacy-arc\" id=\"arrow-ec68195d436d45b9a391024c0ca407b7-0-8\" stroke-width=\"2px\" d=\"M880,182.0 C880,137.0 935.0,137.0 935.0,182.0\" fill=\"none\" stroke=\"currentColor\"/>\n",
       "    <text dy=\"1.25em\" style=\"font-size: 0.8em; letter-spacing: 1px\">\n",
       "        <textPath xlink:href=\"#arrow-ec68195d436d45b9a391024c0ca407b7-0-8\" class=\"displacy-label\" startOffset=\"50%\" side=\"left\" fill=\"currentColor\" text-anchor=\"middle\">det</textPath>\n",
       "    </text>\n",
       "    <path class=\"displacy-arrowhead\" d=\"M880,184.0 L872,172.0 888,172.0\" fill=\"currentColor\"/>\n",
       "</g>\n",
       "\n",
       "<g class=\"displacy-arrow\">\n",
       "    <path class=\"displacy-arc\" id=\"arrow-ec68195d436d45b9a391024c0ca407b7-0-9\" stroke-width=\"2px\" d=\"M610,182.0 C610,2.0 950.0,2.0 950.0,182.0\" fill=\"none\" stroke=\"currentColor\"/>\n",
       "    <text dy=\"1.25em\" style=\"font-size: 0.8em; letter-spacing: 1px\">\n",
       "        <textPath xlink:href=\"#arrow-ec68195d436d45b9a391024c0ca407b7-0-9\" class=\"displacy-label\" startOffset=\"50%\" side=\"left\" fill=\"currentColor\" text-anchor=\"middle\">conj</textPath>\n",
       "    </text>\n",
       "    <path class=\"displacy-arrowhead\" d=\"M950.0,184.0 L958.0,172.0 942.0,172.0\" fill=\"currentColor\"/>\n",
       "</g>\n",
       "\n",
       "<g class=\"displacy-arrow\">\n",
       "    <path class=\"displacy-arc\" id=\"arrow-ec68195d436d45b9a391024c0ca407b7-0-10\" stroke-width=\"2px\" d=\"M1060,182.0 C1060,92.0 1210.0,92.0 1210.0,182.0\" fill=\"none\" stroke=\"currentColor\"/>\n",
       "    <text dy=\"1.25em\" style=\"font-size: 0.8em; letter-spacing: 1px\">\n",
       "        <textPath xlink:href=\"#arrow-ec68195d436d45b9a391024c0ca407b7-0-10\" class=\"displacy-label\" startOffset=\"50%\" side=\"left\" fill=\"currentColor\" text-anchor=\"middle\">case</textPath>\n",
       "    </text>\n",
       "    <path class=\"displacy-arrowhead\" d=\"M1060,184.0 L1052,172.0 1068,172.0\" fill=\"currentColor\"/>\n",
       "</g>\n",
       "\n",
       "<g class=\"displacy-arrow\">\n",
       "    <path class=\"displacy-arc\" id=\"arrow-ec68195d436d45b9a391024c0ca407b7-0-11\" stroke-width=\"2px\" d=\"M1150,182.0 C1150,137.0 1205.0,137.0 1205.0,182.0\" fill=\"none\" stroke=\"currentColor\"/>\n",
       "    <text dy=\"1.25em\" style=\"font-size: 0.8em; letter-spacing: 1px\">\n",
       "        <textPath xlink:href=\"#arrow-ec68195d436d45b9a391024c0ca407b7-0-11\" class=\"displacy-label\" startOffset=\"50%\" side=\"left\" fill=\"currentColor\" text-anchor=\"middle\">det</textPath>\n",
       "    </text>\n",
       "    <path class=\"displacy-arrowhead\" d=\"M1150,184.0 L1142,172.0 1158,172.0\" fill=\"currentColor\"/>\n",
       "</g>\n",
       "\n",
       "<g class=\"displacy-arrow\">\n",
       "    <path class=\"displacy-arc\" id=\"arrow-ec68195d436d45b9a391024c0ca407b7-0-12\" stroke-width=\"2px\" d=\"M970,182.0 C970,47.0 1215.0,47.0 1215.0,182.0\" fill=\"none\" stroke=\"currentColor\"/>\n",
       "    <text dy=\"1.25em\" style=\"font-size: 0.8em; letter-spacing: 1px\">\n",
       "        <textPath xlink:href=\"#arrow-ec68195d436d45b9a391024c0ca407b7-0-12\" class=\"displacy-label\" startOffset=\"50%\" side=\"left\" fill=\"currentColor\" text-anchor=\"middle\">nmod</textPath>\n",
       "    </text>\n",
       "    <path class=\"displacy-arrowhead\" d=\"M1215.0,184.0 L1223.0,172.0 1207.0,172.0\" fill=\"currentColor\"/>\n",
       "</g>\n",
       "</svg></span>"
      ],
      "text/plain": [
       "<IPython.core.display.HTML object>"
      ]
     },
     "metadata": {},
     "output_type": "display_data"
    }
   ],
   "source": [
    "displacy.render(document , style='dep' , jupyter = True , options={'distance' : 90})"
   ]
  },
  {
   "cell_type": "code",
   "execution_count": 47,
   "metadata": {},
   "outputs": [
    {
     "data": {
      "text/plain": [
       "[Reserva]"
      ]
     },
     "execution_count": 47,
     "metadata": {},
     "output_type": "execute_result"
    }
   ],
   "source": [
    "list(document[3].ancestors)"
   ]
  },
  {
   "cell_type": "code",
   "execution_count": 48,
   "metadata": {},
   "outputs": [
    {
     "data": {
      "text/plain": [
       "[de, uma, restaurante]"
      ]
     },
     "execution_count": 48,
     "metadata": {},
     "output_type": "execute_result"
    }
   ],
   "source": [
    "list(document[3].children)"
   ]
  },
  {
   "cell_type": "code",
   "execution_count": 49,
   "metadata": {},
   "outputs": [],
   "source": [
    "document = pln('Que locais podemos visitar em Curitiba e para ficar em Guarulhos?')"
   ]
  },
  {
   "cell_type": "code",
   "execution_count": 51,
   "metadata": {},
   "outputs": [],
   "source": [
    "lugares = document[5] , document[10]\n",
    "acoes = document[3] , document[8]"
   ]
  },
  {
   "cell_type": "code",
   "execution_count": 52,
   "metadata": {},
   "outputs": [
    {
     "data": {
      "text/plain": [
       "((Curitiba, Guarulhos), (visitar, ficar))"
      ]
     },
     "execution_count": 52,
     "metadata": {},
     "output_type": "execute_result"
    }
   ],
   "source": [
    "lugares , acoes"
   ]
  },
  {
   "cell_type": "code",
   "execution_count": 53,
   "metadata": {},
   "outputs": [
    {
     "name": "stdout",
     "output_type": "stream",
     "text": [
      "Curitiba para visitar\n",
      "Guarulhos para ficar\n"
     ]
    }
   ],
   "source": [
    "for l in lugares:\n",
    "    for acao in l.ancestors:\n",
    "        if acao in acoes:\n",
    "            print(\"{} para {}\".format(l , acao))\n",
    "            break"
   ]
  },
  {
   "cell_type": "code",
   "execution_count": 54,
   "metadata": {},
   "outputs": [
    {
     "data": {
      "text/html": [
       "<span class=\"tex2jax_ignore\"><svg xmlns=\"http://www.w3.org/2000/svg\" xmlns:xlink=\"http://www.w3.org/1999/xlink\" xml:lang=\"pt\" id=\"514259a20f88475ca27e08f310504bba-0\" class=\"displacy\" width=\"1040\" height=\"272.0\" direction=\"ltr\" style=\"max-width: none; height: 272.0px; color: #000000; background: #ffffff; font-family: Arial; direction: ltr\">\n",
       "<text class=\"displacy-token\" fill=\"currentColor\" text-anchor=\"middle\" y=\"182.0\">\n",
       "    <tspan class=\"displacy-word\" fill=\"currentColor\" x=\"50\">Que</tspan>\n",
       "    <tspan class=\"displacy-tag\" dy=\"2em\" fill=\"currentColor\" x=\"50\">DET</tspan>\n",
       "</text>\n",
       "\n",
       "<text class=\"displacy-token\" fill=\"currentColor\" text-anchor=\"middle\" y=\"182.0\">\n",
       "    <tspan class=\"displacy-word\" fill=\"currentColor\" x=\"140\">locais</tspan>\n",
       "    <tspan class=\"displacy-tag\" dy=\"2em\" fill=\"currentColor\" x=\"140\">PROPN</tspan>\n",
       "</text>\n",
       "\n",
       "<text class=\"displacy-token\" fill=\"currentColor\" text-anchor=\"middle\" y=\"182.0\">\n",
       "    <tspan class=\"displacy-word\" fill=\"currentColor\" x=\"230\">podemos</tspan>\n",
       "    <tspan class=\"displacy-tag\" dy=\"2em\" fill=\"currentColor\" x=\"230\">AUX</tspan>\n",
       "</text>\n",
       "\n",
       "<text class=\"displacy-token\" fill=\"currentColor\" text-anchor=\"middle\" y=\"182.0\">\n",
       "    <tspan class=\"displacy-word\" fill=\"currentColor\" x=\"320\">visitar</tspan>\n",
       "    <tspan class=\"displacy-tag\" dy=\"2em\" fill=\"currentColor\" x=\"320\">VERB</tspan>\n",
       "</text>\n",
       "\n",
       "<text class=\"displacy-token\" fill=\"currentColor\" text-anchor=\"middle\" y=\"182.0\">\n",
       "    <tspan class=\"displacy-word\" fill=\"currentColor\" x=\"410\">em</tspan>\n",
       "    <tspan class=\"displacy-tag\" dy=\"2em\" fill=\"currentColor\" x=\"410\">ADP</tspan>\n",
       "</text>\n",
       "\n",
       "<text class=\"displacy-token\" fill=\"currentColor\" text-anchor=\"middle\" y=\"182.0\">\n",
       "    <tspan class=\"displacy-word\" fill=\"currentColor\" x=\"500\">Curitiba</tspan>\n",
       "    <tspan class=\"displacy-tag\" dy=\"2em\" fill=\"currentColor\" x=\"500\">PROPN</tspan>\n",
       "</text>\n",
       "\n",
       "<text class=\"displacy-token\" fill=\"currentColor\" text-anchor=\"middle\" y=\"182.0\">\n",
       "    <tspan class=\"displacy-word\" fill=\"currentColor\" x=\"590\">e</tspan>\n",
       "    <tspan class=\"displacy-tag\" dy=\"2em\" fill=\"currentColor\" x=\"590\">CCONJ</tspan>\n",
       "</text>\n",
       "\n",
       "<text class=\"displacy-token\" fill=\"currentColor\" text-anchor=\"middle\" y=\"182.0\">\n",
       "    <tspan class=\"displacy-word\" fill=\"currentColor\" x=\"680\">para</tspan>\n",
       "    <tspan class=\"displacy-tag\" dy=\"2em\" fill=\"currentColor\" x=\"680\">ADP</tspan>\n",
       "</text>\n",
       "\n",
       "<text class=\"displacy-token\" fill=\"currentColor\" text-anchor=\"middle\" y=\"182.0\">\n",
       "    <tspan class=\"displacy-word\" fill=\"currentColor\" x=\"770\">ficar</tspan>\n",
       "    <tspan class=\"displacy-tag\" dy=\"2em\" fill=\"currentColor\" x=\"770\">VERB</tspan>\n",
       "</text>\n",
       "\n",
       "<text class=\"displacy-token\" fill=\"currentColor\" text-anchor=\"middle\" y=\"182.0\">\n",
       "    <tspan class=\"displacy-word\" fill=\"currentColor\" x=\"860\">em</tspan>\n",
       "    <tspan class=\"displacy-tag\" dy=\"2em\" fill=\"currentColor\" x=\"860\">ADP</tspan>\n",
       "</text>\n",
       "\n",
       "<text class=\"displacy-token\" fill=\"currentColor\" text-anchor=\"middle\" y=\"182.0\">\n",
       "    <tspan class=\"displacy-word\" fill=\"currentColor\" x=\"950\">Guarulhos?</tspan>\n",
       "    <tspan class=\"displacy-tag\" dy=\"2em\" fill=\"currentColor\" x=\"950\">PROPN</tspan>\n",
       "</text>\n",
       "\n",
       "<g class=\"displacy-arrow\">\n",
       "    <path class=\"displacy-arc\" id=\"arrow-514259a20f88475ca27e08f310504bba-0-0\" stroke-width=\"2px\" d=\"M70,137.0 C70,92.0 130.0,92.0 130.0,137.0\" fill=\"none\" stroke=\"currentColor\"/>\n",
       "    <text dy=\"1.25em\" style=\"font-size: 0.8em; letter-spacing: 1px\">\n",
       "        <textPath xlink:href=\"#arrow-514259a20f88475ca27e08f310504bba-0-0\" class=\"displacy-label\" startOffset=\"50%\" side=\"left\" fill=\"currentColor\" text-anchor=\"middle\">det</textPath>\n",
       "    </text>\n",
       "    <path class=\"displacy-arrowhead\" d=\"M70,139.0 L62,127.0 78,127.0\" fill=\"currentColor\"/>\n",
       "</g>\n",
       "\n",
       "<g class=\"displacy-arrow\">\n",
       "    <path class=\"displacy-arc\" id=\"arrow-514259a20f88475ca27e08f310504bba-0-1\" stroke-width=\"2px\" d=\"M160,137.0 C160,47.0 315.0,47.0 315.0,137.0\" fill=\"none\" stroke=\"currentColor\"/>\n",
       "    <text dy=\"1.25em\" style=\"font-size: 0.8em; letter-spacing: 1px\">\n",
       "        <textPath xlink:href=\"#arrow-514259a20f88475ca27e08f310504bba-0-1\" class=\"displacy-label\" startOffset=\"50%\" side=\"left\" fill=\"currentColor\" text-anchor=\"middle\">nsubj</textPath>\n",
       "    </text>\n",
       "    <path class=\"displacy-arrowhead\" d=\"M160,139.0 L152,127.0 168,127.0\" fill=\"currentColor\"/>\n",
       "</g>\n",
       "\n",
       "<g class=\"displacy-arrow\">\n",
       "    <path class=\"displacy-arc\" id=\"arrow-514259a20f88475ca27e08f310504bba-0-2\" stroke-width=\"2px\" d=\"M250,137.0 C250,92.0 310.0,92.0 310.0,137.0\" fill=\"none\" stroke=\"currentColor\"/>\n",
       "    <text dy=\"1.25em\" style=\"font-size: 0.8em; letter-spacing: 1px\">\n",
       "        <textPath xlink:href=\"#arrow-514259a20f88475ca27e08f310504bba-0-2\" class=\"displacy-label\" startOffset=\"50%\" side=\"left\" fill=\"currentColor\" text-anchor=\"middle\">aux</textPath>\n",
       "    </text>\n",
       "    <path class=\"displacy-arrowhead\" d=\"M250,139.0 L242,127.0 258,127.0\" fill=\"currentColor\"/>\n",
       "</g>\n",
       "\n",
       "<g class=\"displacy-arrow\">\n",
       "    <path class=\"displacy-arc\" id=\"arrow-514259a20f88475ca27e08f310504bba-0-3\" stroke-width=\"2px\" d=\"M430,137.0 C430,92.0 490.0,92.0 490.0,137.0\" fill=\"none\" stroke=\"currentColor\"/>\n",
       "    <text dy=\"1.25em\" style=\"font-size: 0.8em; letter-spacing: 1px\">\n",
       "        <textPath xlink:href=\"#arrow-514259a20f88475ca27e08f310504bba-0-3\" class=\"displacy-label\" startOffset=\"50%\" side=\"left\" fill=\"currentColor\" text-anchor=\"middle\">case</textPath>\n",
       "    </text>\n",
       "    <path class=\"displacy-arrowhead\" d=\"M430,139.0 L422,127.0 438,127.0\" fill=\"currentColor\"/>\n",
       "</g>\n",
       "\n",
       "<g class=\"displacy-arrow\">\n",
       "    <path class=\"displacy-arc\" id=\"arrow-514259a20f88475ca27e08f310504bba-0-4\" stroke-width=\"2px\" d=\"M340,137.0 C340,47.0 495.0,47.0 495.0,137.0\" fill=\"none\" stroke=\"currentColor\"/>\n",
       "    <text dy=\"1.25em\" style=\"font-size: 0.8em; letter-spacing: 1px\">\n",
       "        <textPath xlink:href=\"#arrow-514259a20f88475ca27e08f310504bba-0-4\" class=\"displacy-label\" startOffset=\"50%\" side=\"left\" fill=\"currentColor\" text-anchor=\"middle\">obl</textPath>\n",
       "    </text>\n",
       "    <path class=\"displacy-arrowhead\" d=\"M495.0,139.0 L503.0,127.0 487.0,127.0\" fill=\"currentColor\"/>\n",
       "</g>\n",
       "\n",
       "<g class=\"displacy-arrow\">\n",
       "    <path class=\"displacy-arc\" id=\"arrow-514259a20f88475ca27e08f310504bba-0-5\" stroke-width=\"2px\" d=\"M610,137.0 C610,47.0 765.0,47.0 765.0,137.0\" fill=\"none\" stroke=\"currentColor\"/>\n",
       "    <text dy=\"1.25em\" style=\"font-size: 0.8em; letter-spacing: 1px\">\n",
       "        <textPath xlink:href=\"#arrow-514259a20f88475ca27e08f310504bba-0-5\" class=\"displacy-label\" startOffset=\"50%\" side=\"left\" fill=\"currentColor\" text-anchor=\"middle\">cc</textPath>\n",
       "    </text>\n",
       "    <path class=\"displacy-arrowhead\" d=\"M610,139.0 L602,127.0 618,127.0\" fill=\"currentColor\"/>\n",
       "</g>\n",
       "\n",
       "<g class=\"displacy-arrow\">\n",
       "    <path class=\"displacy-arc\" id=\"arrow-514259a20f88475ca27e08f310504bba-0-6\" stroke-width=\"2px\" d=\"M700,137.0 C700,92.0 760.0,92.0 760.0,137.0\" fill=\"none\" stroke=\"currentColor\"/>\n",
       "    <text dy=\"1.25em\" style=\"font-size: 0.8em; letter-spacing: 1px\">\n",
       "        <textPath xlink:href=\"#arrow-514259a20f88475ca27e08f310504bba-0-6\" class=\"displacy-label\" startOffset=\"50%\" side=\"left\" fill=\"currentColor\" text-anchor=\"middle\">mark</textPath>\n",
       "    </text>\n",
       "    <path class=\"displacy-arrowhead\" d=\"M700,139.0 L692,127.0 708,127.0\" fill=\"currentColor\"/>\n",
       "</g>\n",
       "\n",
       "<g class=\"displacy-arrow\">\n",
       "    <path class=\"displacy-arc\" id=\"arrow-514259a20f88475ca27e08f310504bba-0-7\" stroke-width=\"2px\" d=\"M340,137.0 C340,2.0 770.0,2.0 770.0,137.0\" fill=\"none\" stroke=\"currentColor\"/>\n",
       "    <text dy=\"1.25em\" style=\"font-size: 0.8em; letter-spacing: 1px\">\n",
       "        <textPath xlink:href=\"#arrow-514259a20f88475ca27e08f310504bba-0-7\" class=\"displacy-label\" startOffset=\"50%\" side=\"left\" fill=\"currentColor\" text-anchor=\"middle\">conj</textPath>\n",
       "    </text>\n",
       "    <path class=\"displacy-arrowhead\" d=\"M770.0,139.0 L778.0,127.0 762.0,127.0\" fill=\"currentColor\"/>\n",
       "</g>\n",
       "\n",
       "<g class=\"displacy-arrow\">\n",
       "    <path class=\"displacy-arc\" id=\"arrow-514259a20f88475ca27e08f310504bba-0-8\" stroke-width=\"2px\" d=\"M880,137.0 C880,92.0 940.0,92.0 940.0,137.0\" fill=\"none\" stroke=\"currentColor\"/>\n",
       "    <text dy=\"1.25em\" style=\"font-size: 0.8em; letter-spacing: 1px\">\n",
       "        <textPath xlink:href=\"#arrow-514259a20f88475ca27e08f310504bba-0-8\" class=\"displacy-label\" startOffset=\"50%\" side=\"left\" fill=\"currentColor\" text-anchor=\"middle\">case</textPath>\n",
       "    </text>\n",
       "    <path class=\"displacy-arrowhead\" d=\"M880,139.0 L872,127.0 888,127.0\" fill=\"currentColor\"/>\n",
       "</g>\n",
       "\n",
       "<g class=\"displacy-arrow\">\n",
       "    <path class=\"displacy-arc\" id=\"arrow-514259a20f88475ca27e08f310504bba-0-9\" stroke-width=\"2px\" d=\"M790,137.0 C790,47.0 945.0,47.0 945.0,137.0\" fill=\"none\" stroke=\"currentColor\"/>\n",
       "    <text dy=\"1.25em\" style=\"font-size: 0.8em; letter-spacing: 1px\">\n",
       "        <textPath xlink:href=\"#arrow-514259a20f88475ca27e08f310504bba-0-9\" class=\"displacy-label\" startOffset=\"50%\" side=\"left\" fill=\"currentColor\" text-anchor=\"middle\">obl</textPath>\n",
       "    </text>\n",
       "    <path class=\"displacy-arrowhead\" d=\"M945.0,139.0 L953.0,127.0 937.0,127.0\" fill=\"currentColor\"/>\n",
       "</g>\n",
       "</svg></span>"
      ],
      "text/plain": [
       "<IPython.core.display.HTML object>"
      ]
     },
     "metadata": {},
     "output_type": "display_data"
    }
   ],
   "source": [
    "displacy.render(document , style='dep' , jupyter=True ,options={'distance' : 90})"
   ]
  },
  {
   "cell_type": "code",
   "execution_count": 55,
   "metadata": {},
   "outputs": [],
   "source": [
    "p1 = pln(\"olá\")\n",
    "p2 = pln(\"oi\")\n",
    "p3 = pln(\"ou\")"
   ]
  },
  {
   "cell_type": "code",
   "execution_count": 56,
   "metadata": {},
   "outputs": [
    {
     "name": "stderr",
     "output_type": "stream",
     "text": [
      "/home/daniel/anaconda3/lib/python3.7/runpy.py:193: ModelsWarning: [W007] The model you're using has no word vectors loaded, so the result of the Doc.similarity method will be based on the tagger, parser and NER, which may not give useful similarity judgements. This may happen if you're using one of the small models, e.g. `en_core_web_sm`, which don't ship with word vectors and only use context-sensitive tensors. You can always add your own word vectors, or use one of the larger models instead if available.\n",
      "  \"__main__\", mod_spec)\n"
     ]
    },
    {
     "data": {
      "text/plain": [
       "0.8258470163434681"
      ]
     },
     "execution_count": 56,
     "metadata": {},
     "output_type": "execute_result"
    }
   ],
   "source": [
    "p1.similarity(p2)"
   ]
  },
  {
   "cell_type": "code",
   "execution_count": 57,
   "metadata": {},
   "outputs": [
    {
     "name": "stderr",
     "output_type": "stream",
     "text": [
      "/home/daniel/anaconda3/lib/python3.7/runpy.py:193: ModelsWarning: [W007] The model you're using has no word vectors loaded, so the result of the Doc.similarity method will be based on the tagger, parser and NER, which may not give useful similarity judgements. This may happen if you're using one of the small models, e.g. `en_core_web_sm`, which don't ship with word vectors and only use context-sensitive tensors. You can always add your own word vectors, or use one of the larger models instead if available.\n",
      "  \"__main__\", mod_spec)\n"
     ]
    },
    {
     "data": {
      "text/plain": [
       "0.556686068341704"
      ]
     },
     "execution_count": 57,
     "metadata": {},
     "output_type": "execute_result"
    }
   ],
   "source": [
    "p1.similarity(p3)"
   ]
  },
  {
   "cell_type": "code",
   "execution_count": 95,
   "metadata": {},
   "outputs": [
    {
     "name": "stderr",
     "output_type": "stream",
     "text": [
      "/home/daniel/anaconda3/lib/python3.7/runpy.py:193: ModelsWarning: [W007] The model you're using has no word vectors loaded, so the result of the Doc.similarity method will be based on the tagger, parser and NER, which may not give useful similarity judgements. This may happen if you're using one of the small models, e.g. `en_core_web_sm`, which don't ship with word vectors and only use context-sensitive tensors. You can always add your own word vectors, or use one of the larger models instead if available.\n",
      "  \"__main__\", mod_spec)\n"
     ]
    },
    {
     "data": {
      "text/plain": [
       "0.5912281781129909"
      ]
     },
     "execution_count": 95,
     "metadata": {},
     "output_type": "execute_result"
    }
   ],
   "source": [
    "p2.similarity(p3)"
   ]
  },
  {
   "cell_type": "code",
   "execution_count": 96,
   "metadata": {},
   "outputs": [],
   "source": [
    "texto1 = pln(\"Quando será lançado o novo filme?\")\n",
    "texto2 = pln(\"O novo filme será lançado semana que vem\")\n",
    "texto3 = pln(\"Qual é a cor do carro?\")"
   ]
  },
  {
   "cell_type": "code",
   "execution_count": 97,
   "metadata": {},
   "outputs": [
    {
     "name": "stderr",
     "output_type": "stream",
     "text": [
      "/home/daniel/anaconda3/lib/python3.7/runpy.py:193: ModelsWarning: [W007] The model you're using has no word vectors loaded, so the result of the Doc.similarity method will be based on the tagger, parser and NER, which may not give useful similarity judgements. This may happen if you're using one of the small models, e.g. `en_core_web_sm`, which don't ship with word vectors and only use context-sensitive tensors. You can always add your own word vectors, or use one of the larger models instead if available.\n",
      "  \"__main__\", mod_spec)\n"
     ]
    },
    {
     "data": {
      "text/plain": [
       "0.7458937232704181"
      ]
     },
     "execution_count": 97,
     "metadata": {},
     "output_type": "execute_result"
    }
   ],
   "source": [
    "texto1.similarity(texto2)"
   ]
  },
  {
   "cell_type": "code",
   "execution_count": 98,
   "metadata": {},
   "outputs": [
    {
     "name": "stderr",
     "output_type": "stream",
     "text": [
      "/home/daniel/anaconda3/lib/python3.7/runpy.py:193: ModelsWarning: [W007] The model you're using has no word vectors loaded, so the result of the Doc.similarity method will be based on the tagger, parser and NER, which may not give useful similarity judgements. This may happen if you're using one of the small models, e.g. `en_core_web_sm`, which don't ship with word vectors and only use context-sensitive tensors. You can always add your own word vectors, or use one of the larger models instead if available.\n",
      "  \"__main__\", mod_spec)\n"
     ]
    },
    {
     "data": {
      "text/plain": [
       "0.6451623208394195"
      ]
     },
     "execution_count": 98,
     "metadata": {},
     "output_type": "execute_result"
    }
   ],
   "source": [
    "texto1.similarity(texto3)"
   ]
  },
  {
   "cell_type": "code",
   "execution_count": 99,
   "metadata": {},
   "outputs": [],
   "source": [
    "texto = pln('gato cachorro cavalo pessoa')"
   ]
  },
  {
   "cell_type": "code",
   "execution_count": 100,
   "metadata": {},
   "outputs": [
    {
     "name": "stdout",
     "output_type": "stream",
     "text": [
      "----  gato\n",
      "----  cachorro\n",
      "----  cavalo\n",
      "----  pessoa\n"
     ]
    }
   ],
   "source": [
    "for token in texto:\n",
    "    print('---- ' , token)"
   ]
  },
  {
   "cell_type": "code",
   "execution_count": 106,
   "metadata": {},
   "outputs": [
    {
     "name": "stdout",
     "output_type": "stream",
     "text": [
      "gato é 1.0 similar a gato\n",
      "gato é 0.4523674547672272 similar a cachorro\n",
      "gato é 0.3041921555995941 similar a cavalo\n",
      "gato é 0.11880723387002945 similar a pessoa\n",
      "cachorro é 0.4523674547672272 similar a gato\n",
      "cachorro é 1.0 similar a cachorro\n",
      "cachorro é 0.5609703063964844 similar a cavalo\n",
      "cachorro é 0.3177480399608612 similar a pessoa\n",
      "cavalo é 0.3041921555995941 similar a gato\n",
      "cavalo é 0.5609703063964844 similar a cachorro\n",
      "cavalo é 1.0 similar a cavalo\n",
      "cavalo é 0.3297800123691559 similar a pessoa\n",
      "pessoa é 0.11880723387002945 similar a gato\n",
      "pessoa é 0.3177480399608612 similar a cachorro\n",
      "pessoa é 0.3297800123691559 similar a cavalo\n",
      "pessoa é 1.0 similar a pessoa\n"
     ]
    },
    {
     "name": "stderr",
     "output_type": "stream",
     "text": [
      "/home/daniel/anaconda3/lib/python3.7/runpy.py:193: ModelsWarning: [W007] The model you're using has no word vectors loaded, so the result of the Token.similarity method will be based on the tagger, parser and NER, which may not give useful similarity judgements. This may happen if you're using one of the small models, e.g. `en_core_web_sm`, which don't ship with word vectors and only use context-sensitive tensors. You can always add your own word vectors, or use one of the larger models instead if available.\n",
      "  \"__main__\", mod_spec)\n",
      "/home/daniel/anaconda3/lib/python3.7/runpy.py:193: ModelsWarning: [W007] The model you're using has no word vectors loaded, so the result of the Token.similarity method will be based on the tagger, parser and NER, which may not give useful similarity judgements. This may happen if you're using one of the small models, e.g. `en_core_web_sm`, which don't ship with word vectors and only use context-sensitive tensors. You can always add your own word vectors, or use one of the larger models instead if available.\n",
      "  \"__main__\", mod_spec)\n",
      "/home/daniel/anaconda3/lib/python3.7/runpy.py:193: ModelsWarning: [W007] The model you're using has no word vectors loaded, so the result of the Token.similarity method will be based on the tagger, parser and NER, which may not give useful similarity judgements. This may happen if you're using one of the small models, e.g. `en_core_web_sm`, which don't ship with word vectors and only use context-sensitive tensors. You can always add your own word vectors, or use one of the larger models instead if available.\n",
      "  \"__main__\", mod_spec)\n",
      "/home/daniel/anaconda3/lib/python3.7/runpy.py:193: ModelsWarning: [W007] The model you're using has no word vectors loaded, so the result of the Token.similarity method will be based on the tagger, parser and NER, which may not give useful similarity judgements. This may happen if you're using one of the small models, e.g. `en_core_web_sm`, which don't ship with word vectors and only use context-sensitive tensors. You can always add your own word vectors, or use one of the larger models instead if available.\n",
      "  \"__main__\", mod_spec)\n",
      "/home/daniel/anaconda3/lib/python3.7/runpy.py:193: ModelsWarning: [W007] The model you're using has no word vectors loaded, so the result of the Token.similarity method will be based on the tagger, parser and NER, which may not give useful similarity judgements. This may happen if you're using one of the small models, e.g. `en_core_web_sm`, which don't ship with word vectors and only use context-sensitive tensors. You can always add your own word vectors, or use one of the larger models instead if available.\n",
      "  \"__main__\", mod_spec)\n",
      "/home/daniel/anaconda3/lib/python3.7/runpy.py:193: ModelsWarning: [W007] The model you're using has no word vectors loaded, so the result of the Token.similarity method will be based on the tagger, parser and NER, which may not give useful similarity judgements. This may happen if you're using one of the small models, e.g. `en_core_web_sm`, which don't ship with word vectors and only use context-sensitive tensors. You can always add your own word vectors, or use one of the larger models instead if available.\n",
      "  \"__main__\", mod_spec)\n",
      "/home/daniel/anaconda3/lib/python3.7/runpy.py:193: ModelsWarning: [W007] The model you're using has no word vectors loaded, so the result of the Token.similarity method will be based on the tagger, parser and NER, which may not give useful similarity judgements. This may happen if you're using one of the small models, e.g. `en_core_web_sm`, which don't ship with word vectors and only use context-sensitive tensors. You can always add your own word vectors, or use one of the larger models instead if available.\n",
      "  \"__main__\", mod_spec)\n",
      "/home/daniel/anaconda3/lib/python3.7/runpy.py:193: ModelsWarning: [W007] The model you're using has no word vectors loaded, so the result of the Token.similarity method will be based on the tagger, parser and NER, which may not give useful similarity judgements. This may happen if you're using one of the small models, e.g. `en_core_web_sm`, which don't ship with word vectors and only use context-sensitive tensors. You can always add your own word vectors, or use one of the larger models instead if available.\n",
      "  \"__main__\", mod_spec)\n",
      "/home/daniel/anaconda3/lib/python3.7/runpy.py:193: ModelsWarning: [W007] The model you're using has no word vectors loaded, so the result of the Token.similarity method will be based on the tagger, parser and NER, which may not give useful similarity judgements. This may happen if you're using one of the small models, e.g. `en_core_web_sm`, which don't ship with word vectors and only use context-sensitive tensors. You can always add your own word vectors, or use one of the larger models instead if available.\n",
      "  \"__main__\", mod_spec)\n",
      "/home/daniel/anaconda3/lib/python3.7/runpy.py:193: ModelsWarning: [W007] The model you're using has no word vectors loaded, so the result of the Token.similarity method will be based on the tagger, parser and NER, which may not give useful similarity judgements. This may happen if you're using one of the small models, e.g. `en_core_web_sm`, which don't ship with word vectors and only use context-sensitive tensors. You can always add your own word vectors, or use one of the larger models instead if available.\n",
      "  \"__main__\", mod_spec)\n",
      "/home/daniel/anaconda3/lib/python3.7/runpy.py:193: ModelsWarning: [W007] The model you're using has no word vectors loaded, so the result of the Token.similarity method will be based on the tagger, parser and NER, which may not give useful similarity judgements. This may happen if you're using one of the small models, e.g. `en_core_web_sm`, which don't ship with word vectors and only use context-sensitive tensors. You can always add your own word vectors, or use one of the larger models instead if available.\n",
      "  \"__main__\", mod_spec)\n",
      "/home/daniel/anaconda3/lib/python3.7/runpy.py:193: ModelsWarning: [W007] The model you're using has no word vectors loaded, so the result of the Token.similarity method will be based on the tagger, parser and NER, which may not give useful similarity judgements. This may happen if you're using one of the small models, e.g. `en_core_web_sm`, which don't ship with word vectors and only use context-sensitive tensors. You can always add your own word vectors, or use one of the larger models instead if available.\n",
      "  \"__main__\", mod_spec)\n"
     ]
    }
   ],
   "source": [
    "for token1 in texto:\n",
    "    for token2 in texto:\n",
    "        similaridade = token1.similarity(token2)\n",
    "        print('{} é {} similar a {}'.format(token1 , similaridade , token2))"
   ]
  },
  {
   "cell_type": "code",
   "execution_count": 107,
   "metadata": {},
   "outputs": [],
   "source": [
    "document = pln('Estou aprendendo processamento de linguagem natural, curso em Curitiba')"
   ]
  },
  {
   "cell_type": "code",
   "execution_count": 109,
   "metadata": {},
   "outputs": [
    {
     "name": "stdout",
     "output_type": "stream",
     "text": [
      "Estou\n",
      "aprendendo\n",
      "processamento\n",
      "de\n",
      "linguagem\n",
      "natural\n",
      ",\n",
      "curso\n",
      "em\n",
      "Curitiba\n"
     ]
    }
   ],
   "source": [
    "for token in document:\n",
    "    print(token)"
   ]
  },
  {
   "cell_type": "code",
   "execution_count": 110,
   "metadata": {},
   "outputs": [
    {
     "data": {
      "text/plain": [
       "['Estou',\n",
       " 'aprendendo',\n",
       " 'processamento',\n",
       " 'de',\n",
       " 'linguagem',\n",
       " 'natural,',\n",
       " 'curso',\n",
       " 'em',\n",
       " 'Curitiba']"
      ]
     },
     "execution_count": 110,
     "metadata": {},
     "output_type": "execute_result"
    }
   ],
   "source": [
    "#Maneira errada\n",
    "document1 = 'Estou aprendendo processamento de linguagem natural, curso em Curitiba'\n",
    "document1.split(' ')"
   ]
  },
  {
   "cell_type": "code",
   "execution_count": 58,
   "metadata": {},
   "outputs": [],
   "source": [
    "import pandas as pd\n",
    "import string\n",
    "import spacy\n",
    "import random\n",
    "import seaborn as sns\n",
    "import numpy as np"
   ]
  },
  {
   "cell_type": "code",
   "execution_count": 59,
   "metadata": {},
   "outputs": [],
   "source": [
    "base_dados = pd.read_csv('base_treinamento.txt' , encoding='utf-8')"
   ]
  },
  {
   "cell_type": "code",
   "execution_count": 60,
   "metadata": {},
   "outputs": [
    {
     "data": {
      "text/plain": [
       "(196, 2)"
      ]
     },
     "execution_count": 60,
     "metadata": {},
     "output_type": "execute_result"
    }
   ],
   "source": [
    "base_dados.shape"
   ]
  },
  {
   "cell_type": "code",
   "execution_count": 61,
   "metadata": {},
   "outputs": [
    {
     "data": {
      "text/html": [
       "<div>\n",
       "<style scoped>\n",
       "    .dataframe tbody tr th:only-of-type {\n",
       "        vertical-align: middle;\n",
       "    }\n",
       "\n",
       "    .dataframe tbody tr th {\n",
       "        vertical-align: top;\n",
       "    }\n",
       "\n",
       "    .dataframe thead th {\n",
       "        text-align: right;\n",
       "    }\n",
       "</style>\n",
       "<table border=\"1\" class=\"dataframe\">\n",
       "  <thead>\n",
       "    <tr style=\"text-align: right;\">\n",
       "      <th></th>\n",
       "      <th>texto</th>\n",
       "      <th>emocao</th>\n",
       "    </tr>\n",
       "  </thead>\n",
       "  <tbody>\n",
       "    <tr>\n",
       "      <th>0</th>\n",
       "      <td>este trabalho é agradável</td>\n",
       "      <td>alegria</td>\n",
       "    </tr>\n",
       "    <tr>\n",
       "      <th>1</th>\n",
       "      <td>gosto de ficar no seu aconchego</td>\n",
       "      <td>alegria</td>\n",
       "    </tr>\n",
       "    <tr>\n",
       "      <th>2</th>\n",
       "      <td>fiz a adesão ao curso hoje</td>\n",
       "      <td>alegria</td>\n",
       "    </tr>\n",
       "    <tr>\n",
       "      <th>3</th>\n",
       "      <td>eu sou admirada por muitos</td>\n",
       "      <td>alegria</td>\n",
       "    </tr>\n",
       "    <tr>\n",
       "      <th>4</th>\n",
       "      <td>adoro como você</td>\n",
       "      <td>alegria</td>\n",
       "    </tr>\n",
       "  </tbody>\n",
       "</table>\n",
       "</div>"
      ],
      "text/plain": [
       "                             texto   emocao\n",
       "0        este trabalho é agradável  alegria\n",
       "1  gosto de ficar no seu aconchego  alegria\n",
       "2       fiz a adesão ao curso hoje  alegria\n",
       "3       eu sou admirada por muitos  alegria\n",
       "4                  adoro como você  alegria"
      ]
     },
     "execution_count": 61,
     "metadata": {},
     "output_type": "execute_result"
    }
   ],
   "source": [
    "base_dados.head()"
   ]
  },
  {
   "cell_type": "code",
   "execution_count": 62,
   "metadata": {},
   "outputs": [
    {
     "data": {
      "text/html": [
       "<div>\n",
       "<style scoped>\n",
       "    .dataframe tbody tr th:only-of-type {\n",
       "        vertical-align: middle;\n",
       "    }\n",
       "\n",
       "    .dataframe tbody tr th {\n",
       "        vertical-align: top;\n",
       "    }\n",
       "\n",
       "    .dataframe thead th {\n",
       "        text-align: right;\n",
       "    }\n",
       "</style>\n",
       "<table border=\"1\" class=\"dataframe\">\n",
       "  <thead>\n",
       "    <tr style=\"text-align: right;\">\n",
       "      <th></th>\n",
       "      <th>texto</th>\n",
       "      <th>emocao</th>\n",
       "    </tr>\n",
       "  </thead>\n",
       "  <tbody>\n",
       "    <tr>\n",
       "      <th>191</th>\n",
       "      <td>estou chocado e amedrontado com este assassina...</td>\n",
       "      <td>medo</td>\n",
       "    </tr>\n",
       "    <tr>\n",
       "      <th>192</th>\n",
       "      <td>é preciso afugenta com ímpeto este medo do inf...</td>\n",
       "      <td>medo</td>\n",
       "    </tr>\n",
       "    <tr>\n",
       "      <th>193</th>\n",
       "      <td>políticos usam suas forças para afugentar e am...</td>\n",
       "      <td>medo</td>\n",
       "    </tr>\n",
       "    <tr>\n",
       "      <th>194</th>\n",
       "      <td>o objetivo disso e apenas me amedrontar mais</td>\n",
       "      <td>medo</td>\n",
       "    </tr>\n",
       "    <tr>\n",
       "      <th>195</th>\n",
       "      <td>isso me apavora</td>\n",
       "      <td>medo</td>\n",
       "    </tr>\n",
       "  </tbody>\n",
       "</table>\n",
       "</div>"
      ],
      "text/plain": [
       "                                                 texto emocao\n",
       "191  estou chocado e amedrontado com este assassina...   medo\n",
       "192  é preciso afugenta com ímpeto este medo do inf...   medo\n",
       "193  políticos usam suas forças para afugentar e am...   medo\n",
       "194       o objetivo disso e apenas me amedrontar mais   medo\n",
       "195                                    isso me apavora   medo"
      ]
     },
     "execution_count": 62,
     "metadata": {},
     "output_type": "execute_result"
    }
   ],
   "source": [
    "base_dados.tail()"
   ]
  },
  {
   "cell_type": "code",
   "execution_count": 63,
   "metadata": {},
   "outputs": [
    {
     "data": {
      "image/png": "[encoded data removed]",
      "text/plain": [
       "<Figure size 432x288 with 1 Axes>"
      ]
     },
     "metadata": {
      "needs_background": "light"
     },
     "output_type": "display_data"
    }
   ],
   "source": [
    "sns.countplot(base_dados['emocao'] , label = 'Contagem');"
   ]
  },
  {
   "cell_type": "code",
   "execution_count": 64,
   "metadata": {},
   "outputs": [
    {
     "data": {
      "text/plain": [
       "'!\"#$%&\\'()*+,-./:;<=>?@[\\\\]^_`{|}~'"
      ]
     },
     "execution_count": 64,
     "metadata": {},
     "output_type": "execute_result"
    }
   ],
   "source": [
    "pontuacoes = string.punctuation\n",
    "pontuacoes"
   ]
  },
  {
   "cell_type": "code",
   "execution_count": 65,
   "metadata": {},
   "outputs": [],
   "source": [
    "from spacy.lang.pt.stop_words import STOP_WORDS"
   ]
  },
  {
   "cell_type": "code",
   "execution_count": 66,
   "metadata": {},
   "outputs": [
    {
     "data": {
      "text/plain": [
       "{'acerca',\n",
       " 'ademais',\n",
       " 'adeus',\n",
       " 'agora',\n",
       " 'ainda',\n",
       " 'algo',\n",
       " 'algumas',\n",
       " 'alguns',\n",
       " 'ali',\n",
       " 'além',\n",
       " 'ambas',\n",
       " 'ambos',\n",
       " 'antes',\n",
       " 'ao',\n",
       " 'aos',\n",
       " 'apenas',\n",
       " 'apoia',\n",
       " 'apoio',\n",
       " 'apontar',\n",
       " 'após',\n",
       " 'aquela',\n",
       " 'aquelas',\n",
       " 'aquele',\n",
       " 'aqueles',\n",
       " 'aqui',\n",
       " 'aquilo',\n",
       " 'as',\n",
       " 'assim',\n",
       " 'através',\n",
       " 'atrás',\n",
       " 'até',\n",
       " 'aí',\n",
       " 'baixo',\n",
       " 'bastante',\n",
       " 'bem',\n",
       " 'boa',\n",
       " 'bom',\n",
       " 'breve',\n",
       " 'cada',\n",
       " 'caminho',\n",
       " 'catorze',\n",
       " 'cedo',\n",
       " 'cento',\n",
       " 'certamente',\n",
       " 'certeza',\n",
       " 'cima',\n",
       " 'cinco',\n",
       " 'coisa',\n",
       " 'com',\n",
       " 'como',\n",
       " 'comprida',\n",
       " 'comprido',\n",
       " 'conhecida',\n",
       " 'conhecido',\n",
       " 'conselho',\n",
       " 'contra',\n",
       " 'contudo',\n",
       " 'corrente',\n",
       " 'cuja',\n",
       " 'cujo',\n",
       " 'custa',\n",
       " 'cá',\n",
       " 'da',\n",
       " 'daquela',\n",
       " 'daquele',\n",
       " 'dar',\n",
       " 'das',\n",
       " 'de',\n",
       " 'debaixo',\n",
       " 'demais',\n",
       " 'dentro',\n",
       " 'depois',\n",
       " 'des',\n",
       " 'desde',\n",
       " 'dessa',\n",
       " 'desse',\n",
       " 'desta',\n",
       " 'deste',\n",
       " 'deve',\n",
       " 'devem',\n",
       " 'deverá',\n",
       " 'dez',\n",
       " 'dezanove',\n",
       " 'dezasseis',\n",
       " 'dezassete',\n",
       " 'dezoito',\n",
       " 'diante',\n",
       " 'direita',\n",
       " 'disso',\n",
       " 'diz',\n",
       " 'dizem',\n",
       " 'dizer',\n",
       " 'do',\n",
       " 'dois',\n",
       " 'dos',\n",
       " 'doze',\n",
       " 'duas',\n",
       " 'dá',\n",
       " 'dão',\n",
       " 'ela',\n",
       " 'elas',\n",
       " 'ele',\n",
       " 'eles',\n",
       " 'em',\n",
       " 'embora',\n",
       " 'enquanto',\n",
       " 'entre',\n",
       " 'então',\n",
       " 'era',\n",
       " 'essa',\n",
       " 'essas',\n",
       " 'esse',\n",
       " 'esses',\n",
       " 'esta',\n",
       " 'estado',\n",
       " 'estar',\n",
       " 'estará',\n",
       " 'estas',\n",
       " 'estava',\n",
       " 'este',\n",
       " 'estes',\n",
       " 'esteve',\n",
       " 'estive',\n",
       " 'estivemos',\n",
       " 'estiveram',\n",
       " 'estiveste',\n",
       " 'estivestes',\n",
       " 'estou',\n",
       " 'está',\n",
       " 'estás',\n",
       " 'estão',\n",
       " 'eu',\n",
       " 'eventual',\n",
       " 'exemplo',\n",
       " 'falta',\n",
       " 'fará',\n",
       " 'favor',\n",
       " 'faz',\n",
       " 'fazeis',\n",
       " 'fazem',\n",
       " 'fazemos',\n",
       " 'fazer',\n",
       " 'fazes',\n",
       " 'fazia',\n",
       " 'faço',\n",
       " 'fez',\n",
       " 'fim',\n",
       " 'final',\n",
       " 'foi',\n",
       " 'fomos',\n",
       " 'for',\n",
       " 'fora',\n",
       " 'foram',\n",
       " 'forma',\n",
       " 'foste',\n",
       " 'fostes',\n",
       " 'fui',\n",
       " 'geral',\n",
       " 'grande',\n",
       " 'grandes',\n",
       " 'grupo',\n",
       " 'inclusive',\n",
       " 'iniciar',\n",
       " 'inicio',\n",
       " 'ir',\n",
       " 'irá',\n",
       " 'isso',\n",
       " 'isto',\n",
       " 'já',\n",
       " 'lado',\n",
       " 'lhe',\n",
       " 'ligado',\n",
       " 'local',\n",
       " 'logo',\n",
       " 'longe',\n",
       " 'lugar',\n",
       " 'lá',\n",
       " 'maior',\n",
       " 'maioria',\n",
       " 'maiorias',\n",
       " 'mais',\n",
       " 'mal',\n",
       " 'mas',\n",
       " 'me',\n",
       " 'meio',\n",
       " 'menor',\n",
       " 'menos',\n",
       " 'meses',\n",
       " 'mesmo',\n",
       " 'meu',\n",
       " 'meus',\n",
       " 'mil',\n",
       " 'minha',\n",
       " 'minhas',\n",
       " 'momento',\n",
       " 'muito',\n",
       " 'muitos',\n",
       " 'máximo',\n",
       " 'mês',\n",
       " 'na',\n",
       " 'nada',\n",
       " 'naquela',\n",
       " 'naquele',\n",
       " 'nas',\n",
       " 'nem',\n",
       " 'nenhuma',\n",
       " 'nessa',\n",
       " 'nesse',\n",
       " 'nesta',\n",
       " 'neste',\n",
       " 'no',\n",
       " 'nos',\n",
       " 'nossa',\n",
       " 'nossas',\n",
       " 'nosso',\n",
       " 'nossos',\n",
       " 'nova',\n",
       " 'novas',\n",
       " 'nove',\n",
       " 'novo',\n",
       " 'novos',\n",
       " 'num',\n",
       " 'numa',\n",
       " 'nunca',\n",
       " 'nuns',\n",
       " 'não',\n",
       " 'nível',\n",
       " 'nós',\n",
       " 'número',\n",
       " 'números',\n",
       " 'obrigada',\n",
       " 'obrigado',\n",
       " 'oitava',\n",
       " 'oitavo',\n",
       " 'oito',\n",
       " 'onde',\n",
       " 'ontem',\n",
       " 'onze',\n",
       " 'ora',\n",
       " 'os',\n",
       " 'ou',\n",
       " 'outra',\n",
       " 'outras',\n",
       " 'outros',\n",
       " 'para',\n",
       " 'parece',\n",
       " 'parte',\n",
       " 'partir',\n",
       " 'pegar',\n",
       " 'pela',\n",
       " 'pelas',\n",
       " 'pelo',\n",
       " 'pelos',\n",
       " 'perto',\n",
       " 'pode',\n",
       " 'podem',\n",
       " 'poder',\n",
       " 'poderá',\n",
       " 'podia',\n",
       " 'pois',\n",
       " 'ponto',\n",
       " 'pontos',\n",
       " 'por',\n",
       " 'porquanto',\n",
       " 'porque',\n",
       " 'porquê',\n",
       " 'portanto',\n",
       " 'porém',\n",
       " 'posição',\n",
       " 'possivelmente',\n",
       " 'posso',\n",
       " 'possível',\n",
       " 'pouca',\n",
       " 'pouco',\n",
       " 'povo',\n",
       " 'primeira',\n",
       " 'primeiro',\n",
       " 'próprio',\n",
       " 'próxima',\n",
       " 'próximo',\n",
       " 'puderam',\n",
       " 'pôde',\n",
       " 'põe',\n",
       " 'põem',\n",
       " 'quais',\n",
       " 'qual',\n",
       " 'qualquer',\n",
       " 'quando',\n",
       " 'quanto',\n",
       " 'quarta',\n",
       " 'quarto',\n",
       " 'quatro',\n",
       " 'que',\n",
       " 'quem',\n",
       " 'quer',\n",
       " 'querem',\n",
       " 'quero',\n",
       " 'questão',\n",
       " 'quieta',\n",
       " 'quieto',\n",
       " 'quinta',\n",
       " 'quinto',\n",
       " 'quinze',\n",
       " 'quê',\n",
       " 'relação',\n",
       " 'sabe',\n",
       " 'saber',\n",
       " 'se',\n",
       " 'segunda',\n",
       " 'segundo',\n",
       " 'sei',\n",
       " 'seis',\n",
       " 'sem',\n",
       " 'sempre',\n",
       " 'ser',\n",
       " 'seria',\n",
       " 'sete',\n",
       " 'seu',\n",
       " 'seus',\n",
       " 'sexta',\n",
       " 'sexto',\n",
       " 'sim',\n",
       " 'sistema',\n",
       " 'sob',\n",
       " 'sobre',\n",
       " 'sois',\n",
       " 'somente',\n",
       " 'somos',\n",
       " 'sou',\n",
       " 'sua',\n",
       " 'suas',\n",
       " 'são',\n",
       " 'sétima',\n",
       " 'sétimo',\n",
       " 'só',\n",
       " 'tais',\n",
       " 'tal',\n",
       " 'talvez',\n",
       " 'também',\n",
       " 'tanta',\n",
       " 'tanto',\n",
       " 'tarde',\n",
       " 'te',\n",
       " 'tem',\n",
       " 'temos',\n",
       " 'tempo',\n",
       " 'tendes',\n",
       " 'tenho',\n",
       " 'tens',\n",
       " 'tentar',\n",
       " 'tentaram',\n",
       " 'tente',\n",
       " 'tentei',\n",
       " 'ter',\n",
       " 'terceira',\n",
       " 'terceiro',\n",
       " 'teu',\n",
       " 'teus',\n",
       " 'teve',\n",
       " 'tipo',\n",
       " 'tive',\n",
       " 'tivemos',\n",
       " 'tiveram',\n",
       " 'tiveste',\n",
       " 'tivestes',\n",
       " 'toda',\n",
       " 'todas',\n",
       " 'todo',\n",
       " 'todos',\n",
       " 'treze',\n",
       " 'três',\n",
       " 'tu',\n",
       " 'tua',\n",
       " 'tuas',\n",
       " 'tudo',\n",
       " 'tão',\n",
       " 'têm',\n",
       " 'um',\n",
       " 'uma',\n",
       " 'umas',\n",
       " 'uns',\n",
       " 'usa',\n",
       " 'usar',\n",
       " 'vai',\n",
       " 'vais',\n",
       " 'valor',\n",
       " 'veja',\n",
       " 'vem',\n",
       " 'vens',\n",
       " 'ver',\n",
       " 'vez',\n",
       " 'vezes',\n",
       " 'vinda',\n",
       " 'vindo',\n",
       " 'vinte',\n",
       " 'você',\n",
       " 'vocês',\n",
       " 'vos',\n",
       " 'vossa',\n",
       " 'vossas',\n",
       " 'vosso',\n",
       " 'vossos',\n",
       " 'vários',\n",
       " 'vão',\n",
       " 'vêm',\n",
       " 'vós',\n",
       " 'zero',\n",
       " 'à',\n",
       " 'às',\n",
       " 'área',\n",
       " 'é',\n",
       " 'és',\n",
       " 'último'}"
      ]
     },
     "execution_count": 66,
     "metadata": {},
     "output_type": "execute_result"
    }
   ],
   "source": [
    "STOP_WORDS"
   ]
  },
  {
   "cell_type": "code",
   "execution_count": 67,
   "metadata": {},
   "outputs": [
    {
     "data": {
      "text/plain": [
       "413"
      ]
     },
     "execution_count": 67,
     "metadata": {},
     "output_type": "execute_result"
    }
   ],
   "source": [
    "len(STOP_WORDS)"
   ]
  },
  {
   "cell_type": "code",
   "execution_count": 68,
   "metadata": {},
   "outputs": [],
   "source": [
    "pln = spacy.load('pt')"
   ]
  },
  {
   "cell_type": "code",
   "execution_count": 69,
   "metadata": {},
   "outputs": [
    {
     "data": {
      "text/plain": [
       "<spacy.lang.pt.Portuguese at 0x7f13aeb88990>"
      ]
     },
     "execution_count": 69,
     "metadata": {},
     "output_type": "execute_result"
    }
   ],
   "source": [
    "pln"
   ]
  },
  {
   "cell_type": "code",
   "execution_count": 70,
   "metadata": {},
   "outputs": [],
   "source": [
    "def preprocessing(texto):\n",
    "    \n",
    "    texto = texto.lower()\n",
    "    document = pln(texto)\n",
    "    lista = []\n",
    "    for token in document:\n",
    "        #lista.append(token.text)\n",
    "        \n",
    "        lista.append(token.lemma_)\n",
    "    lista = [palavra for palavra in lista if palavra not in STOP_WORDS and palavra not in pontuacoes ]\n",
    "    lista = ' '.join([str(elemento) for elemento in lista if not elemento.isdigit()])\n",
    "    return lista\n",
    "    \n",
    "    "
   ]
  },
  {
   "cell_type": "code",
   "execution_count": 71,
   "metadata": {},
   "outputs": [],
   "source": [
    "teste = preprocessing('Estou aprendendo processamento de linguagem natural, curso em Curitiba')\n"
   ]
  },
  {
   "cell_type": "code",
   "execution_count": 72,
   "metadata": {},
   "outputs": [
    {
     "data": {
      "text/plain": [
       "'aprender processamento linguagem natural cursar curitiba'"
      ]
     },
     "execution_count": 72,
     "metadata": {},
     "output_type": "execute_result"
    }
   ],
   "source": [
    "teste"
   ]
  },
  {
   "cell_type": "code",
   "execution_count": 73,
   "metadata": {},
   "outputs": [],
   "source": [
    "# COISAS A FAZER NO PRÉ-PROCESSAMENTO\n",
    "# -----------------------------------\n",
    "# TOKENIZAR, REMOVER PONTUAÇÃO, REMOVER STOP WORDS, NOMEAR ENTIDADES, LEMATIZAR"
   ]
  },
  {
   "cell_type": "code",
   "execution_count": 74,
   "metadata": {},
   "outputs": [
    {
     "data": {
      "text/html": [
       "<div>\n",
       "<style scoped>\n",
       "    .dataframe tbody tr th:only-of-type {\n",
       "        vertical-align: middle;\n",
       "    }\n",
       "\n",
       "    .dataframe tbody tr th {\n",
       "        vertical-align: top;\n",
       "    }\n",
       "\n",
       "    .dataframe thead th {\n",
       "        text-align: right;\n",
       "    }\n",
       "</style>\n",
       "<table border=\"1\" class=\"dataframe\">\n",
       "  <thead>\n",
       "    <tr style=\"text-align: right;\">\n",
       "      <th></th>\n",
       "      <th>texto</th>\n",
       "      <th>emocao</th>\n",
       "    </tr>\n",
       "  </thead>\n",
       "  <tbody>\n",
       "    <tr>\n",
       "      <th>0</th>\n",
       "      <td>este trabalho é agradável</td>\n",
       "      <td>alegria</td>\n",
       "    </tr>\n",
       "    <tr>\n",
       "      <th>1</th>\n",
       "      <td>gosto de ficar no seu aconchego</td>\n",
       "      <td>alegria</td>\n",
       "    </tr>\n",
       "    <tr>\n",
       "      <th>2</th>\n",
       "      <td>fiz a adesão ao curso hoje</td>\n",
       "      <td>alegria</td>\n",
       "    </tr>\n",
       "    <tr>\n",
       "      <th>3</th>\n",
       "      <td>eu sou admirada por muitos</td>\n",
       "      <td>alegria</td>\n",
       "    </tr>\n",
       "    <tr>\n",
       "      <th>4</th>\n",
       "      <td>adoro como você</td>\n",
       "      <td>alegria</td>\n",
       "    </tr>\n",
       "    <tr>\n",
       "      <th>5</th>\n",
       "      <td>adoro seu cabelo macio</td>\n",
       "      <td>alegria</td>\n",
       "    </tr>\n",
       "    <tr>\n",
       "      <th>6</th>\n",
       "      <td>adoro a cor dos seus olhos</td>\n",
       "      <td>alegria</td>\n",
       "    </tr>\n",
       "    <tr>\n",
       "      <th>7</th>\n",
       "      <td>somo tão amáveis um com o outro</td>\n",
       "      <td>alegria</td>\n",
       "    </tr>\n",
       "    <tr>\n",
       "      <th>8</th>\n",
       "      <td>sinto uma grande afeição por ele</td>\n",
       "      <td>alegria</td>\n",
       "    </tr>\n",
       "    <tr>\n",
       "      <th>9</th>\n",
       "      <td>quero agradar meus filhos</td>\n",
       "      <td>alegria</td>\n",
       "    </tr>\n",
       "  </tbody>\n",
       "</table>\n",
       "</div>"
      ],
      "text/plain": [
       "                              texto   emocao\n",
       "0         este trabalho é agradável  alegria\n",
       "1   gosto de ficar no seu aconchego  alegria\n",
       "2        fiz a adesão ao curso hoje  alegria\n",
       "3        eu sou admirada por muitos  alegria\n",
       "4                   adoro como você  alegria\n",
       "5            adoro seu cabelo macio  alegria\n",
       "6        adoro a cor dos seus olhos  alegria\n",
       "7   somo tão amáveis um com o outro  alegria\n",
       "8  sinto uma grande afeição por ele  alegria\n",
       "9         quero agradar meus filhos  alegria"
      ]
     },
     "execution_count": 74,
     "metadata": {},
     "output_type": "execute_result"
    }
   ],
   "source": [
    "base_dados.head(10)"
   ]
  },
  {
   "cell_type": "code",
   "execution_count": 75,
   "metadata": {},
   "outputs": [],
   "source": [
    "base_dados['texto'] = base_dados['texto'].apply(preprocessing)"
   ]
  },
  {
   "cell_type": "code",
   "execution_count": 76,
   "metadata": {},
   "outputs": [
    {
     "data": {
      "text/html": [
       "<div>\n",
       "<style scoped>\n",
       "    .dataframe tbody tr th:only-of-type {\n",
       "        vertical-align: middle;\n",
       "    }\n",
       "\n",
       "    .dataframe tbody tr th {\n",
       "        vertical-align: top;\n",
       "    }\n",
       "\n",
       "    .dataframe thead th {\n",
       "        text-align: right;\n",
       "    }\n",
       "</style>\n",
       "<table border=\"1\" class=\"dataframe\">\n",
       "  <thead>\n",
       "    <tr style=\"text-align: right;\">\n",
       "      <th></th>\n",
       "      <th>texto</th>\n",
       "      <th>emocao</th>\n",
       "    </tr>\n",
       "  </thead>\n",
       "  <tbody>\n",
       "    <tr>\n",
       "      <th>0</th>\n",
       "      <td>trabalhar agradável</td>\n",
       "      <td>alegria</td>\n",
       "    </tr>\n",
       "    <tr>\n",
       "      <th>1</th>\n",
       "      <td>gostar ficar o aconchegar</td>\n",
       "      <td>alegria</td>\n",
       "    </tr>\n",
       "    <tr>\n",
       "      <th>2</th>\n",
       "      <td>o adesão o o cursar hoje</td>\n",
       "      <td>alegria</td>\n",
       "    </tr>\n",
       "    <tr>\n",
       "      <th>3</th>\n",
       "      <td>admirar</td>\n",
       "      <td>alegria</td>\n",
       "    </tr>\n",
       "    <tr>\n",
       "      <th>4</th>\n",
       "      <td>adorar comer</td>\n",
       "      <td>alegria</td>\n",
       "    </tr>\n",
       "  </tbody>\n",
       "</table>\n",
       "</div>"
      ],
      "text/plain": [
       "                       texto   emocao\n",
       "0        trabalhar agradável  alegria\n",
       "1  gostar ficar o aconchegar  alegria\n",
       "2   o adesão o o cursar hoje  alegria\n",
       "3                    admirar  alegria\n",
       "4               adorar comer  alegria"
      ]
     },
     "execution_count": 76,
     "metadata": {},
     "output_type": "execute_result"
    }
   ],
   "source": [
    "base_dados.head()"
   ]
  },
  {
   "cell_type": "code",
   "execution_count": 77,
   "metadata": {},
   "outputs": [],
   "source": [
    "base_dados_final = []\n",
    "i = 0\n",
    "for texto,emocao in zip(base_dados['texto'] , base_dados['emocao']):\n",
    "    if emocao == 'alegria':\n",
    "        dic = ({'ALEGRIA' : True , 'MEDO' : False})\n",
    "    elif emocao == 'medo':\n",
    "        dic = ({'ALEGRIA' : False , 'MEDO' : True})\n",
    "    base_dados_final.append([texto , dic.copy()])"
   ]
  },
  {
   "cell_type": "code",
   "execution_count": 78,
   "metadata": {},
   "outputs": [
    {
     "data": {
      "text/plain": [
       "196"
      ]
     },
     "execution_count": 78,
     "metadata": {},
     "output_type": "execute_result"
    }
   ],
   "source": [
    "len(base_dados_final)"
   ]
  },
  {
   "cell_type": "code",
   "execution_count": 79,
   "metadata": {},
   "outputs": [
    {
     "data": {
      "text/plain": [
       "['trabalhar agradável', {'ALEGRIA': True, 'MEDO': False}]"
      ]
     },
     "execution_count": 79,
     "metadata": {},
     "output_type": "execute_result"
    }
   ],
   "source": [
    "base_dados_final[0]"
   ]
  },
  {
   "cell_type": "code",
   "execution_count": 80,
   "metadata": {},
   "outputs": [
    {
     "data": {
      "text/plain": [
       "{'ALEGRIA': True, 'MEDO': False}"
      ]
     },
     "execution_count": 80,
     "metadata": {},
     "output_type": "execute_result"
    }
   ],
   "source": [
    "base_dados_final[0][1]"
   ]
  },
  {
   "cell_type": "code",
   "execution_count": 81,
   "metadata": {},
   "outputs": [
    {
     "data": {
      "text/plain": [
       "'trabalhar agradável'"
      ]
     },
     "execution_count": 81,
     "metadata": {},
     "output_type": "execute_result"
    }
   ],
   "source": [
    "base_dados_final[0][0]"
   ]
  },
  {
   "cell_type": "code",
   "execution_count": null,
   "metadata": {},
   "outputs": [],
   "source": []
  },
  {
   "cell_type": "code",
   "execution_count": 82,
   "metadata": {},
   "outputs": [
    {
     "data": {
      "text/plain": [
       "[['trabalhar agradável', {'ALEGRIA': True, 'MEDO': False}],\n",
       " ['gostar ficar o aconchegar', {'ALEGRIA': True, 'MEDO': False}],\n",
       " ['o adesão o o cursar hoje', {'ALEGRIA': True, 'MEDO': False}],\n",
       " ['admirar', {'ALEGRIA': True, 'MEDO': False}],\n",
       " ['adorar comer', {'ALEGRIA': True, 'MEDO': False}],\n",
       " ['adorar cabelar maciar', {'ALEGRIA': True, 'MEDO': False}],\n",
       " ['adorar o cor olho', {'ALEGRIA': True, 'MEDO': False}],\n",
       " ['somar amável o outro', {'ALEGRIA': True, 'MEDO': False}],\n",
       " ['sentir umar afeição', {'ALEGRIA': True, 'MEDO': False}],\n",
       " ['querer agradar filho', {'ALEGRIA': True, 'MEDO': False}],\n",
       " ['sentir completamente amar', {'ALEGRIA': True, 'MEDO': False}],\n",
       " ['amar', {'ALEGRIA': True, 'MEDO': False}],\n",
       " ['alívio', {'ALEGRIA': True, 'MEDO': False}],\n",
       " ['o dor amenizar finalmente', {'ALEGRIA': True, 'MEDO': False}],\n",
       " ['achar apaixonar', {'ALEGRIA': True, 'MEDO': False}],\n",
       " ['amar maravilhoso', {'ALEGRIA': True, 'MEDO': False}],\n",
       " ['sentir animar', {'ALEGRIA': True, 'MEDO': False}],\n",
       " ['sentir hoje', {'ALEGRIA': True, 'MEDO': False}],\n",
       " ['comer o luar belo', {'ALEGRIA': True, 'MEDO': False}],\n",
       " ['o dia bonito', {'ALEGRIA': True, 'MEDO': False}],\n",
       " ['comer afortunar', {'ALEGRIA': True, 'MEDO': False}],\n",
       " ['o maravilhar mundo', {'ALEGRIA': True, 'MEDO': False}],\n",
       " ['receber caro hoje colega', {'ALEGRIA': True, 'MEDO': False}],\n",
       " ['sentir reconfortar hoje', {'ALEGRIA': True, 'MEDO': False}],\n",
       " ['o amigo', {'ALEGRIA': True, 'MEDO': False}],\n",
       " ['contentar o resultar teste', {'ALEGRIA': True, 'MEDO': False}],\n",
       " ['pintura brilhante', {'ALEGRIA': True, 'MEDO': False}],\n",
       " ['água abundância', {'ALEGRIA': True, 'MEDO': False}],\n",
       " ['roupar delicado', {'ALEGRIA': True, 'MEDO': False}],\n",
       " ['comediante', {'ALEGRIA': True, 'MEDO': False}],\n",
       " ['bondade o suar', {'ALEGRIA': True, 'MEDO': False}],\n",
       " ['o amor lindar', {'ALEGRIA': True, 'MEDO': False}],\n",
       " ['amizade durar parir', {'ALEGRIA': True, 'MEDO': False}],\n",
       " ['eufórico o notícia', {'ALEGRIA': True, 'MEDO': False}],\n",
       " ['realmente fiel o mim', {'ALEGRIA': True, 'MEDO': False}],\n",
       " ['umar festa parir comemorar aniversário', {'ALEGRIA': True, 'MEDO': False}],\n",
       " ['graça o deus enxergar o certar', {'ALEGRIA': True, 'MEDO': False}],\n",
       " ['o melhor escolher', {'ALEGRIA': True, 'MEDO': False}],\n",
       " ['o incrível belo', {'ALEGRIA': True, 'MEDO': False}],\n",
       " ['engraçar explicar', {'ALEGRIA': True, 'MEDO': False}],\n",
       " ['emocionante n', {'ALEGRIA': True, 'MEDO': False}],\n",
       " ['cativar pelar olhar', {'ALEGRIA': True, 'MEDO': False}],\n",
       " ['loucamente apaixonar', {'ALEGRIA': True, 'MEDO': False}],\n",
       " ['dúvida', {'ALEGRIA': True, 'MEDO': False}],\n",
       " ['rodear pelar abraçar', {'ALEGRIA': True, 'MEDO': False}],\n",
       " ['estrelo pelar caminhar', {'ALEGRIA': True, 'MEDO': False}],\n",
       " ['sentir o sol', {'ALEGRIA': True, 'MEDO': False}],\n",
       " ['sorrir orelhar o orelhar', {'ALEGRIA': True, 'MEDO': False}],\n",
       " ['valer o peno', {'ALEGRIA': True, 'MEDO': False}],\n",
       " ['finalmente colocar amor', {'ALEGRIA': True, 'MEDO': False}],\n",
       " ['nó dançar noite adentrar', {'ALEGRIA': True, 'MEDO': False}],\n",
       " ['amor brilhante', {'ALEGRIA': True, 'MEDO': False}],\n",
       " ['tocar coração durante o caminhar', {'ALEGRIA': True, 'MEDO': False}],\n",
       " ['suar amigo e companheiro', {'ALEGRIA': True, 'MEDO': False}],\n",
       " ['trazer voltar o vidar', {'ALEGRIA': True, 'MEDO': False}],\n",
       " ['e comer sonhar doce', {'ALEGRIA': True, 'MEDO': False}],\n",
       " ['adorar doce frutar', {'ALEGRIA': True, 'MEDO': False}],\n",
       " ['suco favorito', {'ALEGRIA': True, 'MEDO': False}],\n",
       " ['agradecido pelar ajudar', {'ALEGRIA': True, 'MEDO': False}],\n",
       " ['enorme prazer equipar', {'ALEGRIA': True, 'MEDO': False}],\n",
       " ['trabalhar equipar o melhor', {'ALEGRIA': True, 'MEDO': False}],\n",
       " ['sentir flutuar o ar', {'ALEGRIA': True, 'MEDO': False}],\n",
       " ['o brisa agradável hoje', {'ALEGRIA': True, 'MEDO': False}],\n",
       " ['ótimo e compatível', {'ALEGRIA': True, 'MEDO': False}],\n",
       " ['compatível o outro', {'ALEGRIA': True, 'MEDO': False}],\n",
       " ['o órgão compatível o paciente', {'ALEGRIA': True, 'MEDO': False}],\n",
       " ['contentar aceito o faculdade', {'ALEGRIA': True, 'MEDO': False}],\n",
       " ['aprovar o exame', {'ALEGRIA': True, 'MEDO': False}],\n",
       " ['beneficiar pelar empresar', {'ALEGRIA': True, 'MEDO': False}],\n",
       " ['cativante', {'ALEGRIA': True, 'MEDO': False}],\n",
       " ['contentar o apoiar', {'ALEGRIA': True, 'MEDO': False}],\n",
       " ['comer e confortável', {'ALEGRIA': True, 'MEDO': False}],\n",
       " ['e quentar n frio', {'ALEGRIA': True, 'MEDO': False}],\n",
       " ['elogiar e', {'ALEGRIA': True, 'MEDO': False}],\n",
       " ['chamar parir comemorar', {'ALEGRIA': True, 'MEDO': False}],\n",
       " ['desejável o suar presença apresentação', {'ALEGRIA': True, 'MEDO': False}],\n",
       " ['grato o', {'ALEGRIA': True, 'MEDO': False}],\n",
       " ['dedicar n', {'ALEGRIA': True, 'MEDO': False}],\n",
       " ['completamente apaixonar', {'ALEGRIA': True, 'MEDO': False}],\n",
       " ['agitar noite', {'ALEGRIA': True, 'MEDO': False}],\n",
       " ['significar parir mim', {'ALEGRIA': True, 'MEDO': False}],\n",
       " ['agir preconceito e julgamento', {'ALEGRIA': True, 'MEDO': False}],\n",
       " ['finalmente completar o coleção maravilhoso',\n",
       "  {'ALEGRIA': True, 'MEDO': False}],\n",
       " ['suar rei', {'ALEGRIA': True, 'MEDO': False}],\n",
       " ['satisfatoriamente anunciar o vencedor jogo',\n",
       "  {'ALEGRIA': True, 'MEDO': False}],\n",
       " ['atrair facilmente', {'ALEGRIA': True, 'MEDO': False}],\n",
       " ['rapaz e extremamente atraente', {'ALEGRIA': True, 'MEDO': False}],\n",
       " ['sinto-me vivo', {'ALEGRIA': True, 'MEDO': False}],\n",
       " ['sinto-me paz', {'ALEGRIA': True, 'MEDO': False}],\n",
       " ['lucrar', {'ALEGRIA': True, 'MEDO': False}],\n",
       " ['ordem', {'ALEGRIA': True, 'MEDO': False}],\n",
       " ['arrumar empregar junto', {'ALEGRIA': True, 'MEDO': False}],\n",
       " ['o arrumação terminar alívio', {'ALEGRIA': True, 'MEDO': False}],\n",
       " ['o câncer benigno', {'ALEGRIA': True, 'MEDO': False}],\n",
       " ['o amor abundante', {'ALEGRIA': True, 'MEDO': False}],\n",
       " ['caridoso natal', {'ALEGRIA': True, 'MEDO': False}],\n",
       " ['charme irar atrair o', {'ALEGRIA': True, 'MEDO': False}],\n",
       " ['comer charmoso querer', {'ALEGRIA': True, 'MEDO': False}],\n",
       " ['querido amigo', {'ALEGRIA': True, 'MEDO': False}],\n",
       " ['cuidadoso o sentimento', {'ALEGRIA': True, 'MEDO': False}],\n",
       " ['comover tamanho caridade', {'ALEGRIA': True, 'MEDO': False}],\n",
       " ['chá quentar e reconfortante', {'ALEGRIA': True, 'MEDO': False}],\n",
       " ['alegria', {'ALEGRIA': True, 'MEDO': False}],\n",
       " ['aplaudir o vencedor', {'ALEGRIA': True, 'MEDO': False}],\n",
       " ['palmar parir o aniversariante', {'ALEGRIA': True, 'MEDO': False}],\n",
       " ['desejar o', {'ALEGRIA': True, 'MEDO': False}],\n",
       " ['horar apreciar vinho', {'ALEGRIA': True, 'MEDO': False}],\n",
       " ['apreciar suar presença escola', {'ALEGRIA': True, 'MEDO': False}],\n",
       " ['ansiar trabalho', {'ALEGRIA': True, 'MEDO': False}],\n",
       " ['maravilhoso jogar amistoso', {'ALEGRIA': True, 'MEDO': False}],\n",
       " ['e ótimo o menimos apaziguar', {'ALEGRIA': True, 'MEDO': False}],\n",
       " ['concretizar finalmente sonhar', {'ALEGRIA': True, 'MEDO': False}],\n",
       " ['implorar matar', {'ALEGRIA': False, 'MEDO': True}],\n",
       " ['perigoso', {'ALEGRIA': False, 'MEDO': True}],\n",
       " ['segurar', {'ALEGRIA': False, 'MEDO': True}],\n",
       " ['correr pra', {'ALEGRIA': False, 'MEDO': True}],\n",
       " ['socorrer querer roubar o doce', {'ALEGRIA': False, 'MEDO': True}],\n",
       " ['caro perseguir', {'ALEGRIA': False, 'MEDO': True}],\n",
       " ['entrar perigoso', {'ALEGRIA': False, 'MEDO': True}],\n",
       " ['continuar assustador', {'ALEGRIA': False, 'MEDO': True}],\n",
       " ['o selva animar perigoso', {'ALEGRIA': False, 'MEDO': True}],\n",
       " ['avançar cautela', {'ALEGRIA': False, 'MEDO': True}],\n",
       " ['silencioso cuidar', {'ALEGRIA': False, 'MEDO': True}],\n",
       " ['deixe-me viver', {'ALEGRIA': False, 'MEDO': True}],\n",
       " ['ficar mesada tirar noto', {'ALEGRIA': False, 'MEDO': True}],\n",
       " ['parecer olho o vigiar', {'ALEGRIA': False, 'MEDO': True}],\n",
       " ['o sentença juiz negativo', {'ALEGRIA': False, 'MEDO': True}],\n",
       " ['missão arriscar', {'ALEGRIA': False, 'MEDO': True}],\n",
       " ['salvem-se', {'ALEGRIA': False, 'MEDO': True}],\n",
       " ['planar descobrir', {'ALEGRIA': False, 'MEDO': True}],\n",
       " ['culpar jurar', {'ALEGRIA': False, 'MEDO': True}],\n",
       " ['tomar cuidar o lobisomem', {'ALEGRIA': False, 'MEDO': True}],\n",
       " ['achar descobrir o verdade', {'ALEGRIA': False, 'MEDO': True}],\n",
       " ['deus desaparecer', {'ALEGRIA': False, 'MEDO': True}],\n",
       " ['tomar d', {'ALEGRIA': False, 'MEDO': True}],\n",
       " ['manter segredar descobrir ferrar', {'ALEGRIA': False, 'MEDO': True}],\n",
       " ['soltar inocentar', {'ALEGRIA': False, 'MEDO': True}],\n",
       " ['ouvir passo mim', {'ALEGRIA': False, 'MEDO': True}],\n",
       " ['pedir socorrer', {'ALEGRIA': False, 'MEDO': True}],\n",
       " ['cuidar o curvo o estrar', {'ALEGRIA': False, 'MEDO': True}],\n",
       " ['parecer perigoso', {'ALEGRIA': False, 'MEDO': True}],\n",
       " ['tremer medo', {'ALEGRIA': False, 'MEDO': True}],\n",
       " ['socorrer cair', {'ALEGRIA': False, 'MEDO': True}],\n",
       " ['o florestar negro perigoso', {'ALEGRIA': False, 'MEDO': True}],\n",
       " ['ouvir passo o direção', {'ALEGRIA': False, 'MEDO': True}],\n",
       " ['achar arriscar', {'ALEGRIA': False, 'MEDO': True}],\n",
       " ['voltar perigoso', {'ALEGRIA': False, 'MEDO': True}],\n",
       " ['fugir acabar morto', {'ALEGRIA': False, 'MEDO': True}],\n",
       " ['recear livrar d situação', {'ALEGRIA': False, 'MEDO': True}],\n",
       " ['socorrer armar', {'ALEGRIA': False, 'MEDO': True}],\n",
       " ['eis cuidar bater o postar', {'ALEGRIA': False, 'MEDO': True}],\n",
       " ['socorrer nó afundar', {'ALEGRIA': False, 'MEDO': True}],\n",
       " ['e sério cuidar armar', {'ALEGRIA': False, 'MEDO': True}],\n",
       " ['o tubarão atacar', {'ALEGRIA': False, 'MEDO': True}],\n",
       " ['sentir arrepio ficar o escuro', {'ALEGRIA': False, 'MEDO': True}],\n",
       " ['calmo o dinheiro', {'ALEGRIA': False, 'MEDO': True}],\n",
       " ['achar enganar', {'ALEGRIA': False, 'MEDO': True}],\n",
       " ['ligeiro fugir depressa', {'ALEGRIA': False, 'MEDO': True}],\n",
       " ['crocodilo selvagem vir parir', {'ALEGRIA': False, 'MEDO': True}],\n",
       " ['ficar o achar', {'ALEGRIA': False, 'MEDO': True}],\n",
       " ['fugir o tigre parecer faminto', {'ALEGRIA': False, 'MEDO': True}],\n",
       " ['sair precisar milagre', {'ALEGRIA': False, 'MEDO': True}],\n",
       " ['tirar mim socorrer', {'ALEGRIA': False, 'MEDO': True}],\n",
       " ['nadar afogar', {'ALEGRIA': False, 'MEDO': True}],\n",
       " ['e segurar', {'ALEGRIA': False, 'MEDO': True}],\n",
       " ['apanhar pai boletim', {'ALEGRIA': False, 'MEDO': True}],\n",
       " ['conseguir sair d', {'ALEGRIA': False, 'MEDO': True}],\n",
       " ['sair tardar assaltar', {'ALEGRIA': False, 'MEDO': True}],\n",
       " ['deixar', {'ALEGRIA': False, 'MEDO': True}],\n",
       " ['esperar largar', {'ALEGRIA': False, 'MEDO': True}],\n",
       " ['pelar suar segurança', {'ALEGRIA': False, 'MEDO': True}],\n",
       " ['entregar o dinheiro matar', {'ALEGRIA': False, 'MEDO': True}],\n",
       " ['levar o dinheiro', {'ALEGRIA': False, 'MEDO': True}],\n",
       " ['dirigir rápido', {'ALEGRIA': False, 'MEDO': True}],\n",
       " ['descobrir prender', {'ALEGRIA': False, 'MEDO': True}],\n",
       " ['esperar nenhum', {'ALEGRIA': False, 'MEDO': True}],\n",
       " ['afogar ajudar o sair água', {'ALEGRIA': False, 'MEDO': True}],\n",
       " ['o salvar', {'ALEGRIA': False, 'MEDO': True}],\n",
       " ['querer pensar o acontecer', {'ALEGRIA': False, 'MEDO': True}],\n",
       " ['n cidade umar desgraçar outro', {'ALEGRIA': False, 'MEDO': True}],\n",
       " ['alguém ligar assustar', {'ALEGRIA': False, 'MEDO': True}],\n",
       " ['remedio matar', {'ALEGRIA': False, 'MEDO': True}],\n",
       " ['confiar n cautela', {'ALEGRIA': False, 'MEDO': True}],\n",
       " ['cautela', {'ALEGRIA': False, 'MEDO': True}],\n",
       " ['descobrir deus', {'ALEGRIA': False, 'MEDO': True}],\n",
       " ['recear', {'ALEGRIA': False, 'MEDO': True}],\n",
       " ['o noite e perigoso', {'ALEGRIA': False, 'MEDO': True}],\n",
       " ['estremecer casar', {'ALEGRIA': False, 'MEDO': True}],\n",
       " ['olhar criatura mover monstruosamente', {'ALEGRIA': False, 'MEDO': True}],\n",
       " ['aguentar suspense', {'ALEGRIA': False, 'MEDO': True}],\n",
       " ['afugentar o cão', {'ALEGRIA': False, 'MEDO': True}],\n",
       " ['chocar e amedrontar assassinato brutal', {'ALEGRIA': False, 'MEDO': True}],\n",
       " ['precisar afugentar ímpeto medo infernar', {'ALEGRIA': False, 'MEDO': True}],\n",
       " ['político suar forçar parir afugentar e amedrontar o',\n",
       "  {'ALEGRIA': False, 'MEDO': True}],\n",
       " ['o objetivo d e amedrontar', {'ALEGRIA': False, 'MEDO': True}],\n",
       " ['apavorar', {'ALEGRIA': False, 'MEDO': True}]]"
      ]
     },
     "execution_count": 82,
     "metadata": {},
     "output_type": "execute_result"
    }
   ],
   "source": [
    "base_dados_final"
   ]
  },
  {
   "cell_type": "code",
   "execution_count": 83,
   "metadata": {},
   "outputs": [],
   "source": [
    "modelo = spacy.blank('pt')\n",
    "categorias = modelo.create_pipe(\"textcat\")\n",
    "categorias.add_label(\"ALEGRIA\")\n",
    "categorias.add_label(\"MEDO\")\n",
    "modelo.add_pipe(categorias)\n",
    "historico = []"
   ]
  },
  {
   "cell_type": "code",
   "execution_count": 85,
   "metadata": {},
   "outputs": [
    {
     "name": "stdout",
     "output_type": "stream",
     "text": [
      "{'textcat': 0.006604034220799804}\n",
      "{'textcat': 1.486321243859834e-07}\n",
      "{'textcat': 5.0475093882340616e-08}\n",
      "{'textcat': 2.2470026284082678e-08}\n",
      "{'textcat': 1.2851120834156404e-08}\n",
      "{'textcat': 9.443605841763514e-09}\n",
      "{'textcat': 6.722997047958756e-09}\n",
      "{'textcat': 5.577384054600287e-09}\n",
      "{'textcat': 5.496865546072982e-09}\n",
      "{'textcat': 5.103832245723083e-09}\n"
     ]
    }
   ],
   "source": [
    "modelo.begin_training()\n",
    "\n",
    "for epoca in range(1000):\n",
    "    random.shuffle(base_dados_final)\n",
    "    losses = {}\n",
    "    for batch in spacy.util.minibatch(base_dados_final,30):\n",
    "        textos = [modelo(texto) for texto , entities in batch]\n",
    "        annotations = [{'cats' : entities} for texto, entities in batch]\n",
    "        modelo.update(textos , annotations , losses = losses)\n",
    "    if(epoca%100 ==0):\n",
    "        print(losses)\n",
    "        historico.append(losses)"
   ]
  },
  {
   "cell_type": "code",
   "execution_count": 86,
   "metadata": {},
   "outputs": [
    {
     "data": {
      "text/plain": [
       "[{'textcat': 0.006604034220799804},\n",
       " {'textcat': 1.486321243859834e-07},\n",
       " {'textcat': 5.0475093882340616e-08},\n",
       " {'textcat': 2.2470026284082678e-08},\n",
       " {'textcat': 1.2851120834156404e-08},\n",
       " {'textcat': 9.443605841763514e-09},\n",
       " {'textcat': 6.722997047958756e-09},\n",
       " {'textcat': 5.577384054600287e-09},\n",
       " {'textcat': 5.496865546072982e-09},\n",
       " {'textcat': 5.103832245723083e-09}]"
      ]
     },
     "execution_count": 86,
     "metadata": {},
     "output_type": "execute_result"
    }
   ],
   "source": [
    "historico"
   ]
  },
  {
   "cell_type": "code",
   "execution_count": 87,
   "metadata": {},
   "outputs": [],
   "source": [
    "historico_loss = []\n",
    "for i in historico:\n",
    "    historico_loss.append(i.get('textcat'))"
   ]
  },
  {
   "cell_type": "code",
   "execution_count": 88,
   "metadata": {},
   "outputs": [
    {
     "data": {
      "text/plain": [
       "array([6.60403422e-03, 1.48632124e-07, 5.04750939e-08, 2.24700263e-08,\n",
       "       1.28511208e-08, 9.44360584e-09, 6.72299705e-09, 5.57738405e-09,\n",
       "       5.49686555e-09, 5.10383225e-09])"
      ]
     },
     "execution_count": 88,
     "metadata": {},
     "output_type": "execute_result"
    }
   ],
   "source": [
    "historico_loss = np.array(historico_loss)\n",
    "historico_loss"
   ]
  },
  {
   "cell_type": "code",
   "execution_count": 89,
   "metadata": {},
   "outputs": [
    {
     "data": {
      "text/plain": [
       "Text(0, 0.5, 'Erro')"
      ]
     },
     "execution_count": 89,
     "metadata": {},
     "output_type": "execute_result"
    },
    {
     "data": {
      "image/png": "[encoded data removed]",
      "text/plain": [
       "<Figure size 432x288 with 1 Axes>"
      ]
     },
     "metadata": {
      "needs_background": "light"
     },
     "output_type": "display_data"
    }
   ],
   "source": [
    "import matplotlib.pyplot as plt\n",
    "\n",
    "plt.plot(historico_loss)\n",
    "plt.title('Progressão do erro')\n",
    "plt.xlabel('Épocas')\n",
    "plt.ylabel('Erro')"
   ]
  },
  {
   "cell_type": "code",
   "execution_count": 90,
   "metadata": {},
   "outputs": [],
   "source": [
    "#Salvar o modelo\n",
    "modelo.to_disk(\"modelo\")"
   ]
  },
  {
   "cell_type": "code",
   "execution_count": 91,
   "metadata": {},
   "outputs": [],
   "source": [
    "modelo_carregado = spacy.load('modelo')"
   ]
  },
  {
   "cell_type": "code",
   "execution_count": 92,
   "metadata": {},
   "outputs": [
    {
     "data": {
      "text/plain": [
       "<spacy.lang.pt.Portuguese at 0x7f13a8c4a590>"
      ]
     },
     "execution_count": 92,
     "metadata": {},
     "output_type": "execute_result"
    }
   ],
   "source": [
    "modelo_carregado"
   ]
  },
  {
   "cell_type": "code",
   "execution_count": 93,
   "metadata": {},
   "outputs": [],
   "source": [
    "texto_positivo = 'eu adoro a cor dos seus olhos'"
   ]
  },
  {
   "cell_type": "code",
   "execution_count": 95,
   "metadata": {},
   "outputs": [
    {
     "data": {
      "text/plain": [
       "'adorar o cor olho'"
      ]
     },
     "execution_count": 95,
     "metadata": {},
     "output_type": "execute_result"
    }
   ],
   "source": [
    "texto_positivo = preprocessing(texto_positivo)\n",
    "texto_positivo"
   ]
  },
  {
   "cell_type": "code",
   "execution_count": 96,
   "metadata": {},
   "outputs": [],
   "source": [
    "previsao = modelo_carregado(texto_positivo)"
   ]
  },
  {
   "cell_type": "code",
   "execution_count": 97,
   "metadata": {},
   "outputs": [
    {
     "data": {
      "text/plain": [
       "adorar o cor olho"
      ]
     },
     "execution_count": 97,
     "metadata": {},
     "output_type": "execute_result"
    }
   ],
   "source": [
    "previsao"
   ]
  },
  {
   "cell_type": "code",
   "execution_count": 98,
   "metadata": {},
   "outputs": [
    {
     "data": {
      "text/plain": [
       "{'ALEGRIA': 0.9997304081916809, 'MEDO': 0.0003507144865579903}"
      ]
     },
     "execution_count": 98,
     "metadata": {},
     "output_type": "execute_result"
    }
   ],
   "source": [
    "previsao.cats"
   ]
  },
  {
   "cell_type": "code",
   "execution_count": 99,
   "metadata": {},
   "outputs": [
    {
     "data": {
      "text/plain": [
       "{'ALEGRIA': 0.0003214086755178869, 'MEDO': 0.9995976090431213}"
      ]
     },
     "execution_count": 99,
     "metadata": {},
     "output_type": "execute_result"
    }
   ],
   "source": [
    "texto_negativo = 'estou com medo dele'\n",
    "previsao = modelo_carregado(preprocessing(texto_negativo))\n",
    "previsao.cats"
   ]
  },
  {
   "cell_type": "code",
   "execution_count": 101,
   "metadata": {},
   "outputs": [],
   "source": [
    "previsoes = []\n",
    "for texto in base_dados['texto']:\n",
    "    previsao = modelo_carregado(texto)\n",
    "    previsoes.append(previsao.cats)"
   ]
  },
  {
   "cell_type": "code",
   "execution_count": 102,
   "metadata": {},
   "outputs": [
    {
     "data": {
      "text/plain": [
       "[{'ALEGRIA': 0.9997867941856384, 'MEDO': 0.00045507747563533485},\n",
       " {'ALEGRIA': 0.9993833303451538, 'MEDO': 0.0008411622256971896},\n",
       " {'ALEGRIA': 0.9996689558029175, 'MEDO': 0.0005808267160318792},\n",
       " {'ALEGRIA': 0.9995570778846741, 'MEDO': 0.00023843302915338427},\n",
       " {'ALEGRIA': 0.9998044371604919, 'MEDO': 0.00024428192409686744},\n",
       " {'ALEGRIA': 0.9997755885124207, 'MEDO': 0.00023431939189322293},\n",
       " {'ALEGRIA': 0.9997304081916809, 'MEDO': 0.0003507144865579903},\n",
       " {'ALEGRIA': 0.9998000264167786, 'MEDO': 0.0002448840532451868},\n",
       " {'ALEGRIA': 0.9996650218963623, 'MEDO': 0.0005520351696759462},\n",
       " {'ALEGRIA': 0.9992897510528564, 'MEDO': 0.0009552654228173196},\n",
       " {'ALEGRIA': 0.9997091889381409, 'MEDO': 0.00038668184424750507},\n",
       " {'ALEGRIA': 0.9998356103897095, 'MEDO': 0.000298508646665141},\n",
       " {'ALEGRIA': 0.9997292160987854, 'MEDO': 0.00040205306140705943},\n",
       " {'ALEGRIA': 0.9994741082191467, 'MEDO': 0.0005682500195689499},\n",
       " {'ALEGRIA': 0.9994605183601379, 'MEDO': 0.0008603057358413935},\n",
       " {'ALEGRIA': 0.9998190999031067, 'MEDO': 0.000555776001419872},\n",
       " {'ALEGRIA': 0.9997007846832275, 'MEDO': 0.0002919370017480105},\n",
       " {'ALEGRIA': 0.9998151659965515, 'MEDO': 0.0003604537632782012},\n",
       " {'ALEGRIA': 0.9998016953468323, 'MEDO': 0.00022336332767736167},\n",
       " {'ALEGRIA': 0.9998239874839783, 'MEDO': 0.0005730240372940898},\n",
       " {'ALEGRIA': 0.999916672706604, 'MEDO': 0.0003284449048805982},\n",
       " {'ALEGRIA': 0.999573290348053, 'MEDO': 0.0005235598073340952},\n",
       " {'ALEGRIA': 0.9997614026069641, 'MEDO': 0.0006043901666998863},\n",
       " {'ALEGRIA': 0.9995391368865967, 'MEDO': 0.000429953564889729},\n",
       " {'ALEGRIA': 0.9996693134307861, 'MEDO': 0.0005440508830361068},\n",
       " {'ALEGRIA': 0.9996762275695801, 'MEDO': 0.0006262801471166313},\n",
       " {'ALEGRIA': 0.9996272325515747, 'MEDO': 0.0005456135259009898},\n",
       " {'ALEGRIA': 0.9997174143791199, 'MEDO': 0.0004303760943002999},\n",
       " {'ALEGRIA': 0.9997288584709167, 'MEDO': 0.0004983263788744807},\n",
       " {'ALEGRIA': 0.9997010231018066, 'MEDO': 0.000234548730077222},\n",
       " {'ALEGRIA': 0.9993999004364014, 'MEDO': 0.00044527678983286023},\n",
       " {'ALEGRIA': 0.9997155070304871, 'MEDO': 0.00046220095828175545},\n",
       " {'ALEGRIA': 0.999355137348175, 'MEDO': 0.0009290060261264443},\n",
       " {'ALEGRIA': 0.9995962977409363, 'MEDO': 0.0005806611734442413},\n",
       " {'ALEGRIA': 0.9997323155403137, 'MEDO': 0.0002558736887294799},\n",
       " {'ALEGRIA': 0.9996097683906555, 'MEDO': 0.0007414836436510086},\n",
       " {'ALEGRIA': 0.9995222091674805, 'MEDO': 0.0005162988672964275},\n",
       " {'ALEGRIA': 0.9997925162315369, 'MEDO': 0.000228108765440993},\n",
       " {'ALEGRIA': 0.9994997978210449, 'MEDO': 0.0004983491380698979},\n",
       " {'ALEGRIA': 0.9998270869255066, 'MEDO': 0.0005175858968868852},\n",
       " {'ALEGRIA': 0.9998143315315247, 'MEDO': 0.00033999557490460575},\n",
       " {'ALEGRIA': 0.9995150566101074, 'MEDO': 0.0005351214203983545},\n",
       " {'ALEGRIA': 0.9997484087944031, 'MEDO': 0.0004206041048746556},\n",
       " {'ALEGRIA': 0.999832272529602, 'MEDO': 0.00023857243650127202},\n",
       " {'ALEGRIA': 0.9994437098503113, 'MEDO': 0.000626603199634701},\n",
       " {'ALEGRIA': 0.9995892643928528, 'MEDO': 0.0006296295905485749},\n",
       " {'ALEGRIA': 0.9995613694190979, 'MEDO': 0.0005342998192645609},\n",
       " {'ALEGRIA': 0.9994261264801025, 'MEDO': 0.0005721685010939837},\n",
       " {'ALEGRIA': 0.9997968077659607, 'MEDO': 0.0007563899271190166},\n",
       " {'ALEGRIA': 0.999572217464447, 'MEDO': 0.0002102836879203096},\n",
       " {'ALEGRIA': 0.9997408986091614, 'MEDO': 0.0007801195024512708},\n",
       " {'ALEGRIA': 0.9998338222503662, 'MEDO': 0.00027536862762644887},\n",
       " {'ALEGRIA': 0.9996652603149414, 'MEDO': 0.0004994762130081654},\n",
       " {'ALEGRIA': 0.9996073842048645, 'MEDO': 0.00039360488881357014},\n",
       " {'ALEGRIA': 0.9997186064720154, 'MEDO': 0.00037486868677660823},\n",
       " {'ALEGRIA': 0.9996585845947266, 'MEDO': 0.0004983935505151749},\n",
       " {'ALEGRIA': 0.9998444318771362, 'MEDO': 0.0003760274557862431},\n",
       " {'ALEGRIA': 0.9998267292976379, 'MEDO': 0.00016946569667197764},\n",
       " {'ALEGRIA': 0.9994999170303345, 'MEDO': 0.0006474395631812513},\n",
       " {'ALEGRIA': 0.9995381832122803, 'MEDO': 0.0005831295857205987},\n",
       " {'ALEGRIA': 0.9997426867485046, 'MEDO': 0.00034743055584840477},\n",
       " {'ALEGRIA': 0.9996005892753601, 'MEDO': 0.00042382514220662415},\n",
       " {'ALEGRIA': 0.9997312426567078, 'MEDO': 0.0005445497226901352},\n",
       " {'ALEGRIA': 0.9997337460517883, 'MEDO': 0.0004194407374598086},\n",
       " {'ALEGRIA': 0.9997095465660095, 'MEDO': 0.0005464631831273437},\n",
       " {'ALEGRIA': 0.9998297691345215, 'MEDO': 0.00026745605282485485},\n",
       " {'ALEGRIA': 0.9995859265327454, 'MEDO': 0.0005623120814561844},\n",
       " {'ALEGRIA': 0.9996466636657715, 'MEDO': 0.00022193377662915736},\n",
       " {'ALEGRIA': 0.9996291399002075, 'MEDO': 0.00046855269465595484},\n",
       " {'ALEGRIA': 0.9997217059135437, 'MEDO': 0.0002778043854050338},\n",
       " {'ALEGRIA': 0.999685525894165, 'MEDO': 0.00028097795438952744},\n",
       " {'ALEGRIA': 0.9995883107185364, 'MEDO': 0.00030103736207820475},\n",
       " {'ALEGRIA': 0.9995065927505493, 'MEDO': 0.0009054685360752046},\n",
       " {'ALEGRIA': 0.999723494052887, 'MEDO': 0.0002879075473174453},\n",
       " {'ALEGRIA': 0.9995498061180115, 'MEDO': 0.0004938559141010046},\n",
       " {'ALEGRIA': 0.9997062087059021, 'MEDO': 0.0002629443188197911},\n",
       " {'ALEGRIA': 0.999707043170929, 'MEDO': 0.00045656089787371457},\n",
       " {'ALEGRIA': 0.9997242093086243, 'MEDO': 0.00045878300443291664},\n",
       " {'ALEGRIA': 0.9998419284820557, 'MEDO': 0.00030503759626299143},\n",
       " {'ALEGRIA': 0.9996901750564575, 'MEDO': 0.0009246154804714024},\n",
       " {'ALEGRIA': 0.9996732473373413, 'MEDO': 0.00042465177830308676},\n",
       " {'ALEGRIA': 0.9996320009231567, 'MEDO': 0.00041922545642592013},\n",
       " {'ALEGRIA': 0.9996258020401001, 'MEDO': 0.000581217638682574},\n",
       " {'ALEGRIA': 0.9996042847633362, 'MEDO': 0.00027214630972594023},\n",
       " {'ALEGRIA': 0.9996569156646729, 'MEDO': 0.00030116768903099},\n",
       " {'ALEGRIA': 0.9996271133422852, 'MEDO': 0.0003122566267848015},\n",
       " {'ALEGRIA': 0.9996234178543091, 'MEDO': 0.0008339833584614098},\n",
       " {'ALEGRIA': 0.9996904134750366, 'MEDO': 0.00040947122033685446},\n",
       " {'ALEGRIA': 0.9996090531349182, 'MEDO': 0.00046404910972341895},\n",
       " {'ALEGRIA': 0.9997296929359436, 'MEDO': 0.00046878811554051936},\n",
       " {'ALEGRIA': 0.9996227025985718, 'MEDO': 0.000549824966583401},\n",
       " {'ALEGRIA': 0.9998143315315247, 'MEDO': 0.0003215269825886935},\n",
       " {'ALEGRIA': 0.9996510744094849, 'MEDO': 0.0006138649769127369},\n",
       " {'ALEGRIA': 0.9997585415840149, 'MEDO': 0.0004332591488491744},\n",
       " {'ALEGRIA': 0.9997801184654236, 'MEDO': 0.0003736806975211948},\n",
       " {'ALEGRIA': 0.9997583031654358, 'MEDO': 0.0005505630979314446},\n",
       " {'ALEGRIA': 0.9993706345558167, 'MEDO': 0.0006169572006911039},\n",
       " {'ALEGRIA': 0.9998326301574707, 'MEDO': 0.0003040541778318584},\n",
       " {'ALEGRIA': 0.9998914003372192, 'MEDO': 0.000437685550423339},\n",
       " {'ALEGRIA': 0.9995318651199341, 'MEDO': 0.00047955173067748547},\n",
       " {'ALEGRIA': 0.9994943141937256, 'MEDO': 0.0007886141538619995},\n",
       " {'ALEGRIA': 0.9995705485343933, 'MEDO': 0.0004802029288839549},\n",
       " {'ALEGRIA': 0.9997643828392029, 'MEDO': 0.0001728137576719746},\n",
       " {'ALEGRIA': 0.9997095465660095, 'MEDO': 0.00039324501994997263},\n",
       " {'ALEGRIA': 0.9995562434196472, 'MEDO': 0.0002827181597240269},\n",
       " {'ALEGRIA': 0.9994385838508606, 'MEDO': 0.0005337554030120373},\n",
       " {'ALEGRIA': 0.999794065952301, 'MEDO': 0.0006607339601032436},\n",
       " {'ALEGRIA': 0.9996659755706787, 'MEDO': 0.0003715842613019049},\n",
       " {'ALEGRIA': 0.9997186064720154, 'MEDO': 0.0003118306049145758},\n",
       " {'ALEGRIA': 0.999427080154419, 'MEDO': 0.0007145309937186539},\n",
       " {'ALEGRIA': 0.9992915391921997, 'MEDO': 0.0007191131007857621},\n",
       " {'ALEGRIA': 0.9997970461845398, 'MEDO': 0.0003550212422851473},\n",
       " {'ALEGRIA': 0.00018814404029399157, 'MEDO': 0.9997183680534363},\n",
       " {'ALEGRIA': 0.00018319810624234378, 'MEDO': 0.9997922778129578},\n",
       " {'ALEGRIA': 0.00010644195572240278, 'MEDO': 0.999716579914093},\n",
       " {'ALEGRIA': 0.00011181429727002978, 'MEDO': 0.9995827078819275},\n",
       " {'ALEGRIA': 0.0005114560481160879, 'MEDO': 0.9992095232009888},\n",
       " {'ALEGRIA': 0.0005126850446686149, 'MEDO': 0.9992899894714355},\n",
       " {'ALEGRIA': 0.00026565624284558, 'MEDO': 0.999599277973175},\n",
       " {'ALEGRIA': 0.000401400524424389, 'MEDO': 0.9990410208702087},\n",
       " {'ALEGRIA': 0.000630469003226608, 'MEDO': 0.9996178150177002},\n",
       " {'ALEGRIA': 0.0003390757483430207, 'MEDO': 0.9994874000549316},\n",
       " {'ALEGRIA': 0.0003577627649065107, 'MEDO': 0.9992850422859192},\n",
       " {'ALEGRIA': 0.00020415795734152198, 'MEDO': 0.9992795586585999},\n",
       " {'ALEGRIA': 0.0003690277226269245, 'MEDO': 0.999743640422821},\n",
       " {'ALEGRIA': 0.0005035080248489976, 'MEDO': 0.999570906162262},\n",
       " {'ALEGRIA': 0.0003329513710923493, 'MEDO': 0.999419093132019},\n",
       " {'ALEGRIA': 0.0004009451949968934, 'MEDO': 0.9994625449180603},\n",
       " {'ALEGRIA': 0.00034078300814144313, 'MEDO': 0.9995272159576416},\n",
       " {'ALEGRIA': 0.00024227763060480356, 'MEDO': 0.9997690320014954},\n",
       " {'ALEGRIA': 0.00044331984827294946, 'MEDO': 0.9996196031570435},\n",
       " {'ALEGRIA': 7.934955647215247e-05, 'MEDO': 0.9994968175888062},\n",
       " {'ALEGRIA': 0.00028460583416745067, 'MEDO': 0.9993888139724731},\n",
       " {'ALEGRIA': 0.00018278790230397135, 'MEDO': 0.9996676445007324},\n",
       " {'ALEGRIA': 0.0002363497915212065, 'MEDO': 0.9993809461593628},\n",
       " {'ALEGRIA': 0.00023334957950282842, 'MEDO': 0.99935382604599},\n",
       " {'ALEGRIA': 0.0007102958625182509, 'MEDO': 0.999342143535614},\n",
       " {'ALEGRIA': 0.00041904643876478076, 'MEDO': 0.9995123147964478},\n",
       " {'ALEGRIA': 0.0003289880114607513, 'MEDO': 0.9994887113571167},\n",
       " {'ALEGRIA': 0.0005441865650936961, 'MEDO': 0.998930037021637},\n",
       " {'ALEGRIA': 0.0001670895580900833, 'MEDO': 0.9996664524078369},\n",
       " {'ALEGRIA': 0.00023784220684319735, 'MEDO': 0.9996742010116577},\n",
       " {'ALEGRIA': 0.0002461919793859124, 'MEDO': 0.9994722008705139},\n",
       " {'ALEGRIA': 0.00041266647167503834, 'MEDO': 0.9994988441467285},\n",
       " {'ALEGRIA': 8.113512740237638e-05, 'MEDO': 0.9993453621864319},\n",
       " {'ALEGRIA': 0.0003020369913429022, 'MEDO': 0.9993840456008911},\n",
       " {'ALEGRIA': 0.00020482050604186952, 'MEDO': 0.9997863173484802},\n",
       " {'ALEGRIA': 0.0003067097277380526, 'MEDO': 0.999480664730072},\n",
       " {'ALEGRIA': 0.0004028479743283242, 'MEDO': 0.9994035959243774},\n",
       " {'ALEGRIA': 0.00062165706185624, 'MEDO': 0.9994150400161743},\n",
       " {'ALEGRIA': 0.0004176271613687277, 'MEDO': 0.9994055032730103},\n",
       " {'ALEGRIA': 0.00023647221678402275, 'MEDO': 0.999362051486969},\n",
       " {'ALEGRIA': 0.00018165870278608054, 'MEDO': 0.9993667006492615},\n",
       " {'ALEGRIA': 0.00035338991438038647, 'MEDO': 0.9992833733558655},\n",
       " {'ALEGRIA': 0.0005557767581194639, 'MEDO': 0.9992434978485107},\n",
       " {'ALEGRIA': 0.0002568680210970342, 'MEDO': 0.9994760155677795},\n",
       " {'ALEGRIA': 0.0004766117490362376, 'MEDO': 0.9995133876800537},\n",
       " {'ALEGRIA': 0.00023422870435751975, 'MEDO': 0.9994404911994934},\n",
       " {'ALEGRIA': 0.00040269881719723344, 'MEDO': 0.9992893934249878},\n",
       " {'ALEGRIA': 0.00025725405430421233, 'MEDO': 0.9995505213737488},\n",
       " {'ALEGRIA': 0.0006098496960476041, 'MEDO': 0.9993641972541809},\n",
       " {'ALEGRIA': 0.0002237418812001124, 'MEDO': 0.999455988407135},\n",
       " {'ALEGRIA': 0.0002491275081411004, 'MEDO': 0.9994121789932251},\n",
       " {'ALEGRIA': 0.0005463410634547472, 'MEDO': 0.9993102550506592},\n",
       " {'ALEGRIA': 0.00021085410844534636, 'MEDO': 0.9995637536048889},\n",
       " {'ALEGRIA': 0.00030702422372996807, 'MEDO': 0.9990954399108887},\n",
       " {'ALEGRIA': 0.000678054231684655, 'MEDO': 0.999444305896759},\n",
       " {'ALEGRIA': 0.0004455984162632376, 'MEDO': 0.9992524981498718},\n",
       " {'ALEGRIA': 0.00023242032330017537, 'MEDO': 0.9997730851173401},\n",
       " {'ALEGRIA': 0.0002316707541467622, 'MEDO': 0.9993162155151367},\n",
       " {'ALEGRIA': 0.0007163931149989367, 'MEDO': 0.9991113543510437},\n",
       " {'ALEGRIA': 0.0001900523784570396, 'MEDO': 0.9995604157447815},\n",
       " {'ALEGRIA': 0.0002918796963058412, 'MEDO': 0.9994955062866211},\n",
       " {'ALEGRIA': 0.00044607443851418793, 'MEDO': 0.999543309211731},\n",
       " {'ALEGRIA': 0.00025486957747489214, 'MEDO': 0.9998821020126343},\n",
       " {'ALEGRIA': 0.00039392485632561147, 'MEDO': 0.999473512172699},\n",
       " {'ALEGRIA': 0.0005988982156850398, 'MEDO': 0.998936116695404},\n",
       " {'ALEGRIA': 0.0012305545387789607, 'MEDO': 0.9984478950500488},\n",
       " {'ALEGRIA': 0.00024595996364951134, 'MEDO': 0.9995707869529724},\n",
       " {'ALEGRIA': 0.0005547042819671333, 'MEDO': 0.9992455244064331},\n",
       " {'ALEGRIA': 0.000333451695041731, 'MEDO': 0.9992769360542297},\n",
       " {'ALEGRIA': 0.00028846613713540137, 'MEDO': 0.9996566772460938},\n",
       " {'ALEGRIA': 0.000253624573815614, 'MEDO': 0.999636173248291},\n",
       " {'ALEGRIA': 0.0002748692058958113, 'MEDO': 0.9996891021728516},\n",
       " {'ALEGRIA': 0.00012792936468031257, 'MEDO': 0.9998705387115479},\n",
       " {'ALEGRIA': 0.0004473768640309572, 'MEDO': 0.9993754029273987},\n",
       " {'ALEGRIA': 0.00021310444572009146, 'MEDO': 0.9996238946914673},\n",
       " {'ALEGRIA': 0.00048098189290612936, 'MEDO': 0.9993409514427185},\n",
       " {'ALEGRIA': 0.0004202199343126267, 'MEDO': 0.9991881251335144},\n",
       " {'ALEGRIA': 0.0003744718851521611, 'MEDO': 0.9993871450424194},\n",
       " {'ALEGRIA': 0.0003257018106523901, 'MEDO': 0.9996091723442078},\n",
       " {'ALEGRIA': 0.0006125995423644781, 'MEDO': 0.9993709921836853},\n",
       " {'ALEGRIA': 0.00020549360488075763, 'MEDO': 0.9997103810310364},\n",
       " {'ALEGRIA': 0.0005393860628828406, 'MEDO': 0.9991119503974915},\n",
       " {'ALEGRIA': 0.00028845295310020447, 'MEDO': 0.9992265701293945},\n",
       " {'ALEGRIA': 0.00026127923047170043, 'MEDO': 0.9994816184043884}]"
      ]
     },
     "execution_count": 102,
     "metadata": {},
     "output_type": "execute_result"
    }
   ],
   "source": [
    "previsoes"
   ]
  },
  {
   "cell_type": "code",
   "execution_count": 103,
   "metadata": {},
   "outputs": [],
   "source": [
    "previsoes_final = []\n",
    "for previsao in previsoes:\n",
    "    if previsao['ALEGRIA'] > previsao['MEDO']:\n",
    "        previsoes_final.append('alegria')\n",
    "    else:\n",
    "        previsoes_final.append('medo')\n",
    "previsoes_final = np.array(previsoes_final)"
   ]
  },
  {
   "cell_type": "code",
   "execution_count": 104,
   "metadata": {},
   "outputs": [
    {
     "data": {
      "text/plain": [
       "array(['alegria', 'alegria', 'alegria', 'alegria', 'alegria', 'alegria',\n",
       "       'alegria', 'alegria', 'alegria', 'alegria', 'alegria', 'alegria',\n",
       "       'alegria', 'alegria', 'alegria', 'alegria', 'alegria', 'alegria',\n",
       "       'alegria', 'alegria', 'alegria', 'alegria', 'alegria', 'alegria',\n",
       "       'alegria', 'alegria', 'alegria', 'alegria', 'alegria', 'alegria',\n",
       "       'alegria', 'alegria', 'alegria', 'alegria', 'alegria', 'alegria',\n",
       "       'alegria', 'alegria', 'alegria', 'alegria', 'alegria', 'alegria',\n",
       "       'alegria', 'alegria', 'alegria', 'alegria', 'alegria', 'alegria',\n",
       "       'alegria', 'alegria', 'alegria', 'alegria', 'alegria', 'alegria',\n",
       "       'alegria', 'alegria', 'alegria', 'alegria', 'alegria', 'alegria',\n",
       "       'alegria', 'alegria', 'alegria', 'alegria', 'alegria', 'alegria',\n",
       "       'alegria', 'alegria', 'alegria', 'alegria', 'alegria', 'alegria',\n",
       "       'alegria', 'alegria', 'alegria', 'alegria', 'alegria', 'alegria',\n",
       "       'alegria', 'alegria', 'alegria', 'alegria', 'alegria', 'alegria',\n",
       "       'alegria', 'alegria', 'alegria', 'alegria', 'alegria', 'alegria',\n",
       "       'alegria', 'alegria', 'alegria', 'alegria', 'alegria', 'alegria',\n",
       "       'alegria', 'alegria', 'alegria', 'alegria', 'alegria', 'alegria',\n",
       "       'alegria', 'alegria', 'alegria', 'alegria', 'alegria', 'alegria',\n",
       "       'alegria', 'alegria', 'alegria', 'alegria', 'medo', 'medo', 'medo',\n",
       "       'medo', 'medo', 'medo', 'medo', 'medo', 'medo', 'medo', 'medo',\n",
       "       'medo', 'medo', 'medo', 'medo', 'medo', 'medo', 'medo', 'medo',\n",
       "       'medo', 'medo', 'medo', 'medo', 'medo', 'medo', 'medo', 'medo',\n",
       "       'medo', 'medo', 'medo', 'medo', 'medo', 'medo', 'medo', 'medo',\n",
       "       'medo', 'medo', 'medo', 'medo', 'medo', 'medo', 'medo', 'medo',\n",
       "       'medo', 'medo', 'medo', 'medo', 'medo', 'medo', 'medo', 'medo',\n",
       "       'medo', 'medo', 'medo', 'medo', 'medo', 'medo', 'medo', 'medo',\n",
       "       'medo', 'medo', 'medo', 'medo', 'medo', 'medo', 'medo', 'medo',\n",
       "       'medo', 'medo', 'medo', 'medo', 'medo', 'medo', 'medo', 'medo',\n",
       "       'medo', 'medo', 'medo', 'medo', 'medo', 'medo', 'medo', 'medo',\n",
       "       'medo'], dtype='<U7')"
      ]
     },
     "execution_count": 104,
     "metadata": {},
     "output_type": "execute_result"
    }
   ],
   "source": [
    "previsoes_final"
   ]
  },
  {
   "cell_type": "code",
   "execution_count": 105,
   "metadata": {},
   "outputs": [
    {
     "data": {
      "text/plain": [
       "array(['alegria', 'alegria', 'alegria', 'alegria', 'alegria', 'alegria',\n",
       "       'alegria', 'alegria', 'alegria', 'alegria', 'alegria', 'alegria',\n",
       "       'alegria', 'alegria', 'alegria', 'alegria', 'alegria', 'alegria',\n",
       "       'alegria', 'alegria', 'alegria', 'alegria', 'alegria', 'alegria',\n",
       "       'alegria', 'alegria', 'alegria', 'alegria', 'alegria', 'alegria',\n",
       "       'alegria', 'alegria', 'alegria', 'alegria', 'alegria', 'alegria',\n",
       "       'alegria', 'alegria', 'alegria', 'alegria', 'alegria', 'alegria',\n",
       "       'alegria', 'alegria', 'alegria', 'alegria', 'alegria', 'alegria',\n",
       "       'alegria', 'alegria', 'alegria', 'alegria', 'alegria', 'alegria',\n",
       "       'alegria', 'alegria', 'alegria', 'alegria', 'alegria', 'alegria',\n",
       "       'alegria', 'alegria', 'alegria', 'alegria', 'alegria', 'alegria',\n",
       "       'alegria', 'alegria', 'alegria', 'alegria', 'alegria', 'alegria',\n",
       "       'alegria', 'alegria', 'alegria', 'alegria', 'alegria', 'alegria',\n",
       "       'alegria', 'alegria', 'alegria', 'alegria', 'alegria', 'alegria',\n",
       "       'alegria', 'alegria', 'alegria', 'alegria', 'alegria', 'alegria',\n",
       "       'alegria', 'alegria', 'alegria', 'alegria', 'alegria', 'alegria',\n",
       "       'alegria', 'alegria', 'alegria', 'alegria', 'alegria', 'alegria',\n",
       "       'alegria', 'alegria', 'alegria', 'alegria', 'alegria', 'alegria',\n",
       "       'alegria', 'alegria', 'alegria', 'alegria', 'medo', 'medo', 'medo',\n",
       "       'medo', 'medo', 'medo', 'medo', 'medo', 'medo', 'medo', 'medo',\n",
       "       'medo', 'medo', 'medo', 'medo', 'medo', 'medo', 'medo', 'medo',\n",
       "       'medo', 'medo', 'medo', 'medo', 'medo', 'medo', 'medo', 'medo',\n",
       "       'medo', 'medo', 'medo', 'medo', 'medo', 'medo', 'medo', 'medo',\n",
       "       'medo', 'medo', 'medo', 'medo', 'medo', 'medo', 'medo', 'medo',\n",
       "       'medo', 'medo', 'medo', 'medo', 'medo', 'medo', 'medo', 'medo',\n",
       "       'medo', 'medo', 'medo', 'medo', 'medo', 'medo', 'medo', 'medo',\n",
       "       'medo', 'medo', 'medo', 'medo', 'medo', 'medo', 'medo', 'medo',\n",
       "       'medo', 'medo', 'medo', 'medo', 'medo', 'medo', 'medo', 'medo',\n",
       "       'medo', 'medo', 'medo', 'medo', 'medo', 'medo', 'medo', 'medo',\n",
       "       'medo'], dtype=object)"
      ]
     },
     "execution_count": 105,
     "metadata": {},
     "output_type": "execute_result"
    }
   ],
   "source": [
    "respostas_reais = base_dados['emocao'].values\n",
    "respostas_reais"
   ]
  },
  {
   "cell_type": "code",
   "execution_count": 106,
   "metadata": {},
   "outputs": [
    {
     "data": {
      "text/plain": [
       "1.0"
      ]
     },
     "execution_count": 106,
     "metadata": {},
     "output_type": "execute_result"
    }
   ],
   "source": [
    "from sklearn.metrics import confusion_matrix , accuracy_score\n",
    "accuracy_score(respostas_reais , previsoes_final)"
   ]
  },
  {
   "cell_type": "code",
   "execution_count": 108,
   "metadata": {},
   "outputs": [],
   "source": [
    "cm = confusion_matrix(respostas_reais , previsoes_final)"
   ]
  },
  {
   "cell_type": "code",
   "execution_count": 109,
   "metadata": {},
   "outputs": [
    {
     "data": {
      "text/plain": [
       "array([[112,   0],\n",
       "       [  0,  84]])"
      ]
     },
     "execution_count": 109,
     "metadata": {},
     "output_type": "execute_result"
    }
   ],
   "source": [
    "cm"
   ]
  },
  {
   "cell_type": "code",
   "execution_count": 110,
   "metadata": {},
   "outputs": [],
   "source": [
    "base_dados_test = pd.read_csv('base_teste.txt' , encoding = 'utf-8')"
   ]
  },
  {
   "cell_type": "code",
   "execution_count": 111,
   "metadata": {},
   "outputs": [
    {
     "data": {
      "text/html": [
       "<div>\n",
       "<style scoped>\n",
       "    .dataframe tbody tr th:only-of-type {\n",
       "        vertical-align: middle;\n",
       "    }\n",
       "\n",
       "    .dataframe tbody tr th {\n",
       "        vertical-align: top;\n",
       "    }\n",
       "\n",
       "    .dataframe thead th {\n",
       "        text-align: right;\n",
       "    }\n",
       "</style>\n",
       "<table border=\"1\" class=\"dataframe\">\n",
       "  <thead>\n",
       "    <tr style=\"text-align: right;\">\n",
       "      <th></th>\n",
       "      <th>texto</th>\n",
       "      <th>emocao</th>\n",
       "    </tr>\n",
       "  </thead>\n",
       "  <tbody>\n",
       "    <tr>\n",
       "      <th>0</th>\n",
       "      <td>não precisei pagar o ingresso</td>\n",
       "      <td>alegria</td>\n",
       "    </tr>\n",
       "    <tr>\n",
       "      <th>1</th>\n",
       "      <td>se eu ajeitar tudo fica bem</td>\n",
       "      <td>alegria</td>\n",
       "    </tr>\n",
       "    <tr>\n",
       "      <th>2</th>\n",
       "      <td>minha fortuna ultrapassará a sua</td>\n",
       "      <td>alegria</td>\n",
       "    </tr>\n",
       "    <tr>\n",
       "      <th>3</th>\n",
       "      <td>sou muito afortunado</td>\n",
       "      <td>alegria</td>\n",
       "    </tr>\n",
       "    <tr>\n",
       "      <th>4</th>\n",
       "      <td>é benéfico para todos esta nova medida</td>\n",
       "      <td>alegria</td>\n",
       "    </tr>\n",
       "  </tbody>\n",
       "</table>\n",
       "</div>"
      ],
      "text/plain": [
       "                                    texto   emocao\n",
       "0           não precisei pagar o ingresso  alegria\n",
       "1             se eu ajeitar tudo fica bem  alegria\n",
       "2        minha fortuna ultrapassará a sua  alegria\n",
       "3                    sou muito afortunado  alegria\n",
       "4  é benéfico para todos esta nova medida  alegria"
      ]
     },
     "execution_count": 111,
     "metadata": {},
     "output_type": "execute_result"
    }
   ],
   "source": [
    "base_dados_test.head()"
   ]
  },
  {
   "cell_type": "code",
   "execution_count": 112,
   "metadata": {},
   "outputs": [],
   "source": [
    "base_dados_test['texto'] = base_dados_test['texto'].apply(preprocessing)"
   ]
  },
  {
   "cell_type": "code",
   "execution_count": 113,
   "metadata": {},
   "outputs": [
    {
     "data": {
      "text/html": [
       "<div>\n",
       "<style scoped>\n",
       "    .dataframe tbody tr th:only-of-type {\n",
       "        vertical-align: middle;\n",
       "    }\n",
       "\n",
       "    .dataframe tbody tr th {\n",
       "        vertical-align: top;\n",
       "    }\n",
       "\n",
       "    .dataframe thead th {\n",
       "        text-align: right;\n",
       "    }\n",
       "</style>\n",
       "<table border=\"1\" class=\"dataframe\">\n",
       "  <thead>\n",
       "    <tr style=\"text-align: right;\">\n",
       "      <th></th>\n",
       "      <th>texto</th>\n",
       "      <th>emocao</th>\n",
       "    </tr>\n",
       "  </thead>\n",
       "  <tbody>\n",
       "    <tr>\n",
       "      <th>0</th>\n",
       "      <td>precisar pagar o ingressar</td>\n",
       "      <td>alegria</td>\n",
       "    </tr>\n",
       "    <tr>\n",
       "      <th>1</th>\n",
       "      <td>ajeitar ficar</td>\n",
       "      <td>alegria</td>\n",
       "    </tr>\n",
       "    <tr>\n",
       "      <th>2</th>\n",
       "      <td>fortuna ultrapassar o suar</td>\n",
       "      <td>alegria</td>\n",
       "    </tr>\n",
       "    <tr>\n",
       "      <th>3</th>\n",
       "      <td>afortunar</td>\n",
       "      <td>alegria</td>\n",
       "    </tr>\n",
       "    <tr>\n",
       "      <th>4</th>\n",
       "      <td>benéfico parir medir</td>\n",
       "      <td>alegria</td>\n",
       "    </tr>\n",
       "  </tbody>\n",
       "</table>\n",
       "</div>"
      ],
      "text/plain": [
       "                        texto   emocao\n",
       "0  precisar pagar o ingressar  alegria\n",
       "1               ajeitar ficar  alegria\n",
       "2  fortuna ultrapassar o suar  alegria\n",
       "3                   afortunar  alegria\n",
       "4        benéfico parir medir  alegria"
      ]
     },
     "execution_count": 113,
     "metadata": {},
     "output_type": "execute_result"
    }
   ],
   "source": [
    "base_dados_test.head()"
   ]
  },
  {
   "cell_type": "code",
   "execution_count": 114,
   "metadata": {},
   "outputs": [],
   "source": [
    "previsoes = []\n",
    "for texto in base_dados_test['texto']:\n",
    "    previsao = modelo_carregado(texto)\n",
    "    previsoes.append(previsao.cats)"
   ]
  },
  {
   "cell_type": "code",
   "execution_count": 115,
   "metadata": {},
   "outputs": [],
   "source": [
    "previsoes_final = []\n",
    "for previsao in previsoes:\n",
    "    if previsao['ALEGRIA'] > previsao['MEDO']:\n",
    "        previsoes_final.append('alegria')\n",
    "    else:\n",
    "        previsoes_final.append('medo')\n",
    "previsoes_final = np.array(previsoes_final)"
   ]
  },
  {
   "cell_type": "code",
   "execution_count": 116,
   "metadata": {},
   "outputs": [],
   "source": [
    "respostas_reais = base_dados_test['emocao'].values"
   ]
  },
  {
   "cell_type": "code",
   "execution_count": 117,
   "metadata": {},
   "outputs": [
    {
     "data": {
      "text/plain": [
       "0.5238095238095238"
      ]
     },
     "execution_count": 117,
     "metadata": {},
     "output_type": "execute_result"
    }
   ],
   "source": [
    "accuracy_score(respostas_reais , previsoes_final)"
   ]
  },
  {
   "cell_type": "code",
   "execution_count": 118,
   "metadata": {},
   "outputs": [],
   "source": [
    "cm = confusion_matrix(respostas_reais , previsoes_final)"
   ]
  },
  {
   "cell_type": "code",
   "execution_count": 119,
   "metadata": {},
   "outputs": [
    {
     "data": {
      "text/plain": [
       "array([[30, 18],\n",
       "       [22, 14]])"
      ]
     },
     "execution_count": 119,
     "metadata": {},
     "output_type": "execute_result"
    }
   ],
   "source": [
    "cm"
   ]
  }
 ],
 "metadata": {
  "kernelspec": {
   "display_name": "Python 3",
   "language": "python",
   "name": "python3"
  },
  "language_info": {
   "codemirror_mode": {
    "name": "ipython",
    "version": 3
   },
   "file_extension": ".py",
   "mimetype": "text/x-python",
   "name": "python",
   "nbconvert_exporter": "python",
   "pygments_lexer": "ipython3",
   "version": "3.7.6"
  }
 },
 "nbformat": 4,
 "nbformat_minor": 4
}
