{
 "cells": [
  {
   "cell_type": "code",
   "execution_count": 1,
   "metadata": {},
   "outputs": [],
   "source": [
    "import spacy \n",
    "import numpy as np\n",
    "import string\n",
    "import pandas as pd\n",
    "import random\n",
    "import seaborn as sns\n",
    "import re"
   ]
  },
  {
   "cell_type": "code",
   "execution_count": 4,
   "metadata": {},
   "outputs": [],
   "source": [
    "base_treinamento = pd.read_csv('Train50.csv' , delimiter = ';')"
   ]
  },
  {
   "cell_type": "code",
   "execution_count": 5,
   "metadata": {},
   "outputs": [
    {
     "data": {
      "text/plain": [
       "(50000, 5)"
      ]
     },
     "execution_count": 5,
     "metadata": {},
     "output_type": "execute_result"
    }
   ],
   "source": [
    "base_treinamento.shape"
   ]
  },
  {
   "cell_type": "code",
   "execution_count": 7,
   "metadata": {},
   "outputs": [],
   "source": [
    "# 0 --> NEGATIVO\n",
    "# 1 --> POSITIVO"
   ]
  },
  {
   "cell_type": "code",
   "execution_count": 6,
   "metadata": {},
   "outputs": [
    {
     "data": {
      "text/html": [
       "<div>\n",
       "<style scoped>\n",
       "    .dataframe tbody tr th:only-of-type {\n",
       "        vertical-align: middle;\n",
       "    }\n",
       "\n",
       "    .dataframe tbody tr th {\n",
       "        vertical-align: top;\n",
       "    }\n",
       "\n",
       "    .dataframe thead th {\n",
       "        text-align: right;\n",
       "    }\n",
       "</style>\n",
       "<table border=\"1\" class=\"dataframe\">\n",
       "  <thead>\n",
       "    <tr style=\"text-align: right;\">\n",
       "      <th></th>\n",
       "      <th>id</th>\n",
       "      <th>tweet_text</th>\n",
       "      <th>tweet_date</th>\n",
       "      <th>sentiment</th>\n",
       "      <th>query_used</th>\n",
       "    </tr>\n",
       "  </thead>\n",
       "  <tbody>\n",
       "    <tr>\n",
       "      <th>0</th>\n",
       "      <td>1050785521201541121</td>\n",
       "      <td>@Laranjito76 A pessoa certa para isso seria o ...</td>\n",
       "      <td>Fri Oct 12 16:29:25 +0000 2018</td>\n",
       "      <td>1</td>\n",
       "      <td>:)</td>\n",
       "    </tr>\n",
       "    <tr>\n",
       "      <th>1</th>\n",
       "      <td>1050785431955140608</td>\n",
       "      <td>@behin_d_curtain Para mim, é precisamente o co...</td>\n",
       "      <td>Fri Oct 12 16:29:04 +0000 2018</td>\n",
       "      <td>1</td>\n",
       "      <td>:)</td>\n",
       "    </tr>\n",
       "    <tr>\n",
       "      <th>2</th>\n",
       "      <td>1050785401248645120</td>\n",
       "      <td>Vou fazer um video hoje... estou pensando em f...</td>\n",
       "      <td>Fri Oct 12 16:28:56 +0000 2018</td>\n",
       "      <td>1</td>\n",
       "      <td>:)</td>\n",
       "    </tr>\n",
       "    <tr>\n",
       "      <th>3</th>\n",
       "      <td>1050785370982547461</td>\n",
       "      <td>aaaaaaaa amei tanto essas polaroids, nem sei e...</td>\n",
       "      <td>Fri Oct 12 16:28:49 +0000 2018</td>\n",
       "      <td>1</td>\n",
       "      <td>:)</td>\n",
       "    </tr>\n",
       "    <tr>\n",
       "      <th>4</th>\n",
       "      <td>1050785368902131713</td>\n",
       "      <td>Valoriza o coração do menininho que vc tem. El...</td>\n",
       "      <td>Fri Oct 12 16:28:49 +0000 2018</td>\n",
       "      <td>1</td>\n",
       "      <td>:)</td>\n",
       "    </tr>\n",
       "  </tbody>\n",
       "</table>\n",
       "</div>"
      ],
      "text/plain": [
       "                    id                                         tweet_text  \\\n",
       "0  1050785521201541121  @Laranjito76 A pessoa certa para isso seria o ...   \n",
       "1  1050785431955140608  @behin_d_curtain Para mim, é precisamente o co...   \n",
       "2  1050785401248645120  Vou fazer um video hoje... estou pensando em f...   \n",
       "3  1050785370982547461  aaaaaaaa amei tanto essas polaroids, nem sei e...   \n",
       "4  1050785368902131713  Valoriza o coração do menininho que vc tem. El...   \n",
       "\n",
       "                       tweet_date  sentiment query_used  \n",
       "0  Fri Oct 12 16:29:25 +0000 2018          1         :)  \n",
       "1  Fri Oct 12 16:29:04 +0000 2018          1         :)  \n",
       "2  Fri Oct 12 16:28:56 +0000 2018          1         :)  \n",
       "3  Fri Oct 12 16:28:49 +0000 2018          1         :)  \n",
       "4  Fri Oct 12 16:28:49 +0000 2018          1         :)  "
      ]
     },
     "execution_count": 6,
     "metadata": {},
     "output_type": "execute_result"
    }
   ],
   "source": [
    "base_treinamento.head()"
   ]
  },
  {
   "cell_type": "code",
   "execution_count": 9,
   "metadata": {},
   "outputs": [
    {
     "data": {
      "text/html": [
       "<div>\n",
       "<style scoped>\n",
       "    .dataframe tbody tr th:only-of-type {\n",
       "        vertical-align: middle;\n",
       "    }\n",
       "\n",
       "    .dataframe tbody tr th {\n",
       "        vertical-align: top;\n",
       "    }\n",
       "\n",
       "    .dataframe thead th {\n",
       "        text-align: right;\n",
       "    }\n",
       "</style>\n",
       "<table border=\"1\" class=\"dataframe\">\n",
       "  <thead>\n",
       "    <tr style=\"text-align: right;\">\n",
       "      <th></th>\n",
       "      <th>id</th>\n",
       "      <th>tweet_text</th>\n",
       "      <th>tweet_date</th>\n",
       "      <th>sentiment</th>\n",
       "      <th>query_used</th>\n",
       "    </tr>\n",
       "  </thead>\n",
       "  <tbody>\n",
       "    <tr>\n",
       "      <th>49995</th>\n",
       "      <td>1046762827053232128</td>\n",
       "      <td>:( é tão lindo que dói https://t.co/GqnpgyWWxB</td>\n",
       "      <td>Mon Oct 01 14:04:40 +0000 2018</td>\n",
       "      <td>0</td>\n",
       "      <td>:(</td>\n",
       "    </tr>\n",
       "    <tr>\n",
       "      <th>49996</th>\n",
       "      <td>1046762813362966529</td>\n",
       "      <td>@veraluciarj Pois é.. tenho problema c/ \"coisa...</td>\n",
       "      <td>Mon Oct 01 14:04:37 +0000 2018</td>\n",
       "      <td>0</td>\n",
       "      <td>:(</td>\n",
       "    </tr>\n",
       "    <tr>\n",
       "      <th>49997</th>\n",
       "      <td>1046762806392082432</td>\n",
       "      <td>eu te amo tanto minja vidinha meu bem mais pre...</td>\n",
       "      <td>Mon Oct 01 14:04:35 +0000 2018</td>\n",
       "      <td>0</td>\n",
       "      <td>:(</td>\n",
       "    </tr>\n",
       "    <tr>\n",
       "      <th>49998</th>\n",
       "      <td>1046762752071618560</td>\n",
       "      <td>@itsLary @jessboluda Pfvor :(</td>\n",
       "      <td>Mon Oct 01 14:04:22 +0000 2018</td>\n",
       "      <td>0</td>\n",
       "      <td>:(</td>\n",
       "    </tr>\n",
       "    <tr>\n",
       "      <th>49999</th>\n",
       "      <td>1046762735340584962</td>\n",
       "      <td>@Renk_lol Passa ano Entra ano Eu nao desisto d...</td>\n",
       "      <td>Mon Oct 01 14:04:18 +0000 2018</td>\n",
       "      <td>0</td>\n",
       "      <td>:(</td>\n",
       "    </tr>\n",
       "  </tbody>\n",
       "</table>\n",
       "</div>"
      ],
      "text/plain": [
       "                        id                                         tweet_text  \\\n",
       "49995  1046762827053232128     :( é tão lindo que dói https://t.co/GqnpgyWWxB   \n",
       "49996  1046762813362966529  @veraluciarj Pois é.. tenho problema c/ \"coisa...   \n",
       "49997  1046762806392082432  eu te amo tanto minja vidinha meu bem mais pre...   \n",
       "49998  1046762752071618560                      @itsLary @jessboluda Pfvor :(   \n",
       "49999  1046762735340584962  @Renk_lol Passa ano Entra ano Eu nao desisto d...   \n",
       "\n",
       "                           tweet_date  sentiment query_used  \n",
       "49995  Mon Oct 01 14:04:40 +0000 2018          0         :(  \n",
       "49996  Mon Oct 01 14:04:37 +0000 2018          0         :(  \n",
       "49997  Mon Oct 01 14:04:35 +0000 2018          0         :(  \n",
       "49998  Mon Oct 01 14:04:22 +0000 2018          0         :(  \n",
       "49999  Mon Oct 01 14:04:18 +0000 2018          0         :(  "
      ]
     },
     "execution_count": 9,
     "metadata": {},
     "output_type": "execute_result"
    }
   ],
   "source": [
    "base_treinamento.tail()"
   ]
  },
  {
   "cell_type": "code",
   "execution_count": 11,
   "metadata": {},
   "outputs": [
    {
     "data": {
      "image/png": "[encoded data removed]",
      "text/plain": [
       "<Figure size 432x288 with 1 Axes>"
      ]
     },
     "metadata": {
      "needs_background": "light"
     },
     "output_type": "display_data"
    }
   ],
   "source": [
    "sns.countplot(base_treinamento['sentiment'] , label = 'Contagem');"
   ]
  },
  {
   "cell_type": "code",
   "execution_count": 12,
   "metadata": {},
   "outputs": [],
   "source": [
    "base_treinamento.drop(['id' , 'tweet_date' , 'query_used'] , axis = 1 , inplace = True)"
   ]
  },
  {
   "cell_type": "code",
   "execution_count": 13,
   "metadata": {},
   "outputs": [
    {
     "data": {
      "text/html": [
       "<div>\n",
       "<style scoped>\n",
       "    .dataframe tbody tr th:only-of-type {\n",
       "        vertical-align: middle;\n",
       "    }\n",
       "\n",
       "    .dataframe tbody tr th {\n",
       "        vertical-align: top;\n",
       "    }\n",
       "\n",
       "    .dataframe thead th {\n",
       "        text-align: right;\n",
       "    }\n",
       "</style>\n",
       "<table border=\"1\" class=\"dataframe\">\n",
       "  <thead>\n",
       "    <tr style=\"text-align: right;\">\n",
       "      <th></th>\n",
       "      <th>tweet_text</th>\n",
       "      <th>sentiment</th>\n",
       "    </tr>\n",
       "  </thead>\n",
       "  <tbody>\n",
       "    <tr>\n",
       "      <th>0</th>\n",
       "      <td>@Laranjito76 A pessoa certa para isso seria o ...</td>\n",
       "      <td>1</td>\n",
       "    </tr>\n",
       "    <tr>\n",
       "      <th>1</th>\n",
       "      <td>@behin_d_curtain Para mim, é precisamente o co...</td>\n",
       "      <td>1</td>\n",
       "    </tr>\n",
       "    <tr>\n",
       "      <th>2</th>\n",
       "      <td>Vou fazer um video hoje... estou pensando em f...</td>\n",
       "      <td>1</td>\n",
       "    </tr>\n",
       "    <tr>\n",
       "      <th>3</th>\n",
       "      <td>aaaaaaaa amei tanto essas polaroids, nem sei e...</td>\n",
       "      <td>1</td>\n",
       "    </tr>\n",
       "    <tr>\n",
       "      <th>4</th>\n",
       "      <td>Valoriza o coração do menininho que vc tem. El...</td>\n",
       "      <td>1</td>\n",
       "    </tr>\n",
       "  </tbody>\n",
       "</table>\n",
       "</div>"
      ],
      "text/plain": [
       "                                          tweet_text  sentiment\n",
       "0  @Laranjito76 A pessoa certa para isso seria o ...          1\n",
       "1  @behin_d_curtain Para mim, é precisamente o co...          1\n",
       "2  Vou fazer um video hoje... estou pensando em f...          1\n",
       "3  aaaaaaaa amei tanto essas polaroids, nem sei e...          1\n",
       "4  Valoriza o coração do menininho que vc tem. El...          1"
      ]
     },
     "execution_count": 13,
     "metadata": {},
     "output_type": "execute_result"
    }
   ],
   "source": [
    "base_treinamento.head()"
   ]
  },
  {
   "cell_type": "code",
   "execution_count": 22,
   "metadata": {},
   "outputs": [
    {
     "data": {
      "image/png": "[encoded data removed]",
      "text/plain": [
       "<Figure size 432x288 with 2 Axes>"
      ]
     },
     "metadata": {
      "needs_background": "light"
     },
     "output_type": "display_data"
    }
   ],
   "source": [
    "sns.heatmap(pd.isnull(base_treinamento));"
   ]
  },
  {
   "cell_type": "code",
   "execution_count": 14,
   "metadata": {},
   "outputs": [],
   "source": [
    "base_teste = pd.read_csv('Test.csv' , delimiter = ';')"
   ]
  },
  {
   "cell_type": "code",
   "execution_count": 15,
   "metadata": {},
   "outputs": [
    {
     "data": {
      "text/html": [
       "<div>\n",
       "<style scoped>\n",
       "    .dataframe tbody tr th:only-of-type {\n",
       "        vertical-align: middle;\n",
       "    }\n",
       "\n",
       "    .dataframe tbody tr th {\n",
       "        vertical-align: top;\n",
       "    }\n",
       "\n",
       "    .dataframe thead th {\n",
       "        text-align: right;\n",
       "    }\n",
       "</style>\n",
       "<table border=\"1\" class=\"dataframe\">\n",
       "  <thead>\n",
       "    <tr style=\"text-align: right;\">\n",
       "      <th></th>\n",
       "      <th>id</th>\n",
       "      <th>tweet_text</th>\n",
       "      <th>tweet_date</th>\n",
       "      <th>sentiment</th>\n",
       "      <th>query_used</th>\n",
       "    </tr>\n",
       "  </thead>\n",
       "  <tbody>\n",
       "    <tr>\n",
       "      <th>0</th>\n",
       "      <td>1029536486021099522</td>\n",
       "      <td>@Gazo1a Nossa! Muito obrigada :)</td>\n",
       "      <td>Wed Aug 15 01:13:20 +0000 2018</td>\n",
       "      <td>1</td>\n",
       "      <td>:)</td>\n",
       "    </tr>\n",
       "    <tr>\n",
       "      <th>1</th>\n",
       "      <td>1029536496368406528</td>\n",
       "      <td>@BerzGamer vai pa puta que te pariu :)</td>\n",
       "      <td>Wed Aug 15 01:13:23 +0000 2018</td>\n",
       "      <td>1</td>\n",
       "      <td>:)</td>\n",
       "    </tr>\n",
       "    <tr>\n",
       "      <th>2</th>\n",
       "      <td>1029536531655131137</td>\n",
       "      <td>QUER MAIS DESCONTOS? (14/08) ⭐⭐⭐⭐⭐ 🌐 Confira n...</td>\n",
       "      <td>Wed Aug 15 01:13:31 +0000 2018</td>\n",
       "      <td>1</td>\n",
       "      <td>:)</td>\n",
       "    </tr>\n",
       "    <tr>\n",
       "      <th>3</th>\n",
       "      <td>1029536560117678081</td>\n",
       "      <td>EU VOU PEGAR VCS, ME AJUDEM GALERA, PELO AMOR ...</td>\n",
       "      <td>Wed Aug 15 01:13:38 +0000 2018</td>\n",
       "      <td>1</td>\n",
       "      <td>:)</td>\n",
       "    </tr>\n",
       "    <tr>\n",
       "      <th>4</th>\n",
       "      <td>1029536605852377088</td>\n",
       "      <td>Estávamos em casa do Zé e eu estava a morrer d...</td>\n",
       "      <td>Wed Aug 15 01:13:49 +0000 2018</td>\n",
       "      <td>1</td>\n",
       "      <td>:)</td>\n",
       "    </tr>\n",
       "  </tbody>\n",
       "</table>\n",
       "</div>"
      ],
      "text/plain": [
       "                    id                                         tweet_text  \\\n",
       "0  1029536486021099522                   @Gazo1a Nossa! Muito obrigada :)   \n",
       "1  1029536496368406528             @BerzGamer vai pa puta que te pariu :)   \n",
       "2  1029536531655131137  QUER MAIS DESCONTOS? (14/08) ⭐⭐⭐⭐⭐ 🌐 Confira n...   \n",
       "3  1029536560117678081  EU VOU PEGAR VCS, ME AJUDEM GALERA, PELO AMOR ...   \n",
       "4  1029536605852377088  Estávamos em casa do Zé e eu estava a morrer d...   \n",
       "\n",
       "                       tweet_date  sentiment query_used  \n",
       "0  Wed Aug 15 01:13:20 +0000 2018          1         :)  \n",
       "1  Wed Aug 15 01:13:23 +0000 2018          1         :)  \n",
       "2  Wed Aug 15 01:13:31 +0000 2018          1         :)  \n",
       "3  Wed Aug 15 01:13:38 +0000 2018          1         :)  \n",
       "4  Wed Aug 15 01:13:49 +0000 2018          1         :)  "
      ]
     },
     "execution_count": 15,
     "metadata": {},
     "output_type": "execute_result"
    }
   ],
   "source": [
    "base_teste.head()"
   ]
  },
  {
   "cell_type": "code",
   "execution_count": 16,
   "metadata": {},
   "outputs": [
    {
     "data": {
      "text/html": [
       "<div>\n",
       "<style scoped>\n",
       "    .dataframe tbody tr th:only-of-type {\n",
       "        vertical-align: middle;\n",
       "    }\n",
       "\n",
       "    .dataframe tbody tr th {\n",
       "        vertical-align: top;\n",
       "    }\n",
       "\n",
       "    .dataframe thead th {\n",
       "        text-align: right;\n",
       "    }\n",
       "</style>\n",
       "<table border=\"1\" class=\"dataframe\">\n",
       "  <thead>\n",
       "    <tr style=\"text-align: right;\">\n",
       "      <th></th>\n",
       "      <th>id</th>\n",
       "      <th>tweet_text</th>\n",
       "      <th>tweet_date</th>\n",
       "      <th>sentiment</th>\n",
       "      <th>query_used</th>\n",
       "    </tr>\n",
       "  </thead>\n",
       "  <tbody>\n",
       "    <tr>\n",
       "      <th>4995</th>\n",
       "      <td>1030528364145201153</td>\n",
       "      <td>@ol_cdanilo parece livro de autoajuda :(</td>\n",
       "      <td>Fri Aug 17 18:54:42 +0000 2018</td>\n",
       "      <td>0</td>\n",
       "      <td>:(</td>\n",
       "    </tr>\n",
       "    <tr>\n",
       "      <th>4996</th>\n",
       "      <td>1030528418235015168</td>\n",
       "      <td>@tatazoquita aaaaa sinto muito :((</td>\n",
       "      <td>Fri Aug 17 18:54:55 +0000 2018</td>\n",
       "      <td>0</td>\n",
       "      <td>:(</td>\n",
       "    </tr>\n",
       "    <tr>\n",
       "      <th>4997</th>\n",
       "      <td>1030528446122930176</td>\n",
       "      <td>To começando a sentir dor de novo e meu irmão ...</td>\n",
       "      <td>Fri Aug 17 18:55:02 +0000 2018</td>\n",
       "      <td>0</td>\n",
       "      <td>:(</td>\n",
       "    </tr>\n",
       "    <tr>\n",
       "      <th>4998</th>\n",
       "      <td>1030528453752352769</td>\n",
       "      <td>@ichbintw parece que no dia que toma a vacina ...</td>\n",
       "      <td>Fri Aug 17 18:55:04 +0000 2018</td>\n",
       "      <td>0</td>\n",
       "      <td>:(</td>\n",
       "    </tr>\n",
       "    <tr>\n",
       "      <th>4999</th>\n",
       "      <td>1030528465521586177</td>\n",
       "      <td>@nessagomesc @laymuniz23 poxaa acho q essa q v...</td>\n",
       "      <td>Fri Aug 17 18:55:07 +0000 2018</td>\n",
       "      <td>0</td>\n",
       "      <td>:(</td>\n",
       "    </tr>\n",
       "  </tbody>\n",
       "</table>\n",
       "</div>"
      ],
      "text/plain": [
       "                       id                                         tweet_text  \\\n",
       "4995  1030528364145201153           @ol_cdanilo parece livro de autoajuda :(   \n",
       "4996  1030528418235015168                 @tatazoquita aaaaa sinto muito :((   \n",
       "4997  1030528446122930176  To começando a sentir dor de novo e meu irmão ...   \n",
       "4998  1030528453752352769  @ichbintw parece que no dia que toma a vacina ...   \n",
       "4999  1030528465521586177  @nessagomesc @laymuniz23 poxaa acho q essa q v...   \n",
       "\n",
       "                          tweet_date  sentiment query_used  \n",
       "4995  Fri Aug 17 18:54:42 +0000 2018          0         :(  \n",
       "4996  Fri Aug 17 18:54:55 +0000 2018          0         :(  \n",
       "4997  Fri Aug 17 18:55:02 +0000 2018          0         :(  \n",
       "4998  Fri Aug 17 18:55:04 +0000 2018          0         :(  \n",
       "4999  Fri Aug 17 18:55:07 +0000 2018          0         :(  "
      ]
     },
     "execution_count": 16,
     "metadata": {},
     "output_type": "execute_result"
    }
   ],
   "source": [
    "base_teste.tail()"
   ]
  },
  {
   "cell_type": "code",
   "execution_count": 17,
   "metadata": {},
   "outputs": [
    {
     "data": {
      "text/plain": [
       "(5000, 5)"
      ]
     },
     "execution_count": 17,
     "metadata": {},
     "output_type": "execute_result"
    }
   ],
   "source": [
    "base_teste.shape"
   ]
  },
  {
   "cell_type": "code",
   "execution_count": 19,
   "metadata": {},
   "outputs": [
    {
     "data": {
      "image/png": "[encoded data removed]",
      "text/plain": [
       "<Figure size 432x288 with 1 Axes>"
      ]
     },
     "metadata": {
      "needs_background": "light"
     },
     "output_type": "display_data"
    }
   ],
   "source": [
    "sns.countplot(base_teste['sentiment'] , label = 'Contagem');"
   ]
  },
  {
   "cell_type": "code",
   "execution_count": 20,
   "metadata": {},
   "outputs": [],
   "source": [
    "base_teste.drop(['id' , 'tweet_date' , 'query_used'] , axis = 1 , inplace = True)"
   ]
  },
  {
   "cell_type": "code",
   "execution_count": 21,
   "metadata": {},
   "outputs": [
    {
     "data": {
      "text/html": [
       "<div>\n",
       "<style scoped>\n",
       "    .dataframe tbody tr th:only-of-type {\n",
       "        vertical-align: middle;\n",
       "    }\n",
       "\n",
       "    .dataframe tbody tr th {\n",
       "        vertical-align: top;\n",
       "    }\n",
       "\n",
       "    .dataframe thead th {\n",
       "        text-align: right;\n",
       "    }\n",
       "</style>\n",
       "<table border=\"1\" class=\"dataframe\">\n",
       "  <thead>\n",
       "    <tr style=\"text-align: right;\">\n",
       "      <th></th>\n",
       "      <th>tweet_text</th>\n",
       "      <th>sentiment</th>\n",
       "    </tr>\n",
       "  </thead>\n",
       "  <tbody>\n",
       "    <tr>\n",
       "      <th>0</th>\n",
       "      <td>@Gazo1a Nossa! Muito obrigada :)</td>\n",
       "      <td>1</td>\n",
       "    </tr>\n",
       "    <tr>\n",
       "      <th>1</th>\n",
       "      <td>@BerzGamer vai pa puta que te pariu :)</td>\n",
       "      <td>1</td>\n",
       "    </tr>\n",
       "    <tr>\n",
       "      <th>2</th>\n",
       "      <td>QUER MAIS DESCONTOS? (14/08) ⭐⭐⭐⭐⭐ 🌐 Confira n...</td>\n",
       "      <td>1</td>\n",
       "    </tr>\n",
       "    <tr>\n",
       "      <th>3</th>\n",
       "      <td>EU VOU PEGAR VCS, ME AJUDEM GALERA, PELO AMOR ...</td>\n",
       "      <td>1</td>\n",
       "    </tr>\n",
       "    <tr>\n",
       "      <th>4</th>\n",
       "      <td>Estávamos em casa do Zé e eu estava a morrer d...</td>\n",
       "      <td>1</td>\n",
       "    </tr>\n",
       "  </tbody>\n",
       "</table>\n",
       "</div>"
      ],
      "text/plain": [
       "                                          tweet_text  sentiment\n",
       "0                   @Gazo1a Nossa! Muito obrigada :)          1\n",
       "1             @BerzGamer vai pa puta que te pariu :)          1\n",
       "2  QUER MAIS DESCONTOS? (14/08) ⭐⭐⭐⭐⭐ 🌐 Confira n...          1\n",
       "3  EU VOU PEGAR VCS, ME AJUDEM GALERA, PELO AMOR ...          1\n",
       "4  Estávamos em casa do Zé e eu estava a morrer d...          1"
      ]
     },
     "execution_count": 21,
     "metadata": {},
     "output_type": "execute_result"
    }
   ],
   "source": [
    "base_teste.head()"
   ]
  },
  {
   "cell_type": "code",
   "execution_count": 23,
   "metadata": {},
   "outputs": [
    {
     "data": {
      "image/png": "[encoded data removed]",
      "text/plain": [
       "<Figure size 432x288 with 2 Axes>"
      ]
     },
     "metadata": {
      "needs_background": "light"
     },
     "output_type": "display_data"
    }
   ],
   "source": [
    "sns.heatmap(pd.isnull(base_teste));"
   ]
  },
  {
   "cell_type": "code",
   "execution_count": 24,
   "metadata": {},
   "outputs": [],
   "source": [
    "pln = spacy.load('pt')"
   ]
  },
  {
   "cell_type": "code",
   "execution_count": 25,
   "metadata": {},
   "outputs": [
    {
     "data": {
      "text/plain": [
       "<spacy.lang.pt.Portuguese at 0x7fe2f31ad290>"
      ]
     },
     "execution_count": 25,
     "metadata": {},
     "output_type": "execute_result"
    }
   ],
   "source": [
    "pln"
   ]
  },
  {
   "cell_type": "code",
   "execution_count": 26,
   "metadata": {},
   "outputs": [
    {
     "data": {
      "text/plain": [
       "'@behin_d_curtain Para mim, é precisamente o contrário :) Vem a chuva e vem a boa disposição :)'"
      ]
     },
     "execution_count": 26,
     "metadata": {},
     "output_type": "execute_result"
    }
   ],
   "source": [
    "base_treinamento['tweet_text'][1]"
   ]
  },
  {
   "cell_type": "code",
   "execution_count": 27,
   "metadata": {},
   "outputs": [],
   "source": [
    "stop_words = spacy.lang.pt.stop_words.STOP_WORDS"
   ]
  },
  {
   "cell_type": "code",
   "execution_count": 28,
   "metadata": {},
   "outputs": [
    {
     "data": {
      "text/plain": [
       "{'acerca',\n",
       " 'ademais',\n",
       " 'adeus',\n",
       " 'agora',\n",
       " 'ainda',\n",
       " 'algo',\n",
       " 'algumas',\n",
       " 'alguns',\n",
       " 'ali',\n",
       " 'além',\n",
       " 'ambas',\n",
       " 'ambos',\n",
       " 'antes',\n",
       " 'ao',\n",
       " 'aos',\n",
       " 'apenas',\n",
       " 'apoia',\n",
       " 'apoio',\n",
       " 'apontar',\n",
       " 'após',\n",
       " 'aquela',\n",
       " 'aquelas',\n",
       " 'aquele',\n",
       " 'aqueles',\n",
       " 'aqui',\n",
       " 'aquilo',\n",
       " 'as',\n",
       " 'assim',\n",
       " 'através',\n",
       " 'atrás',\n",
       " 'até',\n",
       " 'aí',\n",
       " 'baixo',\n",
       " 'bastante',\n",
       " 'bem',\n",
       " 'boa',\n",
       " 'bom',\n",
       " 'breve',\n",
       " 'cada',\n",
       " 'caminho',\n",
       " 'catorze',\n",
       " 'cedo',\n",
       " 'cento',\n",
       " 'certamente',\n",
       " 'certeza',\n",
       " 'cima',\n",
       " 'cinco',\n",
       " 'coisa',\n",
       " 'com',\n",
       " 'como',\n",
       " 'comprida',\n",
       " 'comprido',\n",
       " 'conhecida',\n",
       " 'conhecido',\n",
       " 'conselho',\n",
       " 'contra',\n",
       " 'contudo',\n",
       " 'corrente',\n",
       " 'cuja',\n",
       " 'cujo',\n",
       " 'custa',\n",
       " 'cá',\n",
       " 'da',\n",
       " 'daquela',\n",
       " 'daquele',\n",
       " 'dar',\n",
       " 'das',\n",
       " 'de',\n",
       " 'debaixo',\n",
       " 'demais',\n",
       " 'dentro',\n",
       " 'depois',\n",
       " 'des',\n",
       " 'desde',\n",
       " 'dessa',\n",
       " 'desse',\n",
       " 'desta',\n",
       " 'deste',\n",
       " 'deve',\n",
       " 'devem',\n",
       " 'deverá',\n",
       " 'dez',\n",
       " 'dezanove',\n",
       " 'dezasseis',\n",
       " 'dezassete',\n",
       " 'dezoito',\n",
       " 'diante',\n",
       " 'direita',\n",
       " 'disso',\n",
       " 'diz',\n",
       " 'dizem',\n",
       " 'dizer',\n",
       " 'do',\n",
       " 'dois',\n",
       " 'dos',\n",
       " 'doze',\n",
       " 'duas',\n",
       " 'dá',\n",
       " 'dão',\n",
       " 'ela',\n",
       " 'elas',\n",
       " 'ele',\n",
       " 'eles',\n",
       " 'em',\n",
       " 'embora',\n",
       " 'enquanto',\n",
       " 'entre',\n",
       " 'então',\n",
       " 'era',\n",
       " 'essa',\n",
       " 'essas',\n",
       " 'esse',\n",
       " 'esses',\n",
       " 'esta',\n",
       " 'estado',\n",
       " 'estar',\n",
       " 'estará',\n",
       " 'estas',\n",
       " 'estava',\n",
       " 'este',\n",
       " 'estes',\n",
       " 'esteve',\n",
       " 'estive',\n",
       " 'estivemos',\n",
       " 'estiveram',\n",
       " 'estiveste',\n",
       " 'estivestes',\n",
       " 'estou',\n",
       " 'está',\n",
       " 'estás',\n",
       " 'estão',\n",
       " 'eu',\n",
       " 'eventual',\n",
       " 'exemplo',\n",
       " 'falta',\n",
       " 'fará',\n",
       " 'favor',\n",
       " 'faz',\n",
       " 'fazeis',\n",
       " 'fazem',\n",
       " 'fazemos',\n",
       " 'fazer',\n",
       " 'fazes',\n",
       " 'fazia',\n",
       " 'faço',\n",
       " 'fez',\n",
       " 'fim',\n",
       " 'final',\n",
       " 'foi',\n",
       " 'fomos',\n",
       " 'for',\n",
       " 'fora',\n",
       " 'foram',\n",
       " 'forma',\n",
       " 'foste',\n",
       " 'fostes',\n",
       " 'fui',\n",
       " 'geral',\n",
       " 'grande',\n",
       " 'grandes',\n",
       " 'grupo',\n",
       " 'inclusive',\n",
       " 'iniciar',\n",
       " 'inicio',\n",
       " 'ir',\n",
       " 'irá',\n",
       " 'isso',\n",
       " 'isto',\n",
       " 'já',\n",
       " 'lado',\n",
       " 'lhe',\n",
       " 'ligado',\n",
       " 'local',\n",
       " 'logo',\n",
       " 'longe',\n",
       " 'lugar',\n",
       " 'lá',\n",
       " 'maior',\n",
       " 'maioria',\n",
       " 'maiorias',\n",
       " 'mais',\n",
       " 'mal',\n",
       " 'mas',\n",
       " 'me',\n",
       " 'meio',\n",
       " 'menor',\n",
       " 'menos',\n",
       " 'meses',\n",
       " 'mesmo',\n",
       " 'meu',\n",
       " 'meus',\n",
       " 'mil',\n",
       " 'minha',\n",
       " 'minhas',\n",
       " 'momento',\n",
       " 'muito',\n",
       " 'muitos',\n",
       " 'máximo',\n",
       " 'mês',\n",
       " 'na',\n",
       " 'nada',\n",
       " 'naquela',\n",
       " 'naquele',\n",
       " 'nas',\n",
       " 'nem',\n",
       " 'nenhuma',\n",
       " 'nessa',\n",
       " 'nesse',\n",
       " 'nesta',\n",
       " 'neste',\n",
       " 'no',\n",
       " 'nos',\n",
       " 'nossa',\n",
       " 'nossas',\n",
       " 'nosso',\n",
       " 'nossos',\n",
       " 'nova',\n",
       " 'novas',\n",
       " 'nove',\n",
       " 'novo',\n",
       " 'novos',\n",
       " 'num',\n",
       " 'numa',\n",
       " 'nunca',\n",
       " 'nuns',\n",
       " 'não',\n",
       " 'nível',\n",
       " 'nós',\n",
       " 'número',\n",
       " 'números',\n",
       " 'obrigada',\n",
       " 'obrigado',\n",
       " 'oitava',\n",
       " 'oitavo',\n",
       " 'oito',\n",
       " 'onde',\n",
       " 'ontem',\n",
       " 'onze',\n",
       " 'ora',\n",
       " 'os',\n",
       " 'ou',\n",
       " 'outra',\n",
       " 'outras',\n",
       " 'outros',\n",
       " 'para',\n",
       " 'parece',\n",
       " 'parte',\n",
       " 'partir',\n",
       " 'pegar',\n",
       " 'pela',\n",
       " 'pelas',\n",
       " 'pelo',\n",
       " 'pelos',\n",
       " 'perto',\n",
       " 'pode',\n",
       " 'podem',\n",
       " 'poder',\n",
       " 'poderá',\n",
       " 'podia',\n",
       " 'pois',\n",
       " 'ponto',\n",
       " 'pontos',\n",
       " 'por',\n",
       " 'porquanto',\n",
       " 'porque',\n",
       " 'porquê',\n",
       " 'portanto',\n",
       " 'porém',\n",
       " 'posição',\n",
       " 'possivelmente',\n",
       " 'posso',\n",
       " 'possível',\n",
       " 'pouca',\n",
       " 'pouco',\n",
       " 'povo',\n",
       " 'primeira',\n",
       " 'primeiro',\n",
       " 'próprio',\n",
       " 'próxima',\n",
       " 'próximo',\n",
       " 'puderam',\n",
       " 'pôde',\n",
       " 'põe',\n",
       " 'põem',\n",
       " 'quais',\n",
       " 'qual',\n",
       " 'qualquer',\n",
       " 'quando',\n",
       " 'quanto',\n",
       " 'quarta',\n",
       " 'quarto',\n",
       " 'quatro',\n",
       " 'que',\n",
       " 'quem',\n",
       " 'quer',\n",
       " 'querem',\n",
       " 'quero',\n",
       " 'questão',\n",
       " 'quieta',\n",
       " 'quieto',\n",
       " 'quinta',\n",
       " 'quinto',\n",
       " 'quinze',\n",
       " 'quê',\n",
       " 'relação',\n",
       " 'sabe',\n",
       " 'saber',\n",
       " 'se',\n",
       " 'segunda',\n",
       " 'segundo',\n",
       " 'sei',\n",
       " 'seis',\n",
       " 'sem',\n",
       " 'sempre',\n",
       " 'ser',\n",
       " 'seria',\n",
       " 'sete',\n",
       " 'seu',\n",
       " 'seus',\n",
       " 'sexta',\n",
       " 'sexto',\n",
       " 'sim',\n",
       " 'sistema',\n",
       " 'sob',\n",
       " 'sobre',\n",
       " 'sois',\n",
       " 'somente',\n",
       " 'somos',\n",
       " 'sou',\n",
       " 'sua',\n",
       " 'suas',\n",
       " 'são',\n",
       " 'sétima',\n",
       " 'sétimo',\n",
       " 'só',\n",
       " 'tais',\n",
       " 'tal',\n",
       " 'talvez',\n",
       " 'também',\n",
       " 'tanta',\n",
       " 'tanto',\n",
       " 'tarde',\n",
       " 'te',\n",
       " 'tem',\n",
       " 'temos',\n",
       " 'tempo',\n",
       " 'tendes',\n",
       " 'tenho',\n",
       " 'tens',\n",
       " 'tentar',\n",
       " 'tentaram',\n",
       " 'tente',\n",
       " 'tentei',\n",
       " 'ter',\n",
       " 'terceira',\n",
       " 'terceiro',\n",
       " 'teu',\n",
       " 'teus',\n",
       " 'teve',\n",
       " 'tipo',\n",
       " 'tive',\n",
       " 'tivemos',\n",
       " 'tiveram',\n",
       " 'tiveste',\n",
       " 'tivestes',\n",
       " 'toda',\n",
       " 'todas',\n",
       " 'todo',\n",
       " 'todos',\n",
       " 'treze',\n",
       " 'três',\n",
       " 'tu',\n",
       " 'tua',\n",
       " 'tuas',\n",
       " 'tudo',\n",
       " 'tão',\n",
       " 'têm',\n",
       " 'um',\n",
       " 'uma',\n",
       " 'umas',\n",
       " 'uns',\n",
       " 'usa',\n",
       " 'usar',\n",
       " 'vai',\n",
       " 'vais',\n",
       " 'valor',\n",
       " 'veja',\n",
       " 'vem',\n",
       " 'vens',\n",
       " 'ver',\n",
       " 'vez',\n",
       " 'vezes',\n",
       " 'vinda',\n",
       " 'vindo',\n",
       " 'vinte',\n",
       " 'você',\n",
       " 'vocês',\n",
       " 'vos',\n",
       " 'vossa',\n",
       " 'vossas',\n",
       " 'vosso',\n",
       " 'vossos',\n",
       " 'vários',\n",
       " 'vão',\n",
       " 'vêm',\n",
       " 'vós',\n",
       " 'zero',\n",
       " 'à',\n",
       " 'às',\n",
       " 'área',\n",
       " 'é',\n",
       " 'és',\n",
       " 'último'}"
      ]
     },
     "execution_count": 28,
     "metadata": {},
     "output_type": "execute_result"
    }
   ],
   "source": [
    "stop_words"
   ]
  },
  {
   "cell_type": "code",
   "execution_count": 30,
   "metadata": {},
   "outputs": [
    {
     "data": {
      "text/plain": [
       "'!\"#$%&\\'()*+,-./:;<=>?@[\\\\]^_`{|}~'"
      ]
     },
     "execution_count": 30,
     "metadata": {},
     "output_type": "execute_result"
    }
   ],
   "source": [
    "string.punctuation"
   ]
  },
  {
   "cell_type": "code",
   "execution_count": 52,
   "metadata": {},
   "outputs": [],
   "source": [
    "def preprocessing(texto):\n",
    "    \n",
    "    #Colocando texto em lowercase\n",
    "    texto = texto.lower()\n",
    "    #Limpando o nome de usuário\n",
    "    texto = re.sub(r\"@[A-Za-z0-9$-_@.&+]+\" , ' ' , texto)\n",
    "    #Limpando urls\n",
    "    texto = re.sub(r\"https?://[A-Za-z0-9./]+\" , ' ' , texto)\n",
    "    #Limpando espaços em branco\n",
    "    texto = re.sub(r\" +\" , ' ' , texto)\n",
    "    #Limpando emoticons\n",
    "    lista_emocoes = {':)' : 'emocaopositiva' , ':d' : 'emocaopositiva',':(' : 'emocaonegativa'}\n",
    "    for emocao in lista_emocoes:\n",
    "        texto = texto.replace(emocao , lista_emocoes[emocao])\n",
    "    #Lematização\n",
    "    documento = pln(texto)\n",
    "    lista = []\n",
    "    for token in documento:\n",
    "        lista.append(token.lemma_)\n",
    "    #Limpando stop words e pontuação\n",
    "    lista = [palavra for palavra in lista if palavra not in stop_words and palavra not in string.punctuation]\n",
    "    \n",
    "    #Reconstruindo a frase\n",
    "    lista = ' '.join([str(elemento) for elemento in lista if not elemento.isdigit()])\n",
    "    \n",
    "    return lista"
   ]
  },
  {
   "cell_type": "code",
   "execution_count": 53,
   "metadata": {},
   "outputs": [
    {
     "data": {
      "text/plain": [
       "'  parir emocaonegativa mim precisamente o contrário emocaopositiva vir o chuva e vir o disposição emocaopositiva'"
      ]
     },
     "execution_count": 53,
     "metadata": {},
     "output_type": "execute_result"
    }
   ],
   "source": [
    "texto_teste = '@behin_d_curtain Para :( mim, é http://www.google.com precisamente o contrário :) Vem a chuva e vem a boa disposição :)'\n",
    "result = preprocessing(texto_teste)\n",
    "result"
   ]
  },
  {
   "cell_type": "code",
   "execution_count": 54,
   "metadata": {},
   "outputs": [
    {
     "data": {
      "text/html": [
       "<div>\n",
       "<style scoped>\n",
       "    .dataframe tbody tr th:only-of-type {\n",
       "        vertical-align: middle;\n",
       "    }\n",
       "\n",
       "    .dataframe tbody tr th {\n",
       "        vertical-align: top;\n",
       "    }\n",
       "\n",
       "    .dataframe thead th {\n",
       "        text-align: right;\n",
       "    }\n",
       "</style>\n",
       "<table border=\"1\" class=\"dataframe\">\n",
       "  <thead>\n",
       "    <tr style=\"text-align: right;\">\n",
       "      <th></th>\n",
       "      <th>tweet_text</th>\n",
       "      <th>sentiment</th>\n",
       "    </tr>\n",
       "  </thead>\n",
       "  <tbody>\n",
       "    <tr>\n",
       "      <th>0</th>\n",
       "      <td>@Laranjito76 A pessoa certa para isso seria o ...</td>\n",
       "      <td>1</td>\n",
       "    </tr>\n",
       "    <tr>\n",
       "      <th>1</th>\n",
       "      <td>@behin_d_curtain Para mim, é precisamente o co...</td>\n",
       "      <td>1</td>\n",
       "    </tr>\n",
       "    <tr>\n",
       "      <th>2</th>\n",
       "      <td>Vou fazer um video hoje... estou pensando em f...</td>\n",
       "      <td>1</td>\n",
       "    </tr>\n",
       "    <tr>\n",
       "      <th>3</th>\n",
       "      <td>aaaaaaaa amei tanto essas polaroids, nem sei e...</td>\n",
       "      <td>1</td>\n",
       "    </tr>\n",
       "    <tr>\n",
       "      <th>4</th>\n",
       "      <td>Valoriza o coração do menininho que vc tem. El...</td>\n",
       "      <td>1</td>\n",
       "    </tr>\n",
       "    <tr>\n",
       "      <th>5</th>\n",
       "      <td>@KingJokerLeto mas amiga eu to aqui ainda :)</td>\n",
       "      <td>1</td>\n",
       "    </tr>\n",
       "    <tr>\n",
       "      <th>6</th>\n",
       "      <td>@RivasJairo Bravo, Jairo!!! :)))</td>\n",
       "      <td>1</td>\n",
       "    </tr>\n",
       "    <tr>\n",
       "      <th>7</th>\n",
       "      <td>@inquilinasls @Spotify socorro ksoaksosks acho...</td>\n",
       "      <td>1</td>\n",
       "    </tr>\n",
       "    <tr>\n",
       "      <th>8</th>\n",
       "      <td>@chimekarlla gosto muito de fazenda :) , mas m...</td>\n",
       "      <td>1</td>\n",
       "    </tr>\n",
       "    <tr>\n",
       "      <th>9</th>\n",
       "      <td>Amanha vou ver venom :D</td>\n",
       "      <td>1</td>\n",
       "    </tr>\n",
       "  </tbody>\n",
       "</table>\n",
       "</div>"
      ],
      "text/plain": [
       "                                          tweet_text  sentiment\n",
       "0  @Laranjito76 A pessoa certa para isso seria o ...          1\n",
       "1  @behin_d_curtain Para mim, é precisamente o co...          1\n",
       "2  Vou fazer um video hoje... estou pensando em f...          1\n",
       "3  aaaaaaaa amei tanto essas polaroids, nem sei e...          1\n",
       "4  Valoriza o coração do menininho que vc tem. El...          1\n",
       "5       @KingJokerLeto mas amiga eu to aqui ainda :)          1\n",
       "6                   @RivasJairo Bravo, Jairo!!! :)))          1\n",
       "7  @inquilinasls @Spotify socorro ksoaksosks acho...          1\n",
       "8  @chimekarlla gosto muito de fazenda :) , mas m...          1\n",
       "9                            Amanha vou ver venom :D          1"
      ]
     },
     "execution_count": 54,
     "metadata": {},
     "output_type": "execute_result"
    }
   ],
   "source": [
    "base_treinamento.head(10)"
   ]
  },
  {
   "cell_type": "code",
   "execution_count": 56,
   "metadata": {},
   "outputs": [],
   "source": [
    "base_treinamento['tweet_text'] = base_treinamento['tweet_text'].apply(preprocessing)"
   ]
  },
  {
   "cell_type": "code",
   "execution_count": 57,
   "metadata": {},
   "outputs": [
    {
     "data": {
      "text/html": [
       "<div>\n",
       "<style scoped>\n",
       "    .dataframe tbody tr th:only-of-type {\n",
       "        vertical-align: middle;\n",
       "    }\n",
       "\n",
       "    .dataframe tbody tr th {\n",
       "        vertical-align: top;\n",
       "    }\n",
       "\n",
       "    .dataframe thead th {\n",
       "        text-align: right;\n",
       "    }\n",
       "</style>\n",
       "<table border=\"1\" class=\"dataframe\">\n",
       "  <thead>\n",
       "    <tr style=\"text-align: right;\">\n",
       "      <th></th>\n",
       "      <th>tweet_text</th>\n",
       "      <th>sentiment</th>\n",
       "    </tr>\n",
       "  </thead>\n",
       "  <tbody>\n",
       "    <tr>\n",
       "      <th>0</th>\n",
       "      <td>o pessoa certo parir seriar o valer e azeved...</td>\n",
       "      <td>1</td>\n",
       "    </tr>\n",
       "    <tr>\n",
       "      <th>1</th>\n",
       "      <td>parir mim precisamente o contrário emocaopos...</td>\n",
       "      <td>1</td>\n",
       "    </tr>\n",
       "    <tr>\n",
       "      <th>2</th>\n",
       "      <td>video hoje ... pensar falar sobrar o meter csg...</td>\n",
       "      <td>1</td>\n",
       "    </tr>\n",
       "    <tr>\n",
       "      <th>3</th>\n",
       "      <td>aaaaaaaa amar polaroids expressar o quantum to...</td>\n",
       "      <td>1</td>\n",
       "    </tr>\n",
       "    <tr>\n",
       "      <th>4</th>\n",
       "      <td>valorizar o coração menino vc diferente o sorr...</td>\n",
       "      <td>1</td>\n",
       "    </tr>\n",
       "  </tbody>\n",
       "</table>\n",
       "</div>"
      ],
      "text/plain": [
       "                                          tweet_text  sentiment\n",
       "0    o pessoa certo parir seriar o valer e azeved...          1\n",
       "1    parir mim precisamente o contrário emocaopos...          1\n",
       "2  video hoje ... pensar falar sobrar o meter csg...          1\n",
       "3  aaaaaaaa amar polaroids expressar o quantum to...          1\n",
       "4  valorizar o coração menino vc diferente o sorr...          1"
      ]
     },
     "execution_count": 57,
     "metadata": {},
     "output_type": "execute_result"
    }
   ],
   "source": [
    "base_treinamento.head()"
   ]
  },
  {
   "cell_type": "code",
   "execution_count": 58,
   "metadata": {},
   "outputs": [
    {
     "data": {
      "text/html": [
       "<div>\n",
       "<style scoped>\n",
       "    .dataframe tbody tr th:only-of-type {\n",
       "        vertical-align: middle;\n",
       "    }\n",
       "\n",
       "    .dataframe tbody tr th {\n",
       "        vertical-align: top;\n",
       "    }\n",
       "\n",
       "    .dataframe thead th {\n",
       "        text-align: right;\n",
       "    }\n",
       "</style>\n",
       "<table border=\"1\" class=\"dataframe\">\n",
       "  <thead>\n",
       "    <tr style=\"text-align: right;\">\n",
       "      <th></th>\n",
       "      <th>tweet_text</th>\n",
       "      <th>sentiment</th>\n",
       "    </tr>\n",
       "  </thead>\n",
       "  <tbody>\n",
       "    <tr>\n",
       "      <th>0</th>\n",
       "      <td>@Gazo1a Nossa! Muito obrigada :)</td>\n",
       "      <td>1</td>\n",
       "    </tr>\n",
       "    <tr>\n",
       "      <th>1</th>\n",
       "      <td>@BerzGamer vai pa puta que te pariu :)</td>\n",
       "      <td>1</td>\n",
       "    </tr>\n",
       "    <tr>\n",
       "      <th>2</th>\n",
       "      <td>QUER MAIS DESCONTOS? (14/08) ⭐⭐⭐⭐⭐ 🌐 Confira n...</td>\n",
       "      <td>1</td>\n",
       "    </tr>\n",
       "    <tr>\n",
       "      <th>3</th>\n",
       "      <td>EU VOU PEGAR VCS, ME AJUDEM GALERA, PELO AMOR ...</td>\n",
       "      <td>1</td>\n",
       "    </tr>\n",
       "    <tr>\n",
       "      <th>4</th>\n",
       "      <td>Estávamos em casa do Zé e eu estava a morrer d...</td>\n",
       "      <td>1</td>\n",
       "    </tr>\n",
       "  </tbody>\n",
       "</table>\n",
       "</div>"
      ],
      "text/plain": [
       "                                          tweet_text  sentiment\n",
       "0                   @Gazo1a Nossa! Muito obrigada :)          1\n",
       "1             @BerzGamer vai pa puta que te pariu :)          1\n",
       "2  QUER MAIS DESCONTOS? (14/08) ⭐⭐⭐⭐⭐ 🌐 Confira n...          1\n",
       "3  EU VOU PEGAR VCS, ME AJUDEM GALERA, PELO AMOR ...          1\n",
       "4  Estávamos em casa do Zé e eu estava a morrer d...          1"
      ]
     },
     "execution_count": 58,
     "metadata": {},
     "output_type": "execute_result"
    }
   ],
   "source": [
    "base_teste.head()"
   ]
  },
  {
   "cell_type": "code",
   "execution_count": 59,
   "metadata": {},
   "outputs": [],
   "source": [
    "base_teste['tweet_text'] = base_teste['tweet_text'].apply(preprocessing)"
   ]
  },
  {
   "cell_type": "code",
   "execution_count": 60,
   "metadata": {},
   "outputs": [
    {
     "data": {
      "text/html": [
       "<div>\n",
       "<style scoped>\n",
       "    .dataframe tbody tr th:only-of-type {\n",
       "        vertical-align: middle;\n",
       "    }\n",
       "\n",
       "    .dataframe tbody tr th {\n",
       "        vertical-align: top;\n",
       "    }\n",
       "\n",
       "    .dataframe thead th {\n",
       "        text-align: right;\n",
       "    }\n",
       "</style>\n",
       "<table border=\"1\" class=\"dataframe\">\n",
       "  <thead>\n",
       "    <tr style=\"text-align: right;\">\n",
       "      <th></th>\n",
       "      <th>tweet_text</th>\n",
       "      <th>sentiment</th>\n",
       "    </tr>\n",
       "  </thead>\n",
       "  <tbody>\n",
       "    <tr>\n",
       "      <th>0</th>\n",
       "      <td>obrigar emocaopositiva</td>\n",
       "      <td>1</td>\n",
       "    </tr>\n",
       "    <tr>\n",
       "      <th>1</th>\n",
       "      <td>pa puta parir emocaopositiva</td>\n",
       "      <td>1</td>\n",
       "    </tr>\n",
       "    <tr>\n",
       "      <th>2</th>\n",
       "      <td>querer desconto 14/08 ⭐ ⭐ ⭐ ⭐ ⭐ 🌐 conferir o l...</td>\n",
       "      <td>1</td>\n",
       "    </tr>\n",
       "    <tr>\n",
       "      <th>3</th>\n",
       "      <td>vcs ajudar galera pelar amor butera emocaoposi...</td>\n",
       "      <td>1</td>\n",
       "    </tr>\n",
       "    <tr>\n",
       "      <th>4</th>\n",
       "      <td>casar zé e o morrer sono chegar o casar e fica...</td>\n",
       "      <td>1</td>\n",
       "    </tr>\n",
       "  </tbody>\n",
       "</table>\n",
       "</div>"
      ],
      "text/plain": [
       "                                          tweet_text  sentiment\n",
       "0                             obrigar emocaopositiva          1\n",
       "1                       pa puta parir emocaopositiva          1\n",
       "2  querer desconto 14/08 ⭐ ⭐ ⭐ ⭐ ⭐ 🌐 conferir o l...          1\n",
       "3  vcs ajudar galera pelar amor butera emocaoposi...          1\n",
       "4  casar zé e o morrer sono chegar o casar e fica...          1"
      ]
     },
     "execution_count": 60,
     "metadata": {},
     "output_type": "execute_result"
    }
   ],
   "source": [
    "base_teste.head()"
   ]
  },
  {
   "cell_type": "code",
   "execution_count": 62,
   "metadata": {},
   "outputs": [],
   "source": [
    "base_dados_treinamento_final = []\n",
    "for texto, emocao in zip(base_treinamento['tweet_text'], base_treinamento['sentiment']):\n",
    "    if emocao == 1:\n",
    "        dic = ({'POSITIVO': True, 'NEGATIVO': False})\n",
    "    elif emocao == 0:\n",
    "        dic = ({'POSITIVO': False, 'NEGATIVO': True})\n",
    "\n",
    "    base_dados_treinamento_final.append([texto, dic.copy()])"
   ]
  },
  {
   "cell_type": "code",
   "execution_count": 63,
   "metadata": {},
   "outputs": [
    {
     "data": {
      "text/plain": [
       "50000"
      ]
     },
     "execution_count": 63,
     "metadata": {},
     "output_type": "execute_result"
    }
   ],
   "source": [
    "len(base_dados_treinamento_final)"
   ]
  },
  {
   "cell_type": "code",
   "execution_count": 64,
   "metadata": {},
   "outputs": [
    {
     "data": {
      "text/plain": [
       "[['o comedir umar rotina e perfeitamente parir consolidar o escola condução :p',\n",
       "  {'POSITIVO': True, 'NEGATIVO': False}],\n",
       " ['amigar parecer apaixonar vc — recíproco emocaopositiva',\n",
       "  {'POSITIVO': True, 'NEGATIVO': False}],\n",
       " ['  gajar bacano aleijar esperar e o silvar feliz emocaopositiva',\n",
       "  {'POSITIVO': True, 'NEGATIVO': False}]]"
      ]
     },
     "execution_count": 64,
     "metadata": {},
     "output_type": "execute_result"
    }
   ],
   "source": [
    "base_dados_treinamento_final[11:14]"
   ]
  },
  {
   "cell_type": "code",
   "execution_count": 67,
   "metadata": {},
   "outputs": [],
   "source": [
    "modelo = spacy.blank('pt')\n",
    "categorias = modelo.create_pipe('textcat')\n",
    "categorias.add_label('POSITIVO')\n",
    "categorias.add_label('NEGATIVO')\n",
    "modelo.add_pipe(categorias)\n",
    "historico = []"
   ]
  },
  {
   "cell_type": "code",
   "execution_count": 68,
   "metadata": {},
   "outputs": [
    {
     "name": "stdout",
     "output_type": "stream",
     "text": [
      "{'textcat': 0.0001089635103238007}\n",
      "{'textcat': 2.300395121604057e-06}\n"
     ]
    }
   ],
   "source": [
    "modelo.begin_training()\n",
    "\n",
    "for epoca in range(20):\n",
    "    random.shuffle(base_dados_treinamento_final)\n",
    "    losses = {}\n",
    "    for batch in spacy.util.minibatch(base_dados_treinamento_final,256):\n",
    "        textos = [modelo(texto) for texto, entities in batch]\n",
    "        annotations = [{'cats' : entities} for texto,entities in batch]\n",
    "        modelo.update(textos, annotations,losses = losses)\n",
    "        historico.append(losses)\n",
    "    if(epoca%10 == 0):\n",
    "        print(losses)"
   ]
  },
  {
   "cell_type": "code",
   "execution_count": 77,
   "metadata": {},
   "outputs": [],
   "source": [
    "historico_loss = []\n",
    "for i in historico:\n",
    "    historico_loss.append(i.get('textcat'))"
   ]
  },
  {
   "cell_type": "code",
   "execution_count": 78,
   "metadata": {},
   "outputs": [],
   "source": [
    "historico_loss = np.array(historico_loss)"
   ]
  },
  {
   "cell_type": "code",
   "execution_count": 79,
   "metadata": {},
   "outputs": [
    {
     "data": {
      "text/plain": [
       "array([1.08963510e-04, 1.08963510e-04, 1.08963510e-04, ...,\n",
       "       2.93085305e-06, 2.93085305e-06, 2.93085305e-06])"
      ]
     },
     "execution_count": 79,
     "metadata": {},
     "output_type": "execute_result"
    }
   ],
   "source": [
    "historico_loss"
   ]
  },
  {
   "cell_type": "code",
   "execution_count": 80,
   "metadata": {},
   "outputs": [
    {
     "data": {
      "text/plain": [
       "Text(0, 0.5, 'Erro')"
      ]
     },
     "execution_count": 80,
     "metadata": {},
     "output_type": "execute_result"
    },
    {
     "data": {
      "image/png": "[encoded data removed]",
      "text/plain": [
       "<Figure size 432x288 with 1 Axes>"
      ]
     },
     "metadata": {
      "needs_background": "light"
     },
     "output_type": "display_data"
    }
   ],
   "source": [
    "import matplotlib.pyplot as plt \n",
    "\n",
    "plt.plot(historico_loss)\n",
    "plt.title('Progressão do erro')\n",
    "plt.xlabel('Épocas')\n",
    "plt.ylabel('Erro')"
   ]
  },
  {
   "cell_type": "code",
   "execution_count": 81,
   "metadata": {},
   "outputs": [],
   "source": [
    "modelo.to_disk(\"modelo_tweets\")"
   ]
  },
  {
   "cell_type": "code",
   "execution_count": 82,
   "metadata": {},
   "outputs": [
    {
     "data": {
      "text/plain": [
       "<spacy.lang.pt.Portuguese at 0x7fe2e718e290>"
      ]
     },
     "execution_count": 82,
     "metadata": {},
     "output_type": "execute_result"
    }
   ],
   "source": [
    "modelo_carregado = spacy.load(\"modelo_tweets\")\n",
    "modelo_carregado"
   ]
  },
  {
   "cell_type": "code",
   "execution_count": 83,
   "metadata": {},
   "outputs": [
    {
     "data": {
      "text/plain": [
       "'  ficar feliz q recíproco emocaopositiva'"
      ]
     },
     "execution_count": 83,
     "metadata": {},
     "output_type": "execute_result"
    }
   ],
   "source": [
    "texto_positivo = base_teste['tweet_text'][21]\n",
    "texto_positivo"
   ]
  },
  {
   "cell_type": "code",
   "execution_count": 84,
   "metadata": {},
   "outputs": [
    {
     "data": {
      "text/plain": [
       "  ficar feliz q recíproco emocaopositiva"
      ]
     },
     "execution_count": 84,
     "metadata": {},
     "output_type": "execute_result"
    }
   ],
   "source": [
    "previsao = modelo_carregado(texto_positivo)\n",
    "previsao"
   ]
  },
  {
   "cell_type": "code",
   "execution_count": 85,
   "metadata": {},
   "outputs": [
    {
     "data": {
      "text/plain": [
       "{'POSITIVO': 0.9960654377937317, 'NEGATIVO': 0.004609782248735428}"
      ]
     },
     "execution_count": 85,
     "metadata": {},
     "output_type": "execute_result"
    }
   ],
   "source": [
    "previsao.cats"
   ]
  },
  {
   "cell_type": "code",
   "execution_count": 86,
   "metadata": {},
   "outputs": [
    {
     "data": {
      "text/plain": [
       "'gostar'"
      ]
     },
     "execution_count": 86,
     "metadata": {},
     "output_type": "execute_result"
    }
   ],
   "source": [
    "texto_positivo = 'Eu gosto muito de você'\n",
    "texto_positivo = preprocessing(texto_positivo)\n",
    "texto_positivo"
   ]
  },
  {
   "cell_type": "code",
   "execution_count": 87,
   "metadata": {},
   "outputs": [
    {
     "data": {
      "text/plain": [
       "{'POSITIVO': 0.002029325347393751, 'NEGATIVO': 0.9954258799552917}"
      ]
     },
     "execution_count": 87,
     "metadata": {},
     "output_type": "execute_result"
    }
   ],
   "source": [
    "modelo_carregado(texto_positivo).cats"
   ]
  },
  {
   "cell_type": "code",
   "execution_count": 88,
   "metadata": {},
   "outputs": [
    {
     "data": {
      "text/plain": [
       "'tô triste filmar mulan o mushu emocaonegativa'"
      ]
     },
     "execution_count": 88,
     "metadata": {},
     "output_type": "execute_result"
    }
   ],
   "source": [
    "texto_negativo = base_teste['tweet_text'][4000]\n",
    "texto_negativo"
   ]
  },
  {
   "cell_type": "code",
   "execution_count": 89,
   "metadata": {},
   "outputs": [
    {
     "data": {
      "text/plain": [
       "tô triste filmar mulan o mushu emocaonegativa"
      ]
     },
     "execution_count": 89,
     "metadata": {},
     "output_type": "execute_result"
    }
   ],
   "source": [
    "previsao = modelo_carregado(texto_negativo)\n",
    "previsao"
   ]
  },
  {
   "cell_type": "code",
   "execution_count": 90,
   "metadata": {},
   "outputs": [
    {
     "data": {
      "text/plain": [
       "{'POSITIVO': 4.539786823443137e-05, 'NEGATIVO': 0.9983978867530823}"
      ]
     },
     "execution_count": 90,
     "metadata": {},
     "output_type": "execute_result"
    }
   ],
   "source": [
    "previsao.cats"
   ]
  },
  {
   "cell_type": "code",
   "execution_count": 91,
   "metadata": {},
   "outputs": [],
   "source": [
    "previsoes = []\n",
    "for texto in base_treinamento['tweet_text']:\n",
    "    previsao = modelo_carregado(texto)\n",
    "    previsoes.append(previsao.cats)"
   ]
  },
  {
   "cell_type": "code",
   "execution_count": 92,
   "metadata": {},
   "outputs": [],
   "source": [
    "previsoes_final = []\n",
    "for previsao in previsoes:\n",
    "    if previsao['POSITIVO'] > previsao['NEGATIVO']:\n",
    "        previsoes_final.append(1)\n",
    "    else:\n",
    "        previsoes_final.append(0)\n",
    "\n",
    "previsoes_final = np.array(previsoes_final)"
   ]
  },
  {
   "cell_type": "code",
   "execution_count": 93,
   "metadata": {},
   "outputs": [
    {
     "data": {
      "text/plain": [
       "array([1, 1, 1, ..., 0, 0, 0])"
      ]
     },
     "execution_count": 93,
     "metadata": {},
     "output_type": "execute_result"
    }
   ],
   "source": [
    "previsoes_final"
   ]
  },
  {
   "cell_type": "code",
   "execution_count": 94,
   "metadata": {},
   "outputs": [
    {
     "data": {
      "text/plain": [
       "array([1, 1, 1, ..., 0, 0, 0])"
      ]
     },
     "execution_count": 94,
     "metadata": {},
     "output_type": "execute_result"
    }
   ],
   "source": [
    "respostas_reais = base_treinamento['sentiment'].values\n",
    "respostas_reais"
   ]
  },
  {
   "cell_type": "code",
   "execution_count": 95,
   "metadata": {},
   "outputs": [
    {
     "data": {
      "text/plain": [
       "0.99952"
      ]
     },
     "execution_count": 95,
     "metadata": {},
     "output_type": "execute_result"
    }
   ],
   "source": [
    "from sklearn.metrics import confusion_matrix, accuracy_score\n",
    "accuracy_score(respostas_reais, previsoes_final)"
   ]
  },
  {
   "cell_type": "code",
   "execution_count": 96,
   "metadata": {},
   "outputs": [
    {
     "data": {
      "text/plain": [
       "array([[24984,    16],\n",
       "       [    8, 24992]])"
      ]
     },
     "execution_count": 96,
     "metadata": {},
     "output_type": "execute_result"
    }
   ],
   "source": [
    "cm = confusion_matrix(respostas_reais, previsoes_final)\n",
    "cm"
   ]
  },
  {
   "cell_type": "code",
   "execution_count": 97,
   "metadata": {},
   "outputs": [
    {
     "data": {
      "text/plain": [
       "<matplotlib.axes._subplots.AxesSubplot at 0x7fe2e54de910>"
      ]
     },
     "execution_count": 97,
     "metadata": {},
     "output_type": "execute_result"
    },
    {
     "data": {
      "image/png": "[encoded data removed]",
      "text/plain": [
       "<Figure size 432x288 with 2 Axes>"
      ]
     },
     "metadata": {
      "needs_background": "light"
     },
     "output_type": "display_data"
    }
   ],
   "source": [
    "sns.heatmap(cm, annot=True)"
   ]
  },
  {
   "cell_type": "code",
   "execution_count": 98,
   "metadata": {},
   "outputs": [],
   "source": [
    "previsoes = []\n",
    "for texto in base_teste['tweet_text']:\n",
    "    previsao = modelo_carregado(texto)\n",
    "    previsoes.append(previsao.cats)"
   ]
  },
  {
   "cell_type": "code",
   "execution_count": 99,
   "metadata": {},
   "outputs": [],
   "source": [
    "previsoes_final = []\n",
    "for previsao in previsoes:\n",
    "    if previsao['POSITIVO'] > previsao['NEGATIVO']:\n",
    "        previsoes_final.append(1)\n",
    "    else:\n",
    "        previsoes_final.append(0)\n",
    "previsoes_final = np.array(previsoes_final)"
   ]
  },
  {
   "cell_type": "code",
   "execution_count": 100,
   "metadata": {},
   "outputs": [],
   "source": [
    "respostas_reais = base_teste['sentiment'].values"
   ]
  },
  {
   "cell_type": "code",
   "execution_count": 101,
   "metadata": {},
   "outputs": [
    {
     "data": {
      "text/plain": [
       "0.9978"
      ]
     },
     "execution_count": 101,
     "metadata": {},
     "output_type": "execute_result"
    }
   ],
   "source": [
    "accuracy_score(respostas_reais, previsoes_final)"
   ]
  },
  {
   "cell_type": "code",
   "execution_count": 102,
   "metadata": {},
   "outputs": [
    {
     "data": {
      "text/plain": [
       "array([[2494,    6],\n",
       "       [   5, 2495]])"
      ]
     },
     "execution_count": 102,
     "metadata": {},
     "output_type": "execute_result"
    }
   ],
   "source": [
    "cm = confusion_matrix(respostas_reais, previsoes_final)\n",
    "cm"
   ]
  },
  {
   "cell_type": "code",
   "execution_count": 103,
   "metadata": {},
   "outputs": [
    {
     "data": {
      "text/plain": [
       "<matplotlib.axes._subplots.AxesSubplot at 0x7fe2e5462b50>"
      ]
     },
     "execution_count": 103,
     "metadata": {},
     "output_type": "execute_result"
    },
    {
     "data": {
      "image/png": "[encoded data removed]",
      "text/plain": [
       "<Figure size 432x288 with 2 Axes>"
      ]
     },
     "metadata": {
      "needs_background": "light"
     },
     "output_type": "display_data"
    }
   ],
   "source": [
    "sns.heatmap(cm, annot=True)"
   ]
  }
 ],
 "metadata": {
  "kernelspec": {
   "display_name": "Python 3",
   "language": "python",
   "name": "python3"
  },
  "language_info": {
   "codemirror_mode": {
    "name": "ipython",
    "version": 3
   },
   "file_extension": ".py",
   "mimetype": "text/x-python",
   "name": "python",
   "nbconvert_exporter": "python",
   "pygments_lexer": "ipython3",
   "version": "3.7.6"
  }
 },
 "nbformat": 4,
 "nbformat_minor": 4
}
